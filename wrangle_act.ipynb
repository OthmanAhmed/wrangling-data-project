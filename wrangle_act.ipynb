{
 "metadata": {
  "language_info": {
   "codemirror_mode": {
    "name": "ipython",
    "version": 3
   },
   "file_extension": ".py",
   "mimetype": "text/x-python",
   "name": "python",
   "nbconvert_exporter": "python",
   "pygments_lexer": "ipython3",
   "version": "3.6.10-final"
  },
  "orig_nbformat": 2,
  "kernelspec": {
   "name": "python3",
   "display_name": "Python 3"
  }
 },
 "nbformat": 4,
 "nbformat_minor": 2,
 "cells": [
  {
   "cell_type": "markdown",
   "metadata": {},
   "source": [
    "# Wrangle Act File  "
   ]
  },
  {
   "cell_type": "code",
   "execution_count": 273,
   "metadata": {},
   "outputs": [],
   "source": [
    "import pandas as pd \n",
    "import requests \n",
    "import tweepy \n",
    "from tweepy import OAuthHandler\n",
    "import json\n",
    "from matplotlib import pyplot as plt"
   ]
  },
  {
   "cell_type": "markdown",
   "metadata": {},
   "source": [
    "## Gather"
   ]
  },
  {
   "cell_type": "markdown",
   "metadata": {},
   "source": [
    "### Hand On File"
   ]
  },
  {
   "cell_type": "code",
   "execution_count": 2,
   "metadata": {},
   "outputs": [],
   "source": [
    "# importing from file directly \n",
    "tw_archive = pd.read_csv('twitter-archive-enhanced.csv')"
   ]
  },
  {
   "cell_type": "markdown",
   "metadata": {},
   "source": [
    "### Downloading using response library"
   ]
  },
  {
   "cell_type": "code",
   "execution_count": 38,
   "metadata": {},
   "outputs": [],
   "source": [
    "###******** This Runs Once *********###\n",
    "url = 'https://d17h27t6h515a5.cloudfront.net/topher/2017/August/599fd2ad_image-predictions/image-predictions.tsv'\n",
    "\n",
    "response = requests.get(url)"
   ]
  },
  {
   "cell_type": "code",
   "execution_count": 39,
   "metadata": {},
   "outputs": [],
   "source": [
    "###******** This Runs Once *********###\n",
    "with open('saved_work/image-predictions.tsv', 'wb') as file:\n",
    "    file.write(response.content)\n"
   ]
  },
  {
   "cell_type": "code",
   "execution_count": 3,
   "metadata": {},
   "outputs": [],
   "source": [
    "img_pred = pd.read_csv('saved_work/image-predictions.tsv', sep='\\t')"
   ]
  },
  {
   "cell_type": "markdown",
   "metadata": {},
   "source": [
    "### Downloading tweets data using tweepy"
   ]
  },
  {
   "cell_type": "code",
   "execution_count": 8,
   "metadata": {},
   "outputs": [],
   "source": [
    "###******** This Runs Once *********###\n",
    "# Getting The API keys \n",
    "keys_df = pd.read_csv(\"resources/tweepy.csv\")\n",
    "\n",
    "consumer_key = keys_df.loc[keys_df.name == 'key', 'value'].iloc[0]\n",
    "consumer_secret = keys_df.loc[keys_df.name == 'secret-key', 'value'].iloc[0]\n",
    "access_token = keys_df.loc[keys_df.name == 'access-token', 'value'].iloc[0]\n",
    "access_secret = keys_df.loc[keys_df.name == 'access-secret', 'value'].iloc[0]\n",
    "\n",
    "auth = OAuthHandler(consumer_key, consumer_secret)\n",
    "auth.set_access_token(access_token, access_secret)\n",
    "api = tweepy.API(auth, wait_on_rate_limit=True)"
   ]
  },
  {
   "cell_type": "code",
   "execution_count": 17,
   "metadata": {
    "tags": [
     "outputPrepend"
    ]
   },
   "outputs": [
    {
     "output_type": "stream",
     "name": "stdout",
     "text": "123072: TweepError(\"Failed to send request: HTTPSConnectionPool(host='api.twitter.com', port=443): Max retries exceeded with url: /1.1/statuses/show.json?id=680221482581123072&tweet_mode=extended (Caused by NewConnectionError('<urllib3.connection.HTTPSConnection object at 0x7fb9c664f048>: Failed to establish a new connection: [Errno -2] Name or service not known',))\",), 680206703334408192: TweepError(\"Failed to send request: HTTPSConnectionPool(host='api.twitter.com', port=443): Max retries exceeded with url: /1.1/statuses/show.json?id=680206703334408192&tweet_mode=extended (Caused by NewConnectionError('<urllib3.connection.HTTPSConnection object at 0x7fb9c664f518>: Failed to establish a new connection: [Errno -2] Name or service not known',))\",), 680191257256136705: TweepError(\"Failed to send request: HTTPSConnectionPool(host='api.twitter.com', port=443): Max retries exceeded with url: /1.1/statuses/show.json?id=680191257256136705&tweet_mode=extended (Caused by NewConnectionError('<urllib3.connection.HTTPSConnection object at 0x7fb9c6656048>: Failed to establish a new connection: [Errno -2] Name or service not known',))\",), 680176173301628928: TweepError(\"Failed to send request: HTTPSConnectionPool(host='api.twitter.com', port=443): Max retries exceeded with url: /1.1/statuses/show.json?id=680176173301628928&tweet_mode=extended (Caused by NewConnectionError('<urllib3.connection.HTTPSConnection object at 0x7fb9c66565f8>: Failed to establish a new connection: [Errno -2] Name or service not known',))\",), 680161097740095489: TweepError(\"Failed to send request: HTTPSConnectionPool(host='api.twitter.com', port=443): Max retries exceeded with url: /1.1/statuses/show.json?id=680161097740095489&tweet_mode=extended (Caused by NewConnectionError('<urllib3.connection.HTTPSConnection object at 0x7fb9c66620f0>: Failed to establish a new connection: [Errno -2] Name or service not known',))\",), 680145970311643136: TweepError(\"Failed to send request: HTTPSConnectionPool(host='api.twitter.com', port=443): Max retries exceeded with url: /1.1/statuses/show.json?id=680145970311643136&tweet_mode=extended (Caused by NewConnectionError('<urllib3.connection.HTTPSConnection object at 0x7fb9c66626d8>: Failed to establish a new connection: [Errno -2] Name or service not known',))\",), 680130881361686529: TweepError(\"Failed to send request: HTTPSConnectionPool(host='api.twitter.com', port=443): Max retries exceeded with url: /1.1/statuses/show.json?id=680130881361686529&tweet_mode=extended (Caused by NewConnectionError('<urllib3.connection.HTTPSConnection object at 0x7fb9c9d191d0>: Failed to establish a new connection: [Errno -2] Name or service not known',))\",), 680115823365742593: TweepError(\"Failed to send request: HTTPSConnectionPool(host='api.twitter.com', port=443): Max retries exceeded with url: /1.1/statuses/show.json?id=680115823365742593&tweet_mode=extended (Caused by NewConnectionError('<urllib3.connection.HTTPSConnection object at 0x7fb9c9d197b8>: Failed to establish a new connection: [Errno -2] Name or service not known',))\",), 680100725817409536: TweepError(\"Failed to send request: HTTPSConnectionPool(host='api.twitter.com', port=443): Max retries exceeded with url: /1.1/statuses/show.json?id=680100725817409536&tweet_mode=extended (Caused by NewConnectionError('<urllib3.connection.HTTPSConnection object at 0x7fb9c9d17048>: Failed to establish a new connection: [Errno -2] Name or service not known',))\",), 680085611152338944: TweepError(\"Failed to send request: HTTPSConnectionPool(host='api.twitter.com', port=443): Max retries exceeded with url: /1.1/statuses/show.json?id=680085611152338944&tweet_mode=extended (Caused by NewConnectionError('<urllib3.connection.HTTPSConnection object at 0x7fb9c9d17898>: Failed to establish a new connection: [Errno -2] Name or service not known',))\",), 680070545539371008: TweepError(\"Failed to send request: HTTPSConnectionPool(host='api.twitter.com', port=443): Max retries exceeded with url: /1.1/statuses/show.json?id=680070545539371008&tweet_mode=extended (Caused by NewConnectionError('<urllib3.connection.HTTPSConnection object at 0x7fb9c6630cc0>: Failed to establish a new connection: [Errno -2] Name or service not known',))\",), 680055455951884288: TweepError(\"Failed to send request: HTTPSConnectionPool(host='api.twitter.com', port=443): Max retries exceeded with url: /1.1/statuses/show.json?id=680055455951884288&tweet_mode=extended (Caused by NewConnectionError('<urllib3.connection.HTTPSConnection object at 0x7fb9c9d09518>: Failed to establish a new connection: [Errno -2] Name or service not known',))\",), 679877062409191424: TweepError(\"Failed to send request: HTTPSConnectionPool(host='api.twitter.com', port=443): Max retries exceeded with url: /1.1/statuses/show.json?id=679877062409191424&tweet_mode=extended (Caused by NewConnectionError('<urllib3.connection.HTTPSConnection object at 0x7fb9c9d0e048>: Failed to establish a new connection: [Errno -2] Name or service not known',))\",), 679872969355714560: TweepError(\"Failed to send request: HTTPSConnectionPool(host='api.twitter.com', port=443): Max retries exceeded with url: /1.1/statuses/show.json?id=679872969355714560&tweet_mode=extended (Caused by NewConnectionError('<urllib3.connection.HTTPSConnection object at 0x7fb9c9d0e5f8>: Failed to establish a new connection: [Errno -2] Name or service not known',))\",), 679862121895714818: TweepError(\"Failed to send request: HTTPSConnectionPool(host='api.twitter.com', port=443): Max retries exceeded with url: /1.1/statuses/show.json?id=679862121895714818&tweet_mode=extended (Caused by NewConnectionError('<urllib3.connection.HTTPSConnection object at 0x7fb9c9d110f0>: Failed to establish a new connection: [Errno -2] Name or service not known',))\",), 679854723806179328: TweepError(\"Failed to send request: HTTPSConnectionPool(host='api.twitter.com', port=443): Max retries exceeded with url: /1.1/statuses/show.json?id=679854723806179328&tweet_mode=extended (Caused by NewConnectionError('<urllib3.connection.HTTPSConnection object at 0x7fb9c9d116d8>: Failed to establish a new connection: [Errno -2] Name or service not known',))\",), 679844490799091713: TweepError(\"Failed to send request: HTTPSConnectionPool(host='api.twitter.com', port=443): Max retries exceeded with url: /1.1/statuses/show.json?id=679844490799091713&tweet_mode=extended (Caused by NewConnectionError('<urllib3.connection.HTTPSConnection object at 0x7fb9ca1e21d0>: Failed to establish a new connection: [Errno -2] Name or service not known',))\",), 679828447187857408: TweepError(\"Failed to send request: HTTPSConnectionPool(host='api.twitter.com', port=443): Max retries exceeded with url: /1.1/statuses/show.json?id=679828447187857408&tweet_mode=extended (Caused by NewConnectionError('<urllib3.connection.HTTPSConnection object at 0x7fb9ca1e27b8>: Failed to establish a new connection: [Errno -2] Name or service not known',))\",), 679777920601223168: TweepError(\"Failed to send request: HTTPSConnectionPool(host='api.twitter.com', port=443): Max retries exceeded with url: /1.1/statuses/show.json?id=679777920601223168&tweet_mode=extended (Caused by NewConnectionError('<urllib3.connection.HTTPSConnection object at 0x7fb9ca1e3048>: Failed to establish a new connection: [Errno -2] Name or service not known',))\",), 679736210798047232: TweepError(\"Failed to send request: HTTPSConnectionPool(host='api.twitter.com', port=443): Max retries exceeded with url: /1.1/statuses/show.json?id=679736210798047232&tweet_mode=extended (Caused by NewConnectionError('<urllib3.connection.HTTPSConnection object at 0x7fb9ca1e3898>: Failed to establish a new connection: [Errno -2] Name or service not known',))\",), 679729593985699840: TweepError(\"Failed to send request: HTTPSConnectionPool(host='api.twitter.com', port=443): Max retries exceeded with url: /1.1/statuses/show.json?id=679729593985699840&tweet_mode=extended (Caused by NewConnectionError('<urllib3.connection.HTTPSConnection object at 0x7fb9ca1df128>: Failed to establish a new connection: [Errno -2] Name or service not known',))\",), 679722016581222400: TweepError(\"Failed to send request: HTTPSConnectionPool(host='api.twitter.com', port=443): Max retries exceeded with url: /1.1/statuses/show.json?id=679722016581222400&tweet_mode=extended (Caused by NewConnectionError('<urllib3.connection.HTTPSConnection object at 0x7fb9ca1df978>: Failed to establish a new connection: [Errno -2] Name or service not known',))\",), 679530280114372609: TweepError(\"Failed to send request: HTTPSConnectionPool(host='api.twitter.com', port=443): Max retries exceeded with url: /1.1/statuses/show.json?id=679530280114372609&tweet_mode=extended (Caused by NewConnectionError('<urllib3.connection.HTTPSConnection object at 0x7fb9ca1b5208>: Failed to establish a new connection: [Errno -2] Name or service not known',))\",), 679527802031484928: TweepError(\"Failed to send request: HTTPSConnectionPool(host='api.twitter.com', port=443): Max retries exceeded with url: /1.1/statuses/show.json?id=679527802031484928&tweet_mode=extended (Caused by NewConnectionError('<urllib3.connection.HTTPSConnection object at 0x7fb9ca1b5a58>: Failed to establish a new connection: [Errno -2] Name or service not known',))\",), 679511351870550016: TweepError(\"Failed to send request: HTTPSConnectionPool(host='api.twitter.com', port=443): Max retries exceeded with url: /1.1/statuses/show.json?id=679511351870550016&tweet_mode=extended (Caused by NewConnectionError('<urllib3.connection.HTTPSConnection object at 0x7fb9ca1d12e8>: Failed to establish a new connection: [Errno -2] Name or service not known',))\",), 679503373272485890: TweepError(\"Failed to send request: HTTPSConnectionPool(host='api.twitter.com', port=443): Max retries exceeded with url: /1.1/statuses/show.json?id=679503373272485890&tweet_mode=extended (Caused by NewConnectionError('<urllib3.connection.HTTPSConnection object at 0x7fb9ca1d1b38>: Failed to establish a new connection: [Errno -2] Name or service not known',))\",), 679475951516934144: TweepError(\"Failed to send request: HTTPSConnectionPool(host='api.twitter.com', port=443): Max retries exceeded with url: /1.1/statuses/show.json?id=679475951516934144&tweet_mode=extended (Caused by NewConnectionError('<urllib3.connection.HTTPSConnection object at 0x7fb9c9bea3c8>: Failed to establish a new connection: [Errno -2] Name or service not known',))\",), 679462823135686656: TweepError(\"Failed to send request: HTTPSConnectionPool(host='api.twitter.com', port=443): Max retries exceeded with url: /1.1/statuses/show.json?id=679462823135686656&tweet_mode=extended (Caused by NewConnectionError('<urllib3.connection.HTTPSConnection object at 0x7fb9c9beac18>: Failed to establish a new connection: [Errno -2] Name or service not known',))\",), 679405845277462528: TweepError(\"Failed to send request: HTTPSConnectionPool(host='api.twitter.com', port=443): Max retries exceeded with url: /1.1/statuses/show.json?id=679405845277462528&tweet_mode=extended (Caused by NewConnectionError('<urllib3.connection.HTTPSConnection object at 0x7fb9c9bc84a8>: Failed to establish a new connection: [Errno -2] Name or service not known',))\",), 679158373988876288: TweepError(\"Failed to send request: HTTPSConnectionPool(host='api.twitter.com', port=443): Max retries exceeded with url: /1.1/statuses/show.json?id=679158373988876288&tweet_mode=extended (Caused by NewConnectionError('<urllib3.connection.HTTPSConnection object at 0x7fb9c9bdd0b8>: Failed to establish a new connection: [Errno -2] Name or service not known',))\",), 679148763231985668: TweepError(\"Failed to send request: HTTPSConnectionPool(host='api.twitter.com', port=443): Max retries exceeded with url: /1.1/statuses/show.json?id=679148763231985668&tweet_mode=extended (Caused by NewConnectionError('<urllib3.connection.HTTPSConnection object at 0x7fb9ca1d1d30>: Failed to establish a new connection: [Errno -2] Name or service not known',))\",), 679132435750195208: TweepError(\"Failed to send request: HTTPSConnectionPool(host='api.twitter.com', port=443): Max retries exceeded with url: /1.1/statuses/show.json?id=679132435750195208&tweet_mode=extended (Caused by NewConnectionError('<urllib3.connection.HTTPSConnection object at 0x7fb9c9bdd940>: Failed to establish a new connection: [Errno -2] Name or service not known',))\",), 679111216690831360: TweepError(\"Failed to send request: HTTPSConnectionPool(host='api.twitter.com', port=443): Max retries exceeded with url: /1.1/statuses/show.json?id=679111216690831360&tweet_mode=extended (Caused by NewConnectionError('<urllib3.connection.HTTPSConnection object at 0x7fb9c9bd4208>: Failed to establish a new connection: [Errno -2] Name or service not known',))\",), 679062614270468097: TweepError(\"Failed to send request: HTTPSConnectionPool(host='api.twitter.com', port=443): Max retries exceeded with url: /1.1/statuses/show.json?id=679062614270468097&tweet_mode=extended (Caused by NewConnectionError('<urllib3.connection.HTTPSConnection object at 0x7fb9c9bd4a58>: Failed to establish a new connection: [Errno -2] Name or service not known',))\",), 679047485189439488: TweepError(\"Failed to send request: HTTPSConnectionPool(host='api.twitter.com', port=443): Max retries exceeded with url: /1.1/statuses/show.json?id=679047485189439488&tweet_mode=extended (Caused by NewConnectionError('<urllib3.connection.HTTPSConnection object at 0x7fb9c7c6e2e8>: Failed to establish a new connection: [Errno -2] Name or service not known',))\",), 679001094530465792: TweepError(\"Failed to send request: HTTPSConnectionPool(host='api.twitter.com', port=443): Max retries exceeded with url: /1.1/statuses/show.json?id=679001094530465792&tweet_mode=extended (Caused by NewConnectionError('<urllib3.connection.HTTPSConnection object at 0x7fb9c7c6eb38>: Failed to establish a new connection: [Errno -2] Name or service not known',))\",), 678991772295516161: TweepError(\"Failed to send request: HTTPSConnectionPool(host='api.twitter.com', port=443): Max retries exceeded with url: /1.1/statuses/show.json?id=678991772295516161&tweet_mode=extended (Caused by NewConnectionError('<urllib3.connection.HTTPSConnection object at 0x7fb9c7ca63c8>: Failed to establish a new connection: [Errno -2] Name or service not known',))\",), 678969228704284672: TweepError(\"Failed to send request: HTTPSConnectionPool(host='api.twitter.com', port=443): Max retries exceeded with url: /1.1/statuses/show.json?id=678969228704284672&tweet_mode=extended (Caused by NewConnectionError('<urllib3.connection.HTTPSConnection object at 0x7fb9c7ca6c18>: Failed to establish a new connection: [Errno -2] Name or service not known',))\",), 678800283649069056: TweepError(\"Failed to send request: HTTPSConnectionPool(host='api.twitter.com', port=443): Max retries exceeded with url: /1.1/statuses/show.json?id=678800283649069056&tweet_mode=extended (Caused by NewConnectionError('<urllib3.connection.HTTPSConnection object at 0x7fb9c7c894a8>: Failed to establish a new connection: [Errno -2] Name or service not known',))\",), 678798276842360832: TweepError(\"Failed to send request: HTTPSConnectionPool(host='api.twitter.com', port=443): Max retries exceeded with url: /1.1/statuses/show.json?id=678798276842360832&tweet_mode=extended (Caused by NewConnectionError('<urllib3.connection.HTTPSConnection object at 0x7fb9c7c850b8>: Failed to establish a new connection: [Errno -2] Name or service not known',))\",), 678774928607469569: TweepError(\"Failed to send request: HTTPSConnectionPool(host='api.twitter.com', port=443): Max retries exceeded with url: /1.1/statuses/show.json?id=678774928607469569&tweet_mode=extended (Caused by NewConnectionError('<urllib3.connection.HTTPSConnection object at 0x7fb9c7c85588>: Failed to establish a new connection: [Errno -2] Name or service not known',))\",), 678767140346941444: TweepError(\"Failed to send request: HTTPSConnectionPool(host='api.twitter.com', port=443): Max retries exceeded with url: /1.1/statuses/show.json?id=678767140346941444&tweet_mode=extended (Caused by NewConnectionError('<urllib3.connection.HTTPSConnection object at 0x7fb9c7c98080>: Failed to establish a new connection: [Errno -2] Name or service not known',))\",), 678764513869611008: TweepError(\"Failed to send request: HTTPSConnectionPool(host='api.twitter.com', port=443): Max retries exceeded with url: /1.1/statuses/show.json?id=678764513869611008&tweet_mode=extended (Caused by NewConnectionError('<urllib3.connection.HTTPSConnection object at 0x7fb9c7c98668>: Failed to establish a new connection: [Errno -2] Name or service not known',))\",), 678755239630127104: TweepError(\"Failed to send request: HTTPSConnectionPool(host='api.twitter.com', port=443): Max retries exceeded with url: /1.1/statuses/show.json?id=678755239630127104&tweet_mode=extended (Caused by NewConnectionError('<urllib3.connection.HTTPSConnection object at 0x7fb9ca17b160>: Failed to establish a new connection: [Errno -2] Name or service not known',))\",), 678740035362037760: TweepError(\"Failed to send request: HTTPSConnectionPool(host='api.twitter.com', port=443): Max retries exceeded with url: /1.1/statuses/show.json?id=678740035362037760&tweet_mode=extended (Caused by NewConnectionError('<urllib3.connection.HTTPSConnection object at 0x7fb9ca17b748>: Failed to establish a new connection: [Errno -2] Name or service not known',))\",), 678708137298427904: TweepError(\"Failed to send request: HTTPSConnectionPool(host='api.twitter.com', port=443): Max retries exceeded with url: /1.1/statuses/show.json?id=678708137298427904&tweet_mode=extended (Caused by NewConnectionError('<urllib3.connection.HTTPSConnection object at 0x7fb9ca19f240>: Failed to establish a new connection: [Errno -2] Name or service not known',))\",), 678675843183484930: TweepError(\"Failed to send request: HTTPSConnectionPool(host='api.twitter.com', port=443): Max retries exceeded with url: /1.1/statuses/show.json?id=678675843183484930&tweet_mode=extended (Caused by NewConnectionError('<urllib3.connection.HTTPSConnection object at 0x7fb9ca19f828>: Failed to establish a new connection: [Errno -2] Name or service not known',))\",), 678643457146150913: TweepError(\"Failed to send request: HTTPSConnectionPool(host='api.twitter.com', port=443): Max retries exceeded with url: /1.1/statuses/show.json?id=678643457146150913&tweet_mode=extended (Caused by NewConnectionError('<urllib3.connection.HTTPSConnection object at 0x7fb9ca18c0b8>: Failed to establish a new connection: [Errno -2] Name or service not known',))\",), 678446151570427904: TweepError(\"Failed to send request: HTTPSConnectionPool(host='api.twitter.com', port=443): Max retries exceeded with url: /1.1/statuses/show.json?id=678446151570427904&tweet_mode=extended (Caused by NewConnectionError('<urllib3.connection.HTTPSConnection object at 0x7fb9ca18c908>: Failed to establish a new connection: [Errno -2] Name or service not known',))\",), 678424312106393600: TweepError(\"Failed to send request: HTTPSConnectionPool(host='api.twitter.com', port=443): Max retries exceeded with url: /1.1/statuses/show.json?id=678424312106393600&tweet_mode=extended (Caused by NewConnectionError('<urllib3.connection.HTTPSConnection object at 0x7fb9ca187198>: Failed to establish a new connection: [Errno -2] Name or service not known',))\",), 678410210315247616: TweepError(\"Failed to send request: HTTPSConnectionPool(host='api.twitter.com', port=443): Max retries exceeded with url: /1.1/statuses/show.json?id=678410210315247616&tweet_mode=extended (Caused by NewConnectionError('<urllib3.connection.HTTPSConnection object at 0x7fb9ca19fa20>: Failed to establish a new connection: [Errno -2] Name or service not known',))\",), 677716515794329600: TweepError(\"Failed to send request: HTTPSConnectionPool(host='api.twitter.com', port=443): Max retries exceeded with url: /1.1/statuses/show.json?id=677716515794329600&tweet_mode=extended (Caused by NewConnectionError('<urllib3.connection.HTTPSConnection object at 0x7fb9ca19ec50>: Failed to establish a new connection: [Errno 113] No route to host',))\",)}\n"
    }
   ],
   "source": [
    "###******** This Runs Once *********###\n",
    "# Getting Tweet data and saving it to tweet_json.txt\n",
    "tweet_ids = tw_archive.tweet_id.values\n",
    "fail_dict = {}\n",
    "\n",
    "with open('saved_work/tweet_json.txt', 'w') as outfile:\n",
    "    for id in tweet_ids:\n",
    "        try: \n",
    "            tweet = api.get_status(id, tweet_mode='extended')\n",
    "            json.dump(tweet._json, outfile)\n",
    "            outfile.write('\\n')\n",
    "        except tweepy.TweepError as e:\n",
    "            fail_dict[id] = e\n",
    "            pass\n",
    "\n",
    "print(fail_dict)"
   ]
  },
  {
   "cell_type": "code",
   "execution_count": 24,
   "metadata": {
    "tags": []
   },
   "outputs": [
    {
     "output_type": "stream",
     "name": "stdout",
     "text": "{888202515573088257: TweepError([{'code': 144, 'message': 'No status found with that ID.'}],), 873697596434513921: TweepError([{'code': 144, 'message': 'No status found with that ID.'}],), 872668790621863937: TweepError([{'code': 144, 'message': 'No status found with that ID.'}],), 872261713294495745: TweepError([{'code': 144, 'message': 'No status found with that ID.'}],), 869988702071779329: TweepError([{'code': 144, 'message': 'No status found with that ID.'}],), 866816280283807744: TweepError([{'code': 144, 'message': 'No status found with that ID.'}],), 861769973181624320: TweepError([{'code': 144, 'message': 'No status found with that ID.'}],), 856602993587888130: TweepError([{'code': 144, 'message': 'No status found with that ID.'}],), 851953902622658560: TweepError([{'code': 144, 'message': 'No status found with that ID.'}],), 845459076796616705: TweepError([{'code': 144, 'message': 'No status found with that ID.'}],), 844704788403113984: TweepError([{'code': 144, 'message': 'No status found with that ID.'}],), 842892208864923648: TweepError([{'code': 144, 'message': 'No status found with that ID.'}],), 837366284874571778: TweepError([{'code': 144, 'message': 'No status found with that ID.'}],), 837012587749474308: TweepError([{'code': 144, 'message': 'No status found with that ID.'}],), 829374341691346946: TweepError([{'code': 144, 'message': 'No status found with that ID.'}],), 827228250799742977: TweepError([{'code': 144, 'message': 'No status found with that ID.'}],), 812747805718642688: TweepError([{'code': 144, 'message': 'No status found with that ID.'}],), 802247111496568832: TweepError([{'code': 144, 'message': 'No status found with that ID.'}],), 779123168116150273: TweepError([{'code': 144, 'message': 'No status found with that ID.'}],), 775096608509886464: TweepError([{'code': 144, 'message': 'No status found with that ID.'}],), 771004394259247104: TweepError([{'code': 179, 'message': 'Sorry, you are not authorized to see this status.'}],), 770743923962707968: TweepError([{'code': 144, 'message': 'No status found with that ID.'}],), 759566828574212096: TweepError([{'code': 144, 'message': 'No status found with that ID.'}],), 754011816964026368: TweepError([{'code': 144, 'message': 'No status found with that ID.'}],), 680055455951884288: TweepError([{'code': 144, 'message': 'No status found with that ID.'}],)}\n"
    }
   ],
   "source": [
    "###******** This Runs Once *********###\n",
    "# Redownload failed tweets\n",
    "old_tweet_ids = list(fail_dict.keys())\n",
    "fail_dict = {}\n",
    "\n",
    "with open('saved_work/tweet_json.txt', 'a+') as outfile:\n",
    "    for id in old_tweet_ids:\n",
    "        try: \n",
    "            tweet = api.get_status(id, tweet_mode='extended')\n",
    "            json.dump(tweet._json, outfile)\n",
    "            outfile.write('\\n')\n",
    "        except tweepy.TweepError as e:\n",
    "            fail_dict[id] = e\n",
    "            pass\n",
    "\n",
    "print(fail_dict)"
   ]
  },
  {
   "cell_type": "code",
   "execution_count": 4,
   "metadata": {},
   "outputs": [],
   "source": [
    "tw_api = pd.read_json('saved_work/tweet_json.txt',lines=True)"
   ]
  },
  {
   "cell_type": "markdown",
   "metadata": {},
   "source": [
    "## Assess"
   ]
  },
  {
   "cell_type": "markdown",
   "metadata": {},
   "source": [
    "### Twitter Archive"
   ]
  },
  {
   "cell_type": "code",
   "execution_count": 5,
   "metadata": {},
   "outputs": [
    {
     "output_type": "execute_result",
     "data": {
      "text/plain": "             tweet_id  in_reply_to_status_id  in_reply_to_user_id  \\\n0  892420643555336193                    NaN                  NaN   \n1  892177421306343426                    NaN                  NaN   \n2  891815181378084864                    NaN                  NaN   \n3  891689557279858688                    NaN                  NaN   \n4  891327558926688256                    NaN                  NaN   \n\n                   timestamp  \\\n0  2017-08-01 16:23:56 +0000   \n1  2017-08-01 00:17:27 +0000   \n2  2017-07-31 00:18:03 +0000   \n3  2017-07-30 15:58:51 +0000   \n4  2017-07-29 16:00:24 +0000   \n\n                                              source  \\\n0  <a href=\"http://twitter.com/download/iphone\" r...   \n1  <a href=\"http://twitter.com/download/iphone\" r...   \n2  <a href=\"http://twitter.com/download/iphone\" r...   \n3  <a href=\"http://twitter.com/download/iphone\" r...   \n4  <a href=\"http://twitter.com/download/iphone\" r...   \n\n                                                text  retweeted_status_id  \\\n0  This is Phineas. He's a mystical boy. Only eve...                  NaN   \n1  This is Tilly. She's just checking pup on you....                  NaN   \n2  This is Archie. He is a rare Norwegian Pouncin...                  NaN   \n3  This is Darla. She commenced a snooze mid meal...                  NaN   \n4  This is Franklin. He would like you to stop ca...                  NaN   \n\n   retweeted_status_user_id retweeted_status_timestamp  \\\n0                       NaN                        NaN   \n1                       NaN                        NaN   \n2                       NaN                        NaN   \n3                       NaN                        NaN   \n4                       NaN                        NaN   \n\n                                       expanded_urls  rating_numerator  \\\n0  https://twitter.com/dog_rates/status/892420643...                13   \n1  https://twitter.com/dog_rates/status/892177421...                13   \n2  https://twitter.com/dog_rates/status/891815181...                12   \n3  https://twitter.com/dog_rates/status/891689557...                13   \n4  https://twitter.com/dog_rates/status/891327558...                12   \n\n   rating_denominator      name doggo floofer pupper puppo  \n0                  10   Phineas  None    None   None  None  \n1                  10     Tilly  None    None   None  None  \n2                  10    Archie  None    None   None  None  \n3                  10     Darla  None    None   None  None  \n4                  10  Franklin  None    None   None  None  ",
      "text/html": "<div>\n<style scoped>\n    .dataframe tbody tr th:only-of-type {\n        vertical-align: middle;\n    }\n\n    .dataframe tbody tr th {\n        vertical-align: top;\n    }\n\n    .dataframe thead th {\n        text-align: right;\n    }\n</style>\n<table border=\"1\" class=\"dataframe\">\n  <thead>\n    <tr style=\"text-align: right;\">\n      <th></th>\n      <th>tweet_id</th>\n      <th>in_reply_to_status_id</th>\n      <th>in_reply_to_user_id</th>\n      <th>timestamp</th>\n      <th>source</th>\n      <th>text</th>\n      <th>retweeted_status_id</th>\n      <th>retweeted_status_user_id</th>\n      <th>retweeted_status_timestamp</th>\n      <th>expanded_urls</th>\n      <th>rating_numerator</th>\n      <th>rating_denominator</th>\n      <th>name</th>\n      <th>doggo</th>\n      <th>floofer</th>\n      <th>pupper</th>\n      <th>puppo</th>\n    </tr>\n  </thead>\n  <tbody>\n    <tr>\n      <th>0</th>\n      <td>892420643555336193</td>\n      <td>NaN</td>\n      <td>NaN</td>\n      <td>2017-08-01 16:23:56 +0000</td>\n      <td>&lt;a href=\"http://twitter.com/download/iphone\" r...</td>\n      <td>This is Phineas. He's a mystical boy. Only eve...</td>\n      <td>NaN</td>\n      <td>NaN</td>\n      <td>NaN</td>\n      <td>https://twitter.com/dog_rates/status/892420643...</td>\n      <td>13</td>\n      <td>10</td>\n      <td>Phineas</td>\n      <td>None</td>\n      <td>None</td>\n      <td>None</td>\n      <td>None</td>\n    </tr>\n    <tr>\n      <th>1</th>\n      <td>892177421306343426</td>\n      <td>NaN</td>\n      <td>NaN</td>\n      <td>2017-08-01 00:17:27 +0000</td>\n      <td>&lt;a href=\"http://twitter.com/download/iphone\" r...</td>\n      <td>This is Tilly. She's just checking pup on you....</td>\n      <td>NaN</td>\n      <td>NaN</td>\n      <td>NaN</td>\n      <td>https://twitter.com/dog_rates/status/892177421...</td>\n      <td>13</td>\n      <td>10</td>\n      <td>Tilly</td>\n      <td>None</td>\n      <td>None</td>\n      <td>None</td>\n      <td>None</td>\n    </tr>\n    <tr>\n      <th>2</th>\n      <td>891815181378084864</td>\n      <td>NaN</td>\n      <td>NaN</td>\n      <td>2017-07-31 00:18:03 +0000</td>\n      <td>&lt;a href=\"http://twitter.com/download/iphone\" r...</td>\n      <td>This is Archie. He is a rare Norwegian Pouncin...</td>\n      <td>NaN</td>\n      <td>NaN</td>\n      <td>NaN</td>\n      <td>https://twitter.com/dog_rates/status/891815181...</td>\n      <td>12</td>\n      <td>10</td>\n      <td>Archie</td>\n      <td>None</td>\n      <td>None</td>\n      <td>None</td>\n      <td>None</td>\n    </tr>\n    <tr>\n      <th>3</th>\n      <td>891689557279858688</td>\n      <td>NaN</td>\n      <td>NaN</td>\n      <td>2017-07-30 15:58:51 +0000</td>\n      <td>&lt;a href=\"http://twitter.com/download/iphone\" r...</td>\n      <td>This is Darla. She commenced a snooze mid meal...</td>\n      <td>NaN</td>\n      <td>NaN</td>\n      <td>NaN</td>\n      <td>https://twitter.com/dog_rates/status/891689557...</td>\n      <td>13</td>\n      <td>10</td>\n      <td>Darla</td>\n      <td>None</td>\n      <td>None</td>\n      <td>None</td>\n      <td>None</td>\n    </tr>\n    <tr>\n      <th>4</th>\n      <td>891327558926688256</td>\n      <td>NaN</td>\n      <td>NaN</td>\n      <td>2017-07-29 16:00:24 +0000</td>\n      <td>&lt;a href=\"http://twitter.com/download/iphone\" r...</td>\n      <td>This is Franklin. He would like you to stop ca...</td>\n      <td>NaN</td>\n      <td>NaN</td>\n      <td>NaN</td>\n      <td>https://twitter.com/dog_rates/status/891327558...</td>\n      <td>12</td>\n      <td>10</td>\n      <td>Franklin</td>\n      <td>None</td>\n      <td>None</td>\n      <td>None</td>\n      <td>None</td>\n    </tr>\n  </tbody>\n</table>\n</div>"
     },
     "metadata": {},
     "execution_count": 5
    }
   ],
   "source": [
    "tw_archive.head()"
   ]
  },
  {
   "cell_type": "code",
   "execution_count": 6,
   "metadata": {
    "tags": []
   },
   "outputs": [
    {
     "output_type": "stream",
     "name": "stdout",
     "text": "<class 'pandas.core.frame.DataFrame'>\nRangeIndex: 2356 entries, 0 to 2355\nData columns (total 17 columns):\n #   Column                      Non-Null Count  Dtype  \n---  ------                      --------------  -----  \n 0   tweet_id                    2356 non-null   int64  \n 1   in_reply_to_status_id       78 non-null     float64\n 2   in_reply_to_user_id         78 non-null     float64\n 3   timestamp                   2356 non-null   object \n 4   source                      2356 non-null   object \n 5   text                        2356 non-null   object \n 6   retweeted_status_id         181 non-null    float64\n 7   retweeted_status_user_id    181 non-null    float64\n 8   retweeted_status_timestamp  181 non-null    object \n 9   expanded_urls               2297 non-null   object \n 10  rating_numerator            2356 non-null   int64  \n 11  rating_denominator          2356 non-null   int64  \n 12  name                        2356 non-null   object \n 13  doggo                       2356 non-null   object \n 14  floofer                     2356 non-null   object \n 15  pupper                      2356 non-null   object \n 16  puppo                       2356 non-null   object \ndtypes: float64(4), int64(3), object(10)\nmemory usage: 313.0+ KB\n"
    }
   ],
   "source": [
    "tw_archive.info()"
   ]
  },
  {
   "cell_type": "code",
   "execution_count": 7,
   "metadata": {},
   "outputs": [
    {
     "output_type": "execute_result",
     "data": {
      "text/plain": "None        745\na            55\nCharlie      12\nCooper       11\nLucy         11\n           ... \nMillie        1\nPinot         1\nSunshine      1\nHarry         1\nMiguel        1\nName: name, Length: 957, dtype: int64"
     },
     "metadata": {},
     "execution_count": 7
    }
   ],
   "source": [
    "tw_archive.name.value_counts()"
   ]
  },
  {
   "cell_type": "code",
   "execution_count": 8,
   "metadata": {},
   "outputs": [
    {
     "output_type": "execute_result",
     "data": {
      "text/plain": "56      Here is a pupper approaching maximum borkdrive...\n649     Here is a perfect example of someone who has t...\n801     Guys this is getting so out of hand. We only r...\n1002    This is a mighty rare blue-tailed hammer sherk...\n1004    Viewer discretion is advised. This is a terrib...\n1017    This is a carrot. We only rate dogs. Please on...\n1049    This is a very rare Great Alaskan Bush Pupper....\n1193    People please. This is a Deadly Mediterranean ...\n1207    This is a taco. We only rate dogs. Please only...\n1340    Here is a heartbreaking scene of an incredible...\n1351    Here is a whole flock of puppers.  60/50 I'll ...\n1361    This is a Butternut Cumberfloof. It's not wind...\n1368    This is a Wild Tuscan Poofwiggle. Careful not ...\n1382    \"Pupper is a present to world. Here is a bow f...\n1499    This is a rare Arctic Wubberfloof. Unamused by...\n1737    Guys this really needs to stop. We've been ove...\n1785    This is a dog swinging. I really enjoyed it so...\n1853    This is a Sizzlin Menorah spaniel from Brookly...\n1854    Seriously guys?! Only send in dogs. I only rat...\n1877    C'mon guys. We've been over this. We only rate...\n1878    This is a fluffy albino Bacardi Columbia mix. ...\n1923    This is a Sagitariot Baklava mix. Loves her ne...\n1941    This is a heavily opinionated dog. Loves walls...\n1955    This is a Lofted Aphrodisiac Terrier named Kip...\n1994    This is a baby Rand Paul. Curls for days. 11/1...\n2034    This is a Tuscaloosa Alcatraz named Jacob (Yac...\n2066    This is a Helvetica Listerine named Rufus. Thi...\n2116    This is a Deciduous Trimester mix named Spork....\n2125    This is a Rich Mahogany Seltzer named Cherokee...\n2128    This is a Speckled Cauliflower Yosemite named ...\n2146    This is a spotted Lipitor Rumpelstiltskin name...\n2153    This is a brave dog. Excellent free climber. T...\n2161    This is a Coriander Baton Rouge named Alfredo....\n2191    This is a Slovakian Helter Skelter Feta named ...\n2198    This is a wild Toblerone from Papua New Guinea...\n2211    Here is a horned dog. Much grace. Can jump ove...\n2218    This is a Birmingham Quagmire named Chuk. Love...\n2222    Here is a mother dog caring for her pups. Snaz...\n2235    This is a Trans Siberian Kellogg named Alfonso...\n2249    This is a Shotokon Macadamia mix named Cheryl....\n2255    This is a rare Hungarian Pinot named Jessiga. ...\n2264    This is a southwest Coriander named Klint. Hat...\n2273    This is a northern Wahoo named Kohl. He runs t...\n2287    This is a Dasani Kingfisher from Maine. His na...\n2304    This is a curly Ticonderoga named Pepe. No fee...\n2311    This is a purebred Bacardi named Octaviath. Ca...\n2314    This is a golden Buckminsterfullerene named Jo...\n2327    This is a southern Vesuvius bumblegruff. Can d...\n2334    This is a funny dog. Weird toes. Won't come do...\n2347    My oh my. This is a rare blond Canadian terrie...\n2348    Here is a Siberian heavily armored polar bear ...\n2350    This is a truly beautiful English Wilson Staff...\n2352    This is a purebred Piers Morgan. Loves to Netf...\n2353    Here is a very happy pup. Big fan of well-main...\n2354    This is a western brown Mitsubishi terrier. Up...\nName: text, dtype: object"
     },
     "metadata": {},
     "execution_count": 8
    }
   ],
   "source": [
    "tw_archive.loc[tw_archive.name == 'a', 'text']"
   ]
  },
  {
   "cell_type": "code",
   "execution_count": 246,
   "metadata": {},
   "outputs": [
    {
     "output_type": "execute_result",
     "data": {
      "text/plain": "5       Here we have a majestic great white breaching ...\n7       When you watch your owner call another dog a g...\n12      Here's a puppo that seems to be on the fence a...\n24      You may not have known you needed to see this ...\n25      This... is a Jubilant Antarctic House Bear. We...\n                              ...                        \n2342    Here we have a well-established sunblockerspan...\n2343    Let's hope this flight isn't Malaysian (lol). ...\n2344    Here we have a northern speckled Rhododendron....\n2351    Here we have a 1949 1st generation vulpix. Enj...\n2355    Here we have a Japanese Irish Setter. Lost eye...\nName: text, Length: 745, dtype: object"
     },
     "metadata": {},
     "execution_count": 246
    }
   ],
   "source": [
    "tw_archive.loc[tw_archive.name == 'None', 'text']"
   ]
  },
  {
   "cell_type": "code",
   "execution_count": 248,
   "metadata": {},
   "outputs": [
    {
     "output_type": "execute_result",
     "data": {
      "text/plain": "10     2333\n11        3\n50        3\n80        2\n20        2\n2         1\n16        1\n40        1\n70        1\n15        1\n90        1\n110       1\n120       1\n130       1\n150       1\n170       1\n7         1\n0         1\nName: rating_denominator, dtype: int64"
     },
     "metadata": {},
     "execution_count": 248
    }
   ],
   "source": [
    "tw_archive.rating_denominator.value_counts()"
   ]
  },
  {
   "cell_type": "markdown",
   "metadata": {},
   "source": [
    "### Image Predictions"
   ]
  },
  {
   "cell_type": "code",
   "execution_count": 10,
   "metadata": {},
   "outputs": [
    {
     "output_type": "execute_result",
     "data": {
      "text/plain": "             tweet_id                                          jpg_url  \\\n0  666020888022790149  https://pbs.twimg.com/media/CT4udn0WwAA0aMy.jpg   \n1  666029285002620928  https://pbs.twimg.com/media/CT42GRgUYAA5iDo.jpg   \n2  666033412701032449  https://pbs.twimg.com/media/CT4521TWwAEvMyu.jpg   \n3  666044226329800704  https://pbs.twimg.com/media/CT5Dr8HUEAA-lEu.jpg   \n4  666049248165822465  https://pbs.twimg.com/media/CT5IQmsXIAAKY4A.jpg   \n\n   img_num                      p1   p1_conf  p1_dog                  p2  \\\n0        1  Welsh_springer_spaniel  0.465074    True              collie   \n1        1                 redbone  0.506826    True  miniature_pinscher   \n2        1         German_shepherd  0.596461    True            malinois   \n3        1     Rhodesian_ridgeback  0.408143    True             redbone   \n4        1      miniature_pinscher  0.560311    True          Rottweiler   \n\n    p2_conf  p2_dog                   p3   p3_conf  p3_dog  \n0  0.156665    True    Shetland_sheepdog  0.061428    True  \n1  0.074192    True  Rhodesian_ridgeback  0.072010    True  \n2  0.138584    True           bloodhound  0.116197    True  \n3  0.360687    True   miniature_pinscher  0.222752    True  \n4  0.243682    True             Doberman  0.154629    True  ",
      "text/html": "<div>\n<style scoped>\n    .dataframe tbody tr th:only-of-type {\n        vertical-align: middle;\n    }\n\n    .dataframe tbody tr th {\n        vertical-align: top;\n    }\n\n    .dataframe thead th {\n        text-align: right;\n    }\n</style>\n<table border=\"1\" class=\"dataframe\">\n  <thead>\n    <tr style=\"text-align: right;\">\n      <th></th>\n      <th>tweet_id</th>\n      <th>jpg_url</th>\n      <th>img_num</th>\n      <th>p1</th>\n      <th>p1_conf</th>\n      <th>p1_dog</th>\n      <th>p2</th>\n      <th>p2_conf</th>\n      <th>p2_dog</th>\n      <th>p3</th>\n      <th>p3_conf</th>\n      <th>p3_dog</th>\n    </tr>\n  </thead>\n  <tbody>\n    <tr>\n      <th>0</th>\n      <td>666020888022790149</td>\n      <td>https://pbs.twimg.com/media/CT4udn0WwAA0aMy.jpg</td>\n      <td>1</td>\n      <td>Welsh_springer_spaniel</td>\n      <td>0.465074</td>\n      <td>True</td>\n      <td>collie</td>\n      <td>0.156665</td>\n      <td>True</td>\n      <td>Shetland_sheepdog</td>\n      <td>0.061428</td>\n      <td>True</td>\n    </tr>\n    <tr>\n      <th>1</th>\n      <td>666029285002620928</td>\n      <td>https://pbs.twimg.com/media/CT42GRgUYAA5iDo.jpg</td>\n      <td>1</td>\n      <td>redbone</td>\n      <td>0.506826</td>\n      <td>True</td>\n      <td>miniature_pinscher</td>\n      <td>0.074192</td>\n      <td>True</td>\n      <td>Rhodesian_ridgeback</td>\n      <td>0.072010</td>\n      <td>True</td>\n    </tr>\n    <tr>\n      <th>2</th>\n      <td>666033412701032449</td>\n      <td>https://pbs.twimg.com/media/CT4521TWwAEvMyu.jpg</td>\n      <td>1</td>\n      <td>German_shepherd</td>\n      <td>0.596461</td>\n      <td>True</td>\n      <td>malinois</td>\n      <td>0.138584</td>\n      <td>True</td>\n      <td>bloodhound</td>\n      <td>0.116197</td>\n      <td>True</td>\n    </tr>\n    <tr>\n      <th>3</th>\n      <td>666044226329800704</td>\n      <td>https://pbs.twimg.com/media/CT5Dr8HUEAA-lEu.jpg</td>\n      <td>1</td>\n      <td>Rhodesian_ridgeback</td>\n      <td>0.408143</td>\n      <td>True</td>\n      <td>redbone</td>\n      <td>0.360687</td>\n      <td>True</td>\n      <td>miniature_pinscher</td>\n      <td>0.222752</td>\n      <td>True</td>\n    </tr>\n    <tr>\n      <th>4</th>\n      <td>666049248165822465</td>\n      <td>https://pbs.twimg.com/media/CT5IQmsXIAAKY4A.jpg</td>\n      <td>1</td>\n      <td>miniature_pinscher</td>\n      <td>0.560311</td>\n      <td>True</td>\n      <td>Rottweiler</td>\n      <td>0.243682</td>\n      <td>True</td>\n      <td>Doberman</td>\n      <td>0.154629</td>\n      <td>True</td>\n    </tr>\n  </tbody>\n</table>\n</div>"
     },
     "metadata": {},
     "execution_count": 10
    }
   ],
   "source": [
    "img_pred.head()"
   ]
  },
  {
   "cell_type": "code",
   "execution_count": 11,
   "metadata": {
    "tags": []
   },
   "outputs": [
    {
     "output_type": "stream",
     "name": "stdout",
     "text": "<class 'pandas.core.frame.DataFrame'>\nRangeIndex: 2075 entries, 0 to 2074\nData columns (total 12 columns):\n #   Column    Non-Null Count  Dtype  \n---  ------    --------------  -----  \n 0   tweet_id  2075 non-null   int64  \n 1   jpg_url   2075 non-null   object \n 2   img_num   2075 non-null   int64  \n 3   p1        2075 non-null   object \n 4   p1_conf   2075 non-null   float64\n 5   p1_dog    2075 non-null   bool   \n 6   p2        2075 non-null   object \n 7   p2_conf   2075 non-null   float64\n 8   p2_dog    2075 non-null   bool   \n 9   p3        2075 non-null   object \n 10  p3_conf   2075 non-null   float64\n 11  p3_dog    2075 non-null   bool   \ndtypes: bool(3), float64(3), int64(2), object(4)\nmemory usage: 152.1+ KB\n"
    }
   ],
   "source": [
    "img_pred.info()"
   ]
  },
  {
   "cell_type": "code",
   "execution_count": 12,
   "metadata": {},
   "outputs": [
    {
     "output_type": "execute_result",
     "data": {
      "text/plain": "golden_retriever      150\nLabrador_retriever    100\nPembroke               89\nChihuahua              83\npug                    57\n                     ... \nconch                   1\nclog                    1\nbeaver                  1\nmilitary_uniform        1\nwalking_stick           1\nName: p1, Length: 378, dtype: int64"
     },
     "metadata": {},
     "execution_count": 12
    }
   ],
   "source": [
    "img_pred.p1.value_counts()"
   ]
  },
  {
   "cell_type": "markdown",
   "metadata": {},
   "source": [
    "### Quality Issues\n",
    "\n",
    "- `tw_archive` mistaken 'a' as dog name. \n",
    "- `tw_archive` mistaken missing names for 'None' as string\n",
    "- `tw_archive` Keep original tweets only.\n",
    "- `tw_archive` extra unwanted data columns i.e. (retweeted_status_user_id, retweeted_status_id, in_reply_to_status_id, in_reply_to_user_id)\n",
    "- some tweets are missing favourite_count and retweet_count\n",
    "- `tw_archive` datatype issues i.e. (tweet_id, favourite_count, retweet_count)\n",
    "- `tw_archive` datatype issues i.e. (timestamp)\n",
    "- `tw_archive` datatype issues i.e. caegorized dog_stages\n",
    "- `tw_archive` rating fraction missing to compare dogs\n",
    "- `img_pred` datatype issues with (tweet_id)\n",
    "- `img_pred` some tweets have no images in prediction."
   ]
  },
  {
   "cell_type": "markdown",
   "metadata": {},
   "source": [
    "### Tidiness Issues\n",
    "- `tw_archive` dog stages into 4 columns. \n",
    "- `tw_archive`, `tw_api` have data related to each other.\n",
    "- get both data frames on the same table to ease visualization"
   ]
  },
  {
   "cell_type": "markdown",
   "metadata": {},
   "source": [
    "## Cleaning"
   ]
  },
  {
   "cell_type": "code",
   "execution_count": 224,
   "metadata": {},
   "outputs": [],
   "source": [
    "tw_archive_clean = tw_archive.copy()\n",
    "img_pred_clean = img_pred.copy()\n",
    "tw_api_clean = tw_api.copy()"
   ]
  },
  {
   "cell_type": "markdown",
   "metadata": {},
   "source": [
    "- `tw_archive` mistaken 'a' as dog name. "
   ]
  },
  {
   "cell_type": "markdown",
   "metadata": {},
   "source": [
    "### Completeness\n",
    "#### Define:\n",
    "- extraxt the name of dog from tweet `text` using regex and assign it to dog name"
   ]
  },
  {
   "cell_type": "markdown",
   "metadata": {},
   "source": [
    "#### Code"
   ]
  },
  {
   "cell_type": "code",
   "execution_count": 225,
   "metadata": {},
   "outputs": [],
   "source": [
    "tw_archive_clean.name[tw_archive_clean.name=='a'] = tw_archive_clean[tw_archive_clean.name=='a'].text.str.extract(r'.*named\\s([A-Z][a-z]+).*')[0]"
   ]
  },
  {
   "cell_type": "markdown",
   "metadata": {},
   "source": [
    "#### Test"
   ]
  },
  {
   "cell_type": "code",
   "execution_count": 226,
   "metadata": {},
   "outputs": [
    {
     "output_type": "execute_result",
     "data": {
      "text/plain": "None       745\nCharlie     12\nCooper      11\nLucy        11\nOliver      11\n          ... \nDarrel       1\nGilbert      1\nScott        1\nLugan        1\nPete         1\nName: name, Length: 972, dtype: int64"
     },
     "metadata": {},
     "execution_count": 226
    }
   ],
   "source": [
    "tw_archive_clean.name.value_counts()"
   ]
  },
  {
   "cell_type": "markdown",
   "metadata": {},
   "source": [
    "- `tw_archive` mistaken missing names for 'None' as string"
   ]
  },
  {
   "cell_type": "markdown",
   "metadata": {},
   "source": [
    "#### Define:\n",
    "- extraxt the name of dog from tweet `text` using regex and assign it to dog name"
   ]
  },
  {
   "cell_type": "markdown",
   "metadata": {},
   "source": [
    "#### Code"
   ]
  },
  {
   "cell_type": "code",
   "execution_count": 227,
   "metadata": {},
   "outputs": [],
   "source": [
    "tw_archive_clean.name[tw_archive_clean.name=='None'] = tw_archive_clean[tw_archive_clean.name=='None'].text.str.extract(r'.*named\\s([A-Z][a-z]+).*')[0]"
   ]
  },
  {
   "cell_type": "markdown",
   "metadata": {},
   "source": [
    "#### Test"
   ]
  },
  {
   "cell_type": "code",
   "execution_count": 228,
   "metadata": {},
   "outputs": [
    {
     "output_type": "execute_result",
     "data": {
      "text/plain": "Charlie    12\nLucy       11\nCooper     11\nOliver     11\nPenny      10\n           ..\nDarrel      1\nGilbert     1\nScott       1\nLugan       1\nPete        1\nName: name, Length: 973, dtype: int64"
     },
     "metadata": {},
     "execution_count": 228
    }
   ],
   "source": [
    "tw_archive_clean.name.value_counts()"
   ]
  },
  {
   "cell_type": "markdown",
   "metadata": {},
   "source": [
    "- `tw_archive` Keep original tweets only."
   ]
  },
  {
   "cell_type": "markdown",
   "metadata": {},
   "source": [
    "#### Define\n",
    "- Remove retweets and replies using their non null value in their columns."
   ]
  },
  {
   "cell_type": "markdown",
   "metadata": {},
   "source": [
    "#### Code"
   ]
  },
  {
   "cell_type": "code",
   "execution_count": 229,
   "metadata": {},
   "outputs": [],
   "source": [
    "tw_archive_clean = tw_archive_clean[tw_archive_clean['in_reply_to_status_id'].isnull() & tw_archive_clean['retweeted_status_id'].isnull()]"
   ]
  },
  {
   "cell_type": "markdown",
   "metadata": {},
   "source": [
    "#### Test"
   ]
  },
  {
   "cell_type": "code",
   "execution_count": 230,
   "metadata": {
    "tags": []
   },
   "outputs": [
    {
     "output_type": "stream",
     "name": "stdout",
     "text": "<class 'pandas.core.frame.DataFrame'>\nInt64Index: 2097 entries, 0 to 2355\nData columns (total 17 columns):\n #   Column                      Non-Null Count  Dtype  \n---  ------                      --------------  -----  \n 0   tweet_id                    2097 non-null   int64  \n 1   in_reply_to_status_id       0 non-null      float64\n 2   in_reply_to_user_id         0 non-null      float64\n 3   timestamp                   2097 non-null   object \n 4   source                      2097 non-null   object \n 5   text                        2097 non-null   object \n 6   retweeted_status_id         0 non-null      float64\n 7   retweeted_status_user_id    0 non-null      float64\n 8   retweeted_status_timestamp  0 non-null      object \n 9   expanded_urls               2094 non-null   object \n 10  rating_numerator            2097 non-null   int64  \n 11  rating_denominator          2097 non-null   int64  \n 12  name                        1461 non-null   object \n 13  doggo                       2097 non-null   object \n 14  floofer                     2097 non-null   object \n 15  pupper                      2097 non-null   object \n 16  puppo                       2097 non-null   object \ndtypes: float64(4), int64(3), object(10)\nmemory usage: 294.9+ KB\n"
    }
   ],
   "source": [
    "tw_archive_clean.info()"
   ]
  },
  {
   "cell_type": "markdown",
   "metadata": {},
   "source": [
    "- `tw_archive` extra unwanted data columns i.e. (retweeted_status_user_id, retweeted_status_id, in_reply_to_status_id, in_reply_to_user_id)\n"
   ]
  },
  {
   "cell_type": "markdown",
   "metadata": {},
   "source": [
    "#### Define\n",
    "- remove extra columns using drop method."
   ]
  },
  {
   "cell_type": "markdown",
   "metadata": {},
   "source": [
    "#### Code"
   ]
  },
  {
   "cell_type": "code",
   "execution_count": 231,
   "metadata": {},
   "outputs": [],
   "source": [
    "tw_archive_clean = tw_archive_clean.drop(columns=['in_reply_to_status_id', 'in_reply_to_user_id', 'retweeted_status_id', 'retweeted_status_user_id', 'retweeted_status_timestamp'])"
   ]
  },
  {
   "cell_type": "markdown",
   "metadata": {},
   "source": [
    "#### Test"
   ]
  },
  {
   "cell_type": "code",
   "execution_count": 232,
   "metadata": {
    "tags": []
   },
   "outputs": [
    {
     "output_type": "stream",
     "name": "stdout",
     "text": "<class 'pandas.core.frame.DataFrame'>\nInt64Index: 2097 entries, 0 to 2355\nData columns (total 12 columns):\n #   Column              Non-Null Count  Dtype \n---  ------              --------------  ----- \n 0   tweet_id            2097 non-null   int64 \n 1   timestamp           2097 non-null   object\n 2   source              2097 non-null   object\n 3   text                2097 non-null   object\n 4   expanded_urls       2094 non-null   object\n 5   rating_numerator    2097 non-null   int64 \n 6   rating_denominator  2097 non-null   int64 \n 7   name                1461 non-null   object\n 8   doggo               2097 non-null   object\n 9   floofer             2097 non-null   object\n 10  pupper              2097 non-null   object\n 11  puppo               2097 non-null   object\ndtypes: int64(3), object(9)\nmemory usage: 213.0+ KB\n"
    }
   ],
   "source": [
    "tw_archive_clean.info()"
   ]
  },
  {
   "cell_type": "markdown",
   "metadata": {},
   "source": [
    "### Tidiness"
   ]
  },
  {
   "cell_type": "markdown",
   "metadata": {},
   "source": [
    "- `tw_archive`, `tw_api` have data related to each other."
   ]
  },
  {
   "cell_type": "markdown",
   "metadata": {},
   "source": [
    "#### Define\n",
    "- *merge both dataframes*: Extract the wanted data from tw_api. Then rename the tweet_id and compare to make sure it's the same tweet ids. after that merge the extracted data with tw_archive_clean "
   ]
  },
  {
   "cell_type": "markdown",
   "metadata": {},
   "source": [
    "#### Code"
   ]
  },
  {
   "cell_type": "code",
   "execution_count": 233,
   "metadata": {
    "tags": []
   },
   "outputs": [
    {
     "output_type": "stream",
     "name": "stdout",
     "text": "2090\n"
    }
   ],
   "source": [
    "tw_api_clean = tw_api_clean.rename(columns={'id':'tweet_id'})\n",
    "\n",
    "# Check whether the id is of the tweet or something else to not confuse with id_str\n",
    "avail = []\n",
    "for i in range(len(tw_api_clean.tweet_id.values)):\n",
    "    avail.append(tw_api_clean.tweet_id.values[i] in tw_archive_clean.tweet_id.values)\n",
    "print(sum(avail))\n",
    "\n",
    "tw_archive_clean = pd.merge(tw_archive_clean, tw_api_clean[['tweet_id','favorite_count','retweet_count']], on=\"tweet_id\", how='left')"
   ]
  },
  {
   "cell_type": "markdown",
   "metadata": {},
   "source": [
    "#### Test"
   ]
  },
  {
   "cell_type": "code",
   "execution_count": 234,
   "metadata": {
    "tags": []
   },
   "outputs": [
    {
     "output_type": "stream",
     "name": "stdout",
     "text": "<class 'pandas.core.frame.DataFrame'>\nInt64Index: 2097 entries, 0 to 2096\nData columns (total 14 columns):\n #   Column              Non-Null Count  Dtype  \n---  ------              --------------  -----  \n 0   tweet_id            2097 non-null   int64  \n 1   timestamp           2097 non-null   object \n 2   source              2097 non-null   object \n 3   text                2097 non-null   object \n 4   expanded_urls       2094 non-null   object \n 5   rating_numerator    2097 non-null   int64  \n 6   rating_denominator  2097 non-null   int64  \n 7   name                1461 non-null   object \n 8   doggo               2097 non-null   object \n 9   floofer             2097 non-null   object \n 10  pupper              2097 non-null   object \n 11  puppo               2097 non-null   object \n 12  favorite_count      2090 non-null   float64\n 13  retweet_count       2090 non-null   float64\ndtypes: float64(2), int64(3), object(9)\nmemory usage: 245.7+ KB\n"
    }
   ],
   "source": [
    "tw_archive_clean.info()"
   ]
  },
  {
   "cell_type": "markdown",
   "metadata": {},
   "source": [
    "- `tw_archive` dog stages into 4 columns. "
   ]
  },
  {
   "cell_type": "markdown",
   "metadata": {},
   "source": [
    "#### Define\n",
    "- merge these 4 columns into 1 column that have these all"
   ]
  },
  {
   "cell_type": "markdown",
   "metadata": {},
   "source": [
    "#### Code"
   ]
  },
  {
   "cell_type": "code",
   "execution_count": 236,
   "metadata": {},
   "outputs": [],
   "source": [
    "df = pd.melt(tw_archive_clean, id_vars=['tweet_id', 'timestamp', 'source', 'text', 'expanded_urls', 'rating_numerator', 'rating_denominator', 'name', 'retweet_count', 'favorite_count'], var_name='dog_stage', value_name='to_drop')\n",
    "df = df[df.to_drop!='None']\n",
    "\n",
    "for n, id in enumerate(tw_archive_clean.tweet_id.values):\n",
    "    if id in df.tweet_id.values:\n",
    "        tw_archive_clean.loc[n, 'dog_stage'] = df.loc[df.tweet_id==id, \"to_drop\"].iloc[0]\n",
    "    else:\n",
    "        tw_archive_clean.loc[n, 'dog_stage'] = \"\"\n",
    "\n",
    "tw_archive_clean = tw_archive_clean.drop(columns=['doggo', 'floofer', 'pupper', 'puppo'])"
   ]
  },
  {
   "cell_type": "markdown",
   "metadata": {},
   "source": [
    "#### Test"
   ]
  },
  {
   "cell_type": "code",
   "execution_count": 237,
   "metadata": {
    "tags": []
   },
   "outputs": [
    {
     "output_type": "stream",
     "name": "stdout",
     "text": "<class 'pandas.core.frame.DataFrame'>\nInt64Index: 2097 entries, 0 to 2096\nData columns (total 11 columns):\n #   Column              Non-Null Count  Dtype  \n---  ------              --------------  -----  \n 0   tweet_id            2097 non-null   int64  \n 1   timestamp           2097 non-null   object \n 2   source              2097 non-null   object \n 3   text                2097 non-null   object \n 4   expanded_urls       2094 non-null   object \n 5   rating_numerator    2097 non-null   int64  \n 6   rating_denominator  2097 non-null   int64  \n 7   name                1461 non-null   object \n 8   favorite_count      2090 non-null   float64\n 9   retweet_count       2090 non-null   float64\n 10  dog_stage           345 non-null    object \ndtypes: float64(2), int64(3), object(6)\nmemory usage: 276.6+ KB\n"
    }
   ],
   "source": [
    "tw_archive_clean.info()"
   ]
  },
  {
   "cell_type": "markdown",
   "metadata": {},
   "source": [
    "### Quality"
   ]
  },
  {
   "cell_type": "markdown",
   "metadata": {},
   "source": [
    "- some tweets are missing favourite_count and retweet_count with 0"
   ]
  },
  {
   "cell_type": "markdown",
   "metadata": {},
   "source": [
    "#### Define\n",
    "- replace the unavailable tweet counts with mean count value as they are few."
   ]
  },
  {
   "cell_type": "markdown",
   "metadata": {},
   "source": [
    "#### Code"
   ]
  },
  {
   "cell_type": "code",
   "execution_count": 238,
   "metadata": {},
   "outputs": [],
   "source": [
    "tw_archive_clean.favorite_count = tw_archive_clean.favorite_count.fillna(tw_archive_clean.favorite_count.mean())\n",
    "tw_archive_clean.retweet_count = tw_archive_clean.retweet_count.fillna(tw_archive_clean.retweet_count.mean())"
   ]
  },
  {
   "cell_type": "markdown",
   "metadata": {},
   "source": [
    "#### Test"
   ]
  },
  {
   "cell_type": "code",
   "execution_count": 239,
   "metadata": {},
   "outputs": [
    {
     "output_type": "execute_result",
     "data": {
      "text/plain": "8251.711962     7\n6233.000000     4\n774.000000      3\n2178.000000     3\n1859.000000     3\n               ..\n2702.000000     1\n12545.000000    1\n1363.000000     1\n4372.000000     1\n15872.000000    1\nName: favorite_count, Length: 1913, dtype: int64"
     },
     "metadata": {},
     "execution_count": 239
    }
   ],
   "source": [
    "tw_archive_clean.favorite_count.value_counts()"
   ]
  },
  {
   "cell_type": "markdown",
   "metadata": {},
   "source": [
    "- `tw_archive` datatype issues i.e. (tweet_id, favourite_count, retweet_count)"
   ]
  },
  {
   "cell_type": "markdown",
   "metadata": {
    "tags": []
   },
   "source": [
    "#### Define \n",
    "- convert dataTypes using astype method"
   ]
  },
  {
   "cell_type": "markdown",
   "metadata": {},
   "source": [
    "#### Code"
   ]
  },
  {
   "cell_type": "code",
   "execution_count": 240,
   "metadata": {},
   "outputs": [],
   "source": [
    "tw_archive_clean.tweet_id = tw_archive_clean.tweet_id.astype(str)\n",
    "tw_archive_clean.favorite_count = tw_archive_clean.favorite_count.astype(int)\n",
    "tw_archive_clean.retweet_count = tw_archive_clean.retweet_count.astype(int)"
   ]
  },
  {
   "cell_type": "markdown",
   "metadata": {},
   "source": [
    "#### Test"
   ]
  },
  {
   "cell_type": "code",
   "execution_count": 241,
   "metadata": {
    "tags": []
   },
   "outputs": [
    {
     "output_type": "stream",
     "name": "stdout",
     "text": "<class 'pandas.core.frame.DataFrame'>\nInt64Index: 2097 entries, 0 to 2096\nData columns (total 11 columns):\n #   Column              Non-Null Count  Dtype \n---  ------              --------------  ----- \n 0   tweet_id            2097 non-null   object\n 1   timestamp           2097 non-null   object\n 2   source              2097 non-null   object\n 3   text                2097 non-null   object\n 4   expanded_urls       2094 non-null   object\n 5   rating_numerator    2097 non-null   int64 \n 6   rating_denominator  2097 non-null   int64 \n 7   name                1461 non-null   object\n 8   favorite_count      2097 non-null   int64 \n 9   retweet_count       2097 non-null   int64 \n 10  dog_stage           345 non-null    object\ndtypes: int64(4), object(7)\nmemory usage: 276.6+ KB\n"
    }
   ],
   "source": [
    "tw_archive_clean.info()"
   ]
  },
  {
   "cell_type": "markdown",
   "metadata": {},
   "source": [
    "- `tw_archive` datatype issues i.e. (timestamp)"
   ]
  },
  {
   "cell_type": "markdown",
   "metadata": {},
   "source": [
    "#### Define\n",
    "- convert to datetime using `to_datetime` method"
   ]
  },
  {
   "cell_type": "markdown",
   "metadata": {},
   "source": [
    "#### Code"
   ]
  },
  {
   "cell_type": "code",
   "execution_count": 242,
   "metadata": {},
   "outputs": [],
   "source": [
    "tw_archive_clean.timestamp = pd.to_datetime(tw_archive_clean.timestamp)"
   ]
  },
  {
   "cell_type": "markdown",
   "metadata": {},
   "source": [
    "#### Test"
   ]
  },
  {
   "cell_type": "code",
   "execution_count": 243,
   "metadata": {
    "tags": []
   },
   "outputs": [
    {
     "output_type": "stream",
     "name": "stdout",
     "text": "<class 'pandas.core.frame.DataFrame'>\nInt64Index: 2097 entries, 0 to 2096\nData columns (total 11 columns):\n #   Column              Non-Null Count  Dtype              \n---  ------              --------------  -----              \n 0   tweet_id            2097 non-null   object             \n 1   timestamp           2097 non-null   datetime64[ns, UTC]\n 2   source              2097 non-null   object             \n 3   text                2097 non-null   object             \n 4   expanded_urls       2094 non-null   object             \n 5   rating_numerator    2097 non-null   int64              \n 6   rating_denominator  2097 non-null   int64              \n 7   name                1461 non-null   object             \n 8   favorite_count      2097 non-null   int64              \n 9   retweet_count       2097 non-null   int64              \n 10  dog_stage           345 non-null    object             \ndtypes: datetime64[ns, UTC](1), int64(4), object(6)\nmemory usage: 276.6+ KB\n"
    }
   ],
   "source": [
    "tw_archive_clean.info()"
   ]
  },
  {
   "cell_type": "markdown",
   "metadata": {},
   "source": [
    "- `tw_archive` datatype issues i.e. caegorized dog_stages"
   ]
  },
  {
   "cell_type": "markdown",
   "metadata": {},
   "source": [
    "#### Define\n",
    "- convert to category datatype"
   ]
  },
  {
   "cell_type": "markdown",
   "metadata": {},
   "source": [
    "#### Code"
   ]
  },
  {
   "cell_type": "code",
   "execution_count": 244,
   "metadata": {},
   "outputs": [],
   "source": [
    "tw_archive_clean.dog_stage = tw_archive_clean.dog_stage.astype('category')"
   ]
  },
  {
   "cell_type": "markdown",
   "metadata": {},
   "source": [
    "#### Test"
   ]
  },
  {
   "cell_type": "code",
   "execution_count": 245,
   "metadata": {
    "tags": []
   },
   "outputs": [
    {
     "output_type": "stream",
     "name": "stdout",
     "text": "<class 'pandas.core.frame.DataFrame'>\nInt64Index: 2097 entries, 0 to 2096\nData columns (total 11 columns):\n #   Column              Non-Null Count  Dtype              \n---  ------              --------------  -----              \n 0   tweet_id            2097 non-null   object             \n 1   timestamp           2097 non-null   datetime64[ns, UTC]\n 2   source              2097 non-null   object             \n 3   text                2097 non-null   object             \n 4   expanded_urls       2094 non-null   object             \n 5   rating_numerator    2097 non-null   int64              \n 6   rating_denominator  2097 non-null   int64              \n 7   name                1461 non-null   object             \n 8   favorite_count      2097 non-null   int64              \n 9   retweet_count       2097 non-null   int64              \n 10  dog_stage           345 non-null    category           \ndtypes: category(1), datetime64[ns, UTC](1), int64(4), object(5)\nmemory usage: 262.5+ KB\n"
    }
   ],
   "source": [
    "tw_archive_clean.info()"
   ]
  },
  {
   "cell_type": "markdown",
   "metadata": {},
   "source": [
    "- `tw_archive` rating fraction missing to compare dogs"
   ]
  },
  {
   "cell_type": "markdown",
   "metadata": {},
   "source": [
    "#### Define\n",
    "calculate rating fraction using numertor and denominator"
   ]
  },
  {
   "cell_type": "markdown",
   "metadata": {},
   "source": [
    "#### Code"
   ]
  },
  {
   "cell_type": "code",
   "execution_count": 253,
   "metadata": {},
   "outputs": [],
   "source": [
    "tw_archive_clean['rating_fraction'] = tw_archive_clean.rating_numerator / tw_archive_clean.rating_denominator"
   ]
  },
  {
   "cell_type": "markdown",
   "metadata": {},
   "source": [
    "#### Test"
   ]
  },
  {
   "cell_type": "code",
   "execution_count": 256,
   "metadata": {
    "tags": []
   },
   "outputs": [
    {
     "output_type": "execute_result",
     "data": {
      "text/plain": "       rating_numerator  rating_denominator  favorite_count  retweet_count  \\\ncount       2097.000000         2097.000000     2097.000000    2097.000000   \nmean          12.189318           10.448736     8251.709585    2482.440153   \nstd           40.364996            6.645061    11976.980350    4338.437370   \nmin            0.000000            2.000000       70.000000      11.000000   \n25%           10.000000           10.000000     1838.000000     552.000000   \n50%           11.000000           10.000000     3781.000000    1207.000000   \n75%           12.000000           10.000000    10256.000000    2819.000000   \nmax         1776.000000          170.000000   154205.000000   76464.000000   \n\n       rating_fraction  \ncount      2097.000000  \nmean          1.169281  \nstd           3.965932  \nmin           0.000000  \n25%           1.000000  \n50%           1.100000  \n75%           1.200000  \nmax         177.600000  ",
      "text/html": "<div>\n<style scoped>\n    .dataframe tbody tr th:only-of-type {\n        vertical-align: middle;\n    }\n\n    .dataframe tbody tr th {\n        vertical-align: top;\n    }\n\n    .dataframe thead th {\n        text-align: right;\n    }\n</style>\n<table border=\"1\" class=\"dataframe\">\n  <thead>\n    <tr style=\"text-align: right;\">\n      <th></th>\n      <th>rating_numerator</th>\n      <th>rating_denominator</th>\n      <th>favorite_count</th>\n      <th>retweet_count</th>\n      <th>rating_fraction</th>\n    </tr>\n  </thead>\n  <tbody>\n    <tr>\n      <th>count</th>\n      <td>2097.000000</td>\n      <td>2097.000000</td>\n      <td>2097.000000</td>\n      <td>2097.000000</td>\n      <td>2097.000000</td>\n    </tr>\n    <tr>\n      <th>mean</th>\n      <td>12.189318</td>\n      <td>10.448736</td>\n      <td>8251.709585</td>\n      <td>2482.440153</td>\n      <td>1.169281</td>\n    </tr>\n    <tr>\n      <th>std</th>\n      <td>40.364996</td>\n      <td>6.645061</td>\n      <td>11976.980350</td>\n      <td>4338.437370</td>\n      <td>3.965932</td>\n    </tr>\n    <tr>\n      <th>min</th>\n      <td>0.000000</td>\n      <td>2.000000</td>\n      <td>70.000000</td>\n      <td>11.000000</td>\n      <td>0.000000</td>\n    </tr>\n    <tr>\n      <th>25%</th>\n      <td>10.000000</td>\n      <td>10.000000</td>\n      <td>1838.000000</td>\n      <td>552.000000</td>\n      <td>1.000000</td>\n    </tr>\n    <tr>\n      <th>50%</th>\n      <td>11.000000</td>\n      <td>10.000000</td>\n      <td>3781.000000</td>\n      <td>1207.000000</td>\n      <td>1.100000</td>\n    </tr>\n    <tr>\n      <th>75%</th>\n      <td>12.000000</td>\n      <td>10.000000</td>\n      <td>10256.000000</td>\n      <td>2819.000000</td>\n      <td>1.200000</td>\n    </tr>\n    <tr>\n      <th>max</th>\n      <td>1776.000000</td>\n      <td>170.000000</td>\n      <td>154205.000000</td>\n      <td>76464.000000</td>\n      <td>177.600000</td>\n    </tr>\n  </tbody>\n</table>\n</div>"
     },
     "metadata": {},
     "execution_count": 256
    }
   ],
   "source": [
    "tw_archive_clean.describe()"
   ]
  },
  {
   "cell_type": "markdown",
   "metadata": {},
   "source": [
    "- `img_pred` datatype issues with (tweet_id)"
   ]
  },
  {
   "cell_type": "markdown",
   "metadata": {},
   "source": [
    "#### Define\n",
    "- change data type to string. "
   ]
  },
  {
   "cell_type": "markdown",
   "metadata": {},
   "source": [
    "#### Code"
   ]
  },
  {
   "cell_type": "code",
   "execution_count": 258,
   "metadata": {},
   "outputs": [],
   "source": [
    "img_pred_clean.tweet_id = img_pred_clean.tweet_id.astype(str)"
   ]
  },
  {
   "cell_type": "markdown",
   "metadata": {},
   "source": [
    "#### Test"
   ]
  },
  {
   "cell_type": "code",
   "execution_count": 259,
   "metadata": {
    "tags": []
   },
   "outputs": [
    {
     "output_type": "stream",
     "name": "stdout",
     "text": "<class 'pandas.core.frame.DataFrame'>\nRangeIndex: 2075 entries, 0 to 2074\nData columns (total 12 columns):\n #   Column    Non-Null Count  Dtype  \n---  ------    --------------  -----  \n 0   tweet_id  2075 non-null   object \n 1   jpg_url   2075 non-null   object \n 2   img_num   2075 non-null   int64  \n 3   p1        2075 non-null   object \n 4   p1_conf   2075 non-null   float64\n 5   p1_dog    2075 non-null   bool   \n 6   p2        2075 non-null   object \n 7   p2_conf   2075 non-null   float64\n 8   p2_dog    2075 non-null   bool   \n 9   p3        2075 non-null   object \n 10  p3_conf   2075 non-null   float64\n 11  p3_dog    2075 non-null   bool   \ndtypes: bool(3), float64(3), int64(1), object(5)\nmemory usage: 152.1+ KB\n"
    }
   ],
   "source": [
    "img_pred_clean.info()"
   ]
  },
  {
   "cell_type": "markdown",
   "metadata": {},
   "source": [
    "- `img_pred` some tweets have no images in prediction."
   ]
  },
  {
   "cell_type": "markdown",
   "metadata": {},
   "source": [
    "#### Define\n",
    "- merge both dataframes and get only tweets with image prediction"
   ]
  },
  {
   "cell_type": "markdown",
   "metadata": {},
   "source": [
    "#### Code"
   ]
  },
  {
   "cell_type": "code",
   "execution_count": 261,
   "metadata": {},
   "outputs": [],
   "source": [
    "tw_archive_master = pd.merge(img_pred_clean, tw_archive_clean, on=\"tweet_id\", how='left')"
   ]
  },
  {
   "cell_type": "markdown",
   "metadata": {},
   "source": [
    "#### Test"
   ]
  },
  {
   "cell_type": "code",
   "execution_count": 262,
   "metadata": {
    "tags": []
   },
   "outputs": [
    {
     "output_type": "stream",
     "name": "stdout",
     "text": "<class 'pandas.core.frame.DataFrame'>\nInt64Index: 2075 entries, 0 to 2074\nData columns (total 23 columns):\n #   Column              Non-Null Count  Dtype              \n---  ------              --------------  -----              \n 0   tweet_id            2075 non-null   object             \n 1   jpg_url             2075 non-null   object             \n 2   img_num             2075 non-null   int64              \n 3   p1                  2075 non-null   object             \n 4   p1_conf             2075 non-null   float64            \n 5   p1_dog              2075 non-null   bool               \n 6   p2                  2075 non-null   object             \n 7   p2_conf             2075 non-null   float64            \n 8   p2_dog              2075 non-null   bool               \n 9   p3                  2075 non-null   object             \n 10  p3_conf             2075 non-null   float64            \n 11  p3_dog              2075 non-null   bool               \n 12  timestamp           1971 non-null   datetime64[ns, UTC]\n 13  source              1971 non-null   object             \n 14  text                1971 non-null   object             \n 15  expanded_urls       1971 non-null   object             \n 16  rating_numerator    1971 non-null   float64            \n 17  rating_denominator  1971 non-null   float64            \n 18  name                1414 non-null   object             \n 19  favorite_count      1971 non-null   float64            \n 20  retweet_count       1971 non-null   float64            \n 21  dog_stage           312 non-null    category           \n 22  rating_fraction     1971 non-null   float64            \ndtypes: bool(3), category(1), datetime64[ns, UTC](1), float64(8), int64(1), object(9)\nmemory usage: 332.5+ KB\n"
    }
   ],
   "source": [
    "tw_archive_master.info()"
   ]
  },
  {
   "cell_type": "markdown",
   "metadata": {},
   "source": [
    "## Storing Data"
   ]
  },
  {
   "cell_type": "code",
   "execution_count": 264,
   "metadata": {},
   "outputs": [],
   "source": [
    "# This runs once after cleaning\n",
    "tw_archive_master.to_csv('saved_work/twitter_archive_master.csv')"
   ]
  },
  {
   "cell_type": "markdown",
   "metadata": {},
   "source": [
    "## Analyzing and Visulaizing "
   ]
  },
  {
   "cell_type": "code",
   "execution_count": 267,
   "metadata": {},
   "outputs": [],
   "source": [
    "df = tw_archive_master"
   ]
  },
  {
   "cell_type": "markdown",
   "metadata": {},
   "source": [
    "### What is the highest rated dog stage ?"
   ]
  },
  {
   "cell_type": "code",
   "execution_count": 291,
   "metadata": {},
   "outputs": [
    {
     "output_type": "execute_result",
     "data": {
      "text/plain": "dog_stage\ndoggo      1.179452\nfloofer    1.200000\npupper     1.071642\npuppo      1.200000\nName: rating_fraction, dtype: float64"
     },
     "metadata": {},
     "execution_count": 291
    },
    {
     "output_type": "display_data",
     "data": {
      "text/plain": "<Figure size 432x288 with 1 Axes>",
      "image/svg+xml": "<?xml version=\"1.0\" encoding=\"utf-8\" standalone=\"no\"?>\n<!DOCTYPE svg PUBLIC \"-//W3C//DTD SVG 1.1//EN\"\n  \"http://www.w3.org/Graphics/SVG/1.1/DTD/svg11.dtd\">\n<!-- Created with matplotlib (https://matplotlib.org/) -->\n<svg height=\"288.443125pt\" version=\"1.1\" viewBox=\"0 0 372.103125 288.443125\" width=\"372.103125pt\" xmlns=\"http://www.w3.org/2000/svg\" xmlns:xlink=\"http://www.w3.org/1999/xlink\">\n <defs>\n  <style type=\"text/css\">\n*{stroke-linecap:butt;stroke-linejoin:round;}\n  </style>\n </defs>\n <g id=\"figure_1\">\n  <g id=\"patch_1\">\n   <path d=\"M 0 288.443125 \nL 372.103125 288.443125 \nL 372.103125 0 \nL 0 0 \nz\n\" style=\"fill:none;\"/>\n  </g>\n  <g id=\"axes_1\">\n   <g id=\"patch_2\">\n    <path d=\"M 30.103125 224.64 \nL 364.903125 224.64 \nL 364.903125 7.2 \nL 30.103125 7.2 \nz\n\" style=\"fill:#ffffff;\"/>\n   </g>\n   <g id=\"patch_3\">\n    <path clip-path=\"url(#p3f69ac861a)\" d=\"M 51.028125 224.64 \nL 92.878125 224.64 \nL 92.878125 21.100274 \nL 51.028125 21.100274 \nz\n\" style=\"fill:#1f77b4;\"/>\n   </g>\n   <g id=\"patch_4\">\n    <path clip-path=\"url(#p3f69ac861a)\" d=\"M 134.728125 224.64 \nL 176.578125 224.64 \nL 176.578125 17.554286 \nL 134.728125 17.554286 \nz\n\" style=\"fill:#1f77b4;\"/>\n   </g>\n   <g id=\"patch_5\">\n    <path clip-path=\"url(#p3f69ac861a)\" d=\"M 218.428125 224.64 \nL 260.278125 224.64 \nL 260.278125 39.705245 \nL 218.428125 39.705245 \nz\n\" style=\"fill:#1f77b4;\"/>\n   </g>\n   <g id=\"patch_6\">\n    <path clip-path=\"url(#p3f69ac861a)\" d=\"M 302.128125 224.64 \nL 343.978125 224.64 \nL 343.978125 17.554286 \nL 302.128125 17.554286 \nz\n\" style=\"fill:#1f77b4;\"/>\n   </g>\n   <g id=\"matplotlib.axis_1\">\n    <g id=\"xtick_1\">\n     <g id=\"line2d_1\">\n      <defs>\n       <path d=\"M 0 0 \nL 0 3.5 \n\" id=\"ma7b4825fed\" style=\"stroke:#000000;stroke-width:0.8;\"/>\n      </defs>\n      <g>\n       <use style=\"stroke:#000000;stroke-width:0.8;\" x=\"71.953125\" xlink:href=\"#ma7b4825fed\" y=\"224.64\"/>\n      </g>\n     </g>\n     <g id=\"text_1\">\n      <!-- doggo -->\n      <defs>\n       <path d=\"M 45.40625 46.390625 \nL 45.40625 75.984375 \nL 54.390625 75.984375 \nL 54.390625 0 \nL 45.40625 0 \nL 45.40625 8.203125 \nQ 42.578125 3.328125 38.25 0.953125 \nQ 33.9375 -1.421875 27.875 -1.421875 \nQ 17.96875 -1.421875 11.734375 6.484375 \nQ 5.515625 14.40625 5.515625 27.296875 \nQ 5.515625 40.1875 11.734375 48.09375 \nQ 17.96875 56 27.875 56 \nQ 33.9375 56 38.25 53.625 \nQ 42.578125 51.265625 45.40625 46.390625 \nz\nM 14.796875 27.296875 \nQ 14.796875 17.390625 18.875 11.75 \nQ 22.953125 6.109375 30.078125 6.109375 \nQ 37.203125 6.109375 41.296875 11.75 \nQ 45.40625 17.390625 45.40625 27.296875 \nQ 45.40625 37.203125 41.296875 42.84375 \nQ 37.203125 48.484375 30.078125 48.484375 \nQ 22.953125 48.484375 18.875 42.84375 \nQ 14.796875 37.203125 14.796875 27.296875 \nz\n\" id=\"DejaVuSans-100\"/>\n       <path d=\"M 30.609375 48.390625 \nQ 23.390625 48.390625 19.1875 42.75 \nQ 14.984375 37.109375 14.984375 27.296875 \nQ 14.984375 17.484375 19.15625 11.84375 \nQ 23.34375 6.203125 30.609375 6.203125 \nQ 37.796875 6.203125 41.984375 11.859375 \nQ 46.1875 17.53125 46.1875 27.296875 \nQ 46.1875 37.015625 41.984375 42.703125 \nQ 37.796875 48.390625 30.609375 48.390625 \nz\nM 30.609375 56 \nQ 42.328125 56 49.015625 48.375 \nQ 55.71875 40.765625 55.71875 27.296875 \nQ 55.71875 13.875 49.015625 6.21875 \nQ 42.328125 -1.421875 30.609375 -1.421875 \nQ 18.84375 -1.421875 12.171875 6.21875 \nQ 5.515625 13.875 5.515625 27.296875 \nQ 5.515625 40.765625 12.171875 48.375 \nQ 18.84375 56 30.609375 56 \nz\n\" id=\"DejaVuSans-111\"/>\n       <path d=\"M 45.40625 27.984375 \nQ 45.40625 37.75 41.375 43.109375 \nQ 37.359375 48.484375 30.078125 48.484375 \nQ 22.859375 48.484375 18.828125 43.109375 \nQ 14.796875 37.75 14.796875 27.984375 \nQ 14.796875 18.265625 18.828125 12.890625 \nQ 22.859375 7.515625 30.078125 7.515625 \nQ 37.359375 7.515625 41.375 12.890625 \nQ 45.40625 18.265625 45.40625 27.984375 \nz\nM 54.390625 6.78125 \nQ 54.390625 -7.171875 48.1875 -13.984375 \nQ 42 -20.796875 29.203125 -20.796875 \nQ 24.46875 -20.796875 20.265625 -20.09375 \nQ 16.0625 -19.390625 12.109375 -17.921875 \nL 12.109375 -9.1875 \nQ 16.0625 -11.328125 19.921875 -12.34375 \nQ 23.78125 -13.375 27.78125 -13.375 \nQ 36.625 -13.375 41.015625 -8.765625 \nQ 45.40625 -4.15625 45.40625 5.171875 \nL 45.40625 9.625 \nQ 42.625 4.78125 38.28125 2.390625 \nQ 33.9375 0 27.875 0 \nQ 17.828125 0 11.671875 7.65625 \nQ 5.515625 15.328125 5.515625 27.984375 \nQ 5.515625 40.671875 11.671875 48.328125 \nQ 17.828125 56 27.875 56 \nQ 33.9375 56 38.28125 53.609375 \nQ 42.625 51.21875 45.40625 46.390625 \nL 45.40625 54.6875 \nL 54.390625 54.6875 \nz\n\" id=\"DejaVuSans-103\"/>\n      </defs>\n      <g transform=\"translate(74.7125 262.922812)rotate(-90)scale(0.1 -0.1)\">\n       <use xlink:href=\"#DejaVuSans-100\"/>\n       <use x=\"63.476562\" xlink:href=\"#DejaVuSans-111\"/>\n       <use x=\"124.658203\" xlink:href=\"#DejaVuSans-103\"/>\n       <use x=\"188.134766\" xlink:href=\"#DejaVuSans-103\"/>\n       <use x=\"251.611328\" xlink:href=\"#DejaVuSans-111\"/>\n      </g>\n     </g>\n    </g>\n    <g id=\"xtick_2\">\n     <g id=\"line2d_2\">\n      <g>\n       <use style=\"stroke:#000000;stroke-width:0.8;\" x=\"155.653125\" xlink:href=\"#ma7b4825fed\" y=\"224.64\"/>\n      </g>\n     </g>\n     <g id=\"text_2\">\n      <!-- floofer -->\n      <defs>\n       <path d=\"M 37.109375 75.984375 \nL 37.109375 68.5 \nL 28.515625 68.5 \nQ 23.6875 68.5 21.796875 66.546875 \nQ 19.921875 64.59375 19.921875 59.515625 \nL 19.921875 54.6875 \nL 34.71875 54.6875 \nL 34.71875 47.703125 \nL 19.921875 47.703125 \nL 19.921875 0 \nL 10.890625 0 \nL 10.890625 47.703125 \nL 2.296875 47.703125 \nL 2.296875 54.6875 \nL 10.890625 54.6875 \nL 10.890625 58.5 \nQ 10.890625 67.625 15.140625 71.796875 \nQ 19.390625 75.984375 28.609375 75.984375 \nz\n\" id=\"DejaVuSans-102\"/>\n       <path d=\"M 9.421875 75.984375 \nL 18.40625 75.984375 \nL 18.40625 0 \nL 9.421875 0 \nz\n\" id=\"DejaVuSans-108\"/>\n       <path d=\"M 56.203125 29.59375 \nL 56.203125 25.203125 \nL 14.890625 25.203125 \nQ 15.484375 15.921875 20.484375 11.0625 \nQ 25.484375 6.203125 34.421875 6.203125 \nQ 39.59375 6.203125 44.453125 7.46875 \nQ 49.3125 8.734375 54.109375 11.28125 \nL 54.109375 2.78125 \nQ 49.265625 0.734375 44.1875 -0.34375 \nQ 39.109375 -1.421875 33.890625 -1.421875 \nQ 20.796875 -1.421875 13.15625 6.1875 \nQ 5.515625 13.8125 5.515625 26.8125 \nQ 5.515625 40.234375 12.765625 48.109375 \nQ 20.015625 56 32.328125 56 \nQ 43.359375 56 49.78125 48.890625 \nQ 56.203125 41.796875 56.203125 29.59375 \nz\nM 47.21875 32.234375 \nQ 47.125 39.59375 43.09375 43.984375 \nQ 39.0625 48.390625 32.421875 48.390625 \nQ 24.90625 48.390625 20.390625 44.140625 \nQ 15.875 39.890625 15.1875 32.171875 \nz\n\" id=\"DejaVuSans-101\"/>\n       <path d=\"M 41.109375 46.296875 \nQ 39.59375 47.171875 37.8125 47.578125 \nQ 36.03125 48 33.890625 48 \nQ 26.265625 48 22.1875 43.046875 \nQ 18.109375 38.09375 18.109375 28.8125 \nL 18.109375 0 \nL 9.078125 0 \nL 9.078125 54.6875 \nL 18.109375 54.6875 \nL 18.109375 46.1875 \nQ 20.953125 51.171875 25.484375 53.578125 \nQ 30.03125 56 36.53125 56 \nQ 37.453125 56 38.578125 55.875 \nQ 39.703125 55.765625 41.0625 55.515625 \nz\n\" id=\"DejaVuSans-114\"/>\n      </defs>\n      <g transform=\"translate(158.4125 263.960312)rotate(-90)scale(0.1 -0.1)\">\n       <use xlink:href=\"#DejaVuSans-102\"/>\n       <use x=\"35.205078\" xlink:href=\"#DejaVuSans-108\"/>\n       <use x=\"62.988281\" xlink:href=\"#DejaVuSans-111\"/>\n       <use x=\"124.169922\" xlink:href=\"#DejaVuSans-111\"/>\n       <use x=\"185.351562\" xlink:href=\"#DejaVuSans-102\"/>\n       <use x=\"220.556641\" xlink:href=\"#DejaVuSans-101\"/>\n       <use x=\"282.080078\" xlink:href=\"#DejaVuSans-114\"/>\n      </g>\n     </g>\n    </g>\n    <g id=\"xtick_3\">\n     <g id=\"line2d_3\">\n      <g>\n       <use style=\"stroke:#000000;stroke-width:0.8;\" x=\"239.353125\" xlink:href=\"#ma7b4825fed\" y=\"224.64\"/>\n      </g>\n     </g>\n     <g id=\"text_3\">\n      <!-- pupper -->\n      <defs>\n       <path d=\"M 18.109375 8.203125 \nL 18.109375 -20.796875 \nL 9.078125 -20.796875 \nL 9.078125 54.6875 \nL 18.109375 54.6875 \nL 18.109375 46.390625 \nQ 20.953125 51.265625 25.265625 53.625 \nQ 29.59375 56 35.59375 56 \nQ 45.5625 56 51.78125 48.09375 \nQ 58.015625 40.1875 58.015625 27.296875 \nQ 58.015625 14.40625 51.78125 6.484375 \nQ 45.5625 -1.421875 35.59375 -1.421875 \nQ 29.59375 -1.421875 25.265625 0.953125 \nQ 20.953125 3.328125 18.109375 8.203125 \nz\nM 48.6875 27.296875 \nQ 48.6875 37.203125 44.609375 42.84375 \nQ 40.53125 48.484375 33.40625 48.484375 \nQ 26.265625 48.484375 22.1875 42.84375 \nQ 18.109375 37.203125 18.109375 27.296875 \nQ 18.109375 17.390625 22.1875 11.75 \nQ 26.265625 6.109375 33.40625 6.109375 \nQ 40.53125 6.109375 44.609375 11.75 \nQ 48.6875 17.390625 48.6875 27.296875 \nz\n\" id=\"DejaVuSans-112\"/>\n       <path d=\"M 8.5 21.578125 \nL 8.5 54.6875 \nL 17.484375 54.6875 \nL 17.484375 21.921875 \nQ 17.484375 14.15625 20.5 10.265625 \nQ 23.53125 6.390625 29.59375 6.390625 \nQ 36.859375 6.390625 41.078125 11.03125 \nQ 45.3125 15.671875 45.3125 23.6875 \nL 45.3125 54.6875 \nL 54.296875 54.6875 \nL 54.296875 0 \nL 45.3125 0 \nL 45.3125 8.40625 \nQ 42.046875 3.421875 37.71875 1 \nQ 33.40625 -1.421875 27.6875 -1.421875 \nQ 18.265625 -1.421875 13.375 4.4375 \nQ 8.5 10.296875 8.5 21.578125 \nz\nM 31.109375 56 \nz\n\" id=\"DejaVuSans-117\"/>\n      </defs>\n      <g transform=\"translate(242.1125 267.286875)rotate(-90)scale(0.1 -0.1)\">\n       <use xlink:href=\"#DejaVuSans-112\"/>\n       <use x=\"63.476562\" xlink:href=\"#DejaVuSans-117\"/>\n       <use x=\"126.855469\" xlink:href=\"#DejaVuSans-112\"/>\n       <use x=\"190.332031\" xlink:href=\"#DejaVuSans-112\"/>\n       <use x=\"253.808594\" xlink:href=\"#DejaVuSans-101\"/>\n       <use x=\"315.332031\" xlink:href=\"#DejaVuSans-114\"/>\n      </g>\n     </g>\n    </g>\n    <g id=\"xtick_4\">\n     <g id=\"line2d_4\">\n      <g>\n       <use style=\"stroke:#000000;stroke-width:0.8;\" x=\"323.053125\" xlink:href=\"#ma7b4825fed\" y=\"224.64\"/>\n      </g>\n     </g>\n     <g id=\"text_4\">\n      <!-- puppo -->\n      <g transform=\"translate(325.8125 263.141562)rotate(-90)scale(0.1 -0.1)\">\n       <use xlink:href=\"#DejaVuSans-112\"/>\n       <use x=\"63.476562\" xlink:href=\"#DejaVuSans-117\"/>\n       <use x=\"126.855469\" xlink:href=\"#DejaVuSans-112\"/>\n       <use x=\"190.332031\" xlink:href=\"#DejaVuSans-112\"/>\n       <use x=\"253.808594\" xlink:href=\"#DejaVuSans-111\"/>\n      </g>\n     </g>\n    </g>\n    <g id=\"text_5\">\n     <!-- dog_stage -->\n     <defs>\n      <path d=\"M 50.984375 -16.609375 \nL 50.984375 -23.578125 \nL -0.984375 -23.578125 \nL -0.984375 -16.609375 \nz\n\" id=\"DejaVuSans-95\"/>\n      <path d=\"M 44.28125 53.078125 \nL 44.28125 44.578125 \nQ 40.484375 46.53125 36.375 47.5 \nQ 32.28125 48.484375 27.875 48.484375 \nQ 21.1875 48.484375 17.84375 46.4375 \nQ 14.5 44.390625 14.5 40.28125 \nQ 14.5 37.15625 16.890625 35.375 \nQ 19.28125 33.59375 26.515625 31.984375 \nL 29.59375 31.296875 \nQ 39.15625 29.25 43.1875 25.515625 \nQ 47.21875 21.78125 47.21875 15.09375 \nQ 47.21875 7.46875 41.1875 3.015625 \nQ 35.15625 -1.421875 24.609375 -1.421875 \nQ 20.21875 -1.421875 15.453125 -0.5625 \nQ 10.6875 0.296875 5.421875 2 \nL 5.421875 11.28125 \nQ 10.40625 8.6875 15.234375 7.390625 \nQ 20.0625 6.109375 24.8125 6.109375 \nQ 31.15625 6.109375 34.5625 8.28125 \nQ 37.984375 10.453125 37.984375 14.40625 \nQ 37.984375 18.0625 35.515625 20.015625 \nQ 33.0625 21.96875 24.703125 23.78125 \nL 21.578125 24.515625 \nQ 13.234375 26.265625 9.515625 29.90625 \nQ 5.8125 33.546875 5.8125 39.890625 \nQ 5.8125 47.609375 11.28125 51.796875 \nQ 16.75 56 26.8125 56 \nQ 31.78125 56 36.171875 55.265625 \nQ 40.578125 54.546875 44.28125 53.078125 \nz\n\" id=\"DejaVuSans-115\"/>\n      <path d=\"M 18.3125 70.21875 \nL 18.3125 54.6875 \nL 36.8125 54.6875 \nL 36.8125 47.703125 \nL 18.3125 47.703125 \nL 18.3125 18.015625 \nQ 18.3125 11.328125 20.140625 9.421875 \nQ 21.96875 7.515625 27.59375 7.515625 \nL 36.8125 7.515625 \nL 36.8125 0 \nL 27.59375 0 \nQ 17.1875 0 13.234375 3.875 \nQ 9.28125 7.765625 9.28125 18.015625 \nL 9.28125 47.703125 \nL 2.6875 47.703125 \nL 2.6875 54.6875 \nL 9.28125 54.6875 \nL 9.28125 70.21875 \nz\n\" id=\"DejaVuSans-116\"/>\n      <path d=\"M 34.28125 27.484375 \nQ 23.390625 27.484375 19.1875 25 \nQ 14.984375 22.515625 14.984375 16.5 \nQ 14.984375 11.71875 18.140625 8.90625 \nQ 21.296875 6.109375 26.703125 6.109375 \nQ 34.1875 6.109375 38.703125 11.40625 \nQ 43.21875 16.703125 43.21875 25.484375 \nL 43.21875 27.484375 \nz\nM 52.203125 31.203125 \nL 52.203125 0 \nL 43.21875 0 \nL 43.21875 8.296875 \nQ 40.140625 3.328125 35.546875 0.953125 \nQ 30.953125 -1.421875 24.3125 -1.421875 \nQ 15.921875 -1.421875 10.953125 3.296875 \nQ 6 8.015625 6 15.921875 \nQ 6 25.140625 12.171875 29.828125 \nQ 18.359375 34.515625 30.609375 34.515625 \nL 43.21875 34.515625 \nL 43.21875 35.40625 \nQ 43.21875 41.609375 39.140625 45 \nQ 35.0625 48.390625 27.6875 48.390625 \nQ 23 48.390625 18.546875 47.265625 \nQ 14.109375 46.140625 10.015625 43.890625 \nL 10.015625 52.203125 \nQ 14.9375 54.109375 19.578125 55.046875 \nQ 24.21875 56 28.609375 56 \nQ 40.484375 56 46.34375 49.84375 \nQ 52.203125 43.703125 52.203125 31.203125 \nz\n\" id=\"DejaVuSans-97\"/>\n     </defs>\n     <g transform=\"translate(171.715625 278.885312)scale(0.1 -0.1)\">\n      <use xlink:href=\"#DejaVuSans-100\"/>\n      <use x=\"63.476562\" xlink:href=\"#DejaVuSans-111\"/>\n      <use x=\"124.658203\" xlink:href=\"#DejaVuSans-103\"/>\n      <use x=\"188.134766\" xlink:href=\"#DejaVuSans-95\"/>\n      <use x=\"238.134766\" xlink:href=\"#DejaVuSans-115\"/>\n      <use x=\"290.234375\" xlink:href=\"#DejaVuSans-116\"/>\n      <use x=\"329.443359\" xlink:href=\"#DejaVuSans-97\"/>\n      <use x=\"390.722656\" xlink:href=\"#DejaVuSans-103\"/>\n      <use x=\"454.199219\" xlink:href=\"#DejaVuSans-101\"/>\n     </g>\n    </g>\n   </g>\n   <g id=\"matplotlib.axis_2\">\n    <g id=\"ytick_1\">\n     <g id=\"line2d_5\">\n      <defs>\n       <path d=\"M 0 0 \nL -3.5 0 \n\" id=\"m0ad359789b\" style=\"stroke:#000000;stroke-width:0.8;\"/>\n      </defs>\n      <g>\n       <use style=\"stroke:#000000;stroke-width:0.8;\" x=\"30.103125\" xlink:href=\"#m0ad359789b\" y=\"224.64\"/>\n      </g>\n     </g>\n     <g id=\"text_6\">\n      <!-- 0.0 -->\n      <defs>\n       <path d=\"M 31.78125 66.40625 \nQ 24.171875 66.40625 20.328125 58.90625 \nQ 16.5 51.421875 16.5 36.375 \nQ 16.5 21.390625 20.328125 13.890625 \nQ 24.171875 6.390625 31.78125 6.390625 \nQ 39.453125 6.390625 43.28125 13.890625 \nQ 47.125 21.390625 47.125 36.375 \nQ 47.125 51.421875 43.28125 58.90625 \nQ 39.453125 66.40625 31.78125 66.40625 \nz\nM 31.78125 74.21875 \nQ 44.046875 74.21875 50.515625 64.515625 \nQ 56.984375 54.828125 56.984375 36.375 \nQ 56.984375 17.96875 50.515625 8.265625 \nQ 44.046875 -1.421875 31.78125 -1.421875 \nQ 19.53125 -1.421875 13.0625 8.265625 \nQ 6.59375 17.96875 6.59375 36.375 \nQ 6.59375 54.828125 13.0625 64.515625 \nQ 19.53125 74.21875 31.78125 74.21875 \nz\n\" id=\"DejaVuSans-48\"/>\n       <path d=\"M 10.6875 12.40625 \nL 21 12.40625 \nL 21 0 \nL 10.6875 0 \nz\n\" id=\"DejaVuSans-46\"/>\n      </defs>\n      <g transform=\"translate(7.2 228.439219)scale(0.1 -0.1)\">\n       <use xlink:href=\"#DejaVuSans-48\"/>\n       <use x=\"63.623047\" xlink:href=\"#DejaVuSans-46\"/>\n       <use x=\"95.410156\" xlink:href=\"#DejaVuSans-48\"/>\n      </g>\n     </g>\n    </g>\n    <g id=\"ytick_2\">\n     <g id=\"line2d_6\">\n      <g>\n       <use style=\"stroke:#000000;stroke-width:0.8;\" x=\"30.103125\" xlink:href=\"#m0ad359789b\" y=\"190.125714\"/>\n      </g>\n     </g>\n     <g id=\"text_7\">\n      <!-- 0.2 -->\n      <defs>\n       <path d=\"M 19.1875 8.296875 \nL 53.609375 8.296875 \nL 53.609375 0 \nL 7.328125 0 \nL 7.328125 8.296875 \nQ 12.9375 14.109375 22.625 23.890625 \nQ 32.328125 33.6875 34.8125 36.53125 \nQ 39.546875 41.84375 41.421875 45.53125 \nQ 43.3125 49.21875 43.3125 52.78125 \nQ 43.3125 58.59375 39.234375 62.25 \nQ 35.15625 65.921875 28.609375 65.921875 \nQ 23.96875 65.921875 18.8125 64.3125 \nQ 13.671875 62.703125 7.8125 59.421875 \nL 7.8125 69.390625 \nQ 13.765625 71.78125 18.9375 73 \nQ 24.125 74.21875 28.421875 74.21875 \nQ 39.75 74.21875 46.484375 68.546875 \nQ 53.21875 62.890625 53.21875 53.421875 \nQ 53.21875 48.921875 51.53125 44.890625 \nQ 49.859375 40.875 45.40625 35.40625 \nQ 44.1875 33.984375 37.640625 27.21875 \nQ 31.109375 20.453125 19.1875 8.296875 \nz\n\" id=\"DejaVuSans-50\"/>\n      </defs>\n      <g transform=\"translate(7.2 193.924933)scale(0.1 -0.1)\">\n       <use xlink:href=\"#DejaVuSans-48\"/>\n       <use x=\"63.623047\" xlink:href=\"#DejaVuSans-46\"/>\n       <use x=\"95.410156\" xlink:href=\"#DejaVuSans-50\"/>\n      </g>\n     </g>\n    </g>\n    <g id=\"ytick_3\">\n     <g id=\"line2d_7\">\n      <g>\n       <use style=\"stroke:#000000;stroke-width:0.8;\" x=\"30.103125\" xlink:href=\"#m0ad359789b\" y=\"155.611429\"/>\n      </g>\n     </g>\n     <g id=\"text_8\">\n      <!-- 0.4 -->\n      <defs>\n       <path d=\"M 37.796875 64.3125 \nL 12.890625 25.390625 \nL 37.796875 25.390625 \nz\nM 35.203125 72.90625 \nL 47.609375 72.90625 \nL 47.609375 25.390625 \nL 58.015625 25.390625 \nL 58.015625 17.1875 \nL 47.609375 17.1875 \nL 47.609375 0 \nL 37.796875 0 \nL 37.796875 17.1875 \nL 4.890625 17.1875 \nL 4.890625 26.703125 \nz\n\" id=\"DejaVuSans-52\"/>\n      </defs>\n      <g transform=\"translate(7.2 159.410647)scale(0.1 -0.1)\">\n       <use xlink:href=\"#DejaVuSans-48\"/>\n       <use x=\"63.623047\" xlink:href=\"#DejaVuSans-46\"/>\n       <use x=\"95.410156\" xlink:href=\"#DejaVuSans-52\"/>\n      </g>\n     </g>\n    </g>\n    <g id=\"ytick_4\">\n     <g id=\"line2d_8\">\n      <g>\n       <use style=\"stroke:#000000;stroke-width:0.8;\" x=\"30.103125\" xlink:href=\"#m0ad359789b\" y=\"121.097143\"/>\n      </g>\n     </g>\n     <g id=\"text_9\">\n      <!-- 0.6 -->\n      <defs>\n       <path d=\"M 33.015625 40.375 \nQ 26.375 40.375 22.484375 35.828125 \nQ 18.609375 31.296875 18.609375 23.390625 \nQ 18.609375 15.53125 22.484375 10.953125 \nQ 26.375 6.390625 33.015625 6.390625 \nQ 39.65625 6.390625 43.53125 10.953125 \nQ 47.40625 15.53125 47.40625 23.390625 \nQ 47.40625 31.296875 43.53125 35.828125 \nQ 39.65625 40.375 33.015625 40.375 \nz\nM 52.59375 71.296875 \nL 52.59375 62.3125 \nQ 48.875 64.0625 45.09375 64.984375 \nQ 41.3125 65.921875 37.59375 65.921875 \nQ 27.828125 65.921875 22.671875 59.328125 \nQ 17.53125 52.734375 16.796875 39.40625 \nQ 19.671875 43.65625 24.015625 45.921875 \nQ 28.375 48.1875 33.59375 48.1875 \nQ 44.578125 48.1875 50.953125 41.515625 \nQ 57.328125 34.859375 57.328125 23.390625 \nQ 57.328125 12.15625 50.6875 5.359375 \nQ 44.046875 -1.421875 33.015625 -1.421875 \nQ 20.359375 -1.421875 13.671875 8.265625 \nQ 6.984375 17.96875 6.984375 36.375 \nQ 6.984375 53.65625 15.1875 63.9375 \nQ 23.390625 74.21875 37.203125 74.21875 \nQ 40.921875 74.21875 44.703125 73.484375 \nQ 48.484375 72.75 52.59375 71.296875 \nz\n\" id=\"DejaVuSans-54\"/>\n      </defs>\n      <g transform=\"translate(7.2 124.896362)scale(0.1 -0.1)\">\n       <use xlink:href=\"#DejaVuSans-48\"/>\n       <use x=\"63.623047\" xlink:href=\"#DejaVuSans-46\"/>\n       <use x=\"95.410156\" xlink:href=\"#DejaVuSans-54\"/>\n      </g>\n     </g>\n    </g>\n    <g id=\"ytick_5\">\n     <g id=\"line2d_9\">\n      <g>\n       <use style=\"stroke:#000000;stroke-width:0.8;\" x=\"30.103125\" xlink:href=\"#m0ad359789b\" y=\"86.582857\"/>\n      </g>\n     </g>\n     <g id=\"text_10\">\n      <!-- 0.8 -->\n      <defs>\n       <path d=\"M 31.78125 34.625 \nQ 24.75 34.625 20.71875 30.859375 \nQ 16.703125 27.09375 16.703125 20.515625 \nQ 16.703125 13.921875 20.71875 10.15625 \nQ 24.75 6.390625 31.78125 6.390625 \nQ 38.8125 6.390625 42.859375 10.171875 \nQ 46.921875 13.96875 46.921875 20.515625 \nQ 46.921875 27.09375 42.890625 30.859375 \nQ 38.875 34.625 31.78125 34.625 \nz\nM 21.921875 38.8125 \nQ 15.578125 40.375 12.03125 44.71875 \nQ 8.5 49.078125 8.5 55.328125 \nQ 8.5 64.0625 14.71875 69.140625 \nQ 20.953125 74.21875 31.78125 74.21875 \nQ 42.671875 74.21875 48.875 69.140625 \nQ 55.078125 64.0625 55.078125 55.328125 \nQ 55.078125 49.078125 51.53125 44.71875 \nQ 48 40.375 41.703125 38.8125 \nQ 48.828125 37.15625 52.796875 32.3125 \nQ 56.78125 27.484375 56.78125 20.515625 \nQ 56.78125 9.90625 50.3125 4.234375 \nQ 43.84375 -1.421875 31.78125 -1.421875 \nQ 19.734375 -1.421875 13.25 4.234375 \nQ 6.78125 9.90625 6.78125 20.515625 \nQ 6.78125 27.484375 10.78125 32.3125 \nQ 14.796875 37.15625 21.921875 38.8125 \nz\nM 18.3125 54.390625 \nQ 18.3125 48.734375 21.84375 45.5625 \nQ 25.390625 42.390625 31.78125 42.390625 \nQ 38.140625 42.390625 41.71875 45.5625 \nQ 45.3125 48.734375 45.3125 54.390625 \nQ 45.3125 60.0625 41.71875 63.234375 \nQ 38.140625 66.40625 31.78125 66.40625 \nQ 25.390625 66.40625 21.84375 63.234375 \nQ 18.3125 60.0625 18.3125 54.390625 \nz\n\" id=\"DejaVuSans-56\"/>\n      </defs>\n      <g transform=\"translate(7.2 90.382076)scale(0.1 -0.1)\">\n       <use xlink:href=\"#DejaVuSans-48\"/>\n       <use x=\"63.623047\" xlink:href=\"#DejaVuSans-46\"/>\n       <use x=\"95.410156\" xlink:href=\"#DejaVuSans-56\"/>\n      </g>\n     </g>\n    </g>\n    <g id=\"ytick_6\">\n     <g id=\"line2d_10\">\n      <g>\n       <use style=\"stroke:#000000;stroke-width:0.8;\" x=\"30.103125\" xlink:href=\"#m0ad359789b\" y=\"52.068571\"/>\n      </g>\n     </g>\n     <g id=\"text_11\">\n      <!-- 1.0 -->\n      <defs>\n       <path d=\"M 12.40625 8.296875 \nL 28.515625 8.296875 \nL 28.515625 63.921875 \nL 10.984375 60.40625 \nL 10.984375 69.390625 \nL 28.421875 72.90625 \nL 38.28125 72.90625 \nL 38.28125 8.296875 \nL 54.390625 8.296875 \nL 54.390625 0 \nL 12.40625 0 \nz\n\" id=\"DejaVuSans-49\"/>\n      </defs>\n      <g transform=\"translate(7.2 55.86779)scale(0.1 -0.1)\">\n       <use xlink:href=\"#DejaVuSans-49\"/>\n       <use x=\"63.623047\" xlink:href=\"#DejaVuSans-46\"/>\n       <use x=\"95.410156\" xlink:href=\"#DejaVuSans-48\"/>\n      </g>\n     </g>\n    </g>\n    <g id=\"ytick_7\">\n     <g id=\"line2d_11\">\n      <g>\n       <use style=\"stroke:#000000;stroke-width:0.8;\" x=\"30.103125\" xlink:href=\"#m0ad359789b\" y=\"17.554286\"/>\n      </g>\n     </g>\n     <g id=\"text_12\">\n      <!-- 1.2 -->\n      <g transform=\"translate(7.2 21.353504)scale(0.1 -0.1)\">\n       <use xlink:href=\"#DejaVuSans-49\"/>\n       <use x=\"63.623047\" xlink:href=\"#DejaVuSans-46\"/>\n       <use x=\"95.410156\" xlink:href=\"#DejaVuSans-50\"/>\n      </g>\n     </g>\n    </g>\n   </g>\n   <g id=\"patch_7\">\n    <path d=\"M 30.103125 224.64 \nL 30.103125 7.2 \n\" style=\"fill:none;stroke:#000000;stroke-linecap:square;stroke-linejoin:miter;stroke-width:0.8;\"/>\n   </g>\n   <g id=\"patch_8\">\n    <path d=\"M 364.903125 224.64 \nL 364.903125 7.2 \n\" style=\"fill:none;stroke:#000000;stroke-linecap:square;stroke-linejoin:miter;stroke-width:0.8;\"/>\n   </g>\n   <g id=\"patch_9\">\n    <path d=\"M 30.103125 224.64 \nL 364.903125 224.64 \n\" style=\"fill:none;stroke:#000000;stroke-linecap:square;stroke-linejoin:miter;stroke-width:0.8;\"/>\n   </g>\n   <g id=\"patch_10\">\n    <path d=\"M 30.103125 7.2 \nL 364.903125 7.2 \n\" style=\"fill:none;stroke:#000000;stroke-linecap:square;stroke-linejoin:miter;stroke-width:0.8;\"/>\n   </g>\n  </g>\n </g>\n <defs>\n  <clipPath id=\"p3f69ac861a\">\n   <rect height=\"217.44\" width=\"334.8\" x=\"30.103125\" y=\"7.2\"/>\n  </clipPath>\n </defs>\n</svg>\n",
      "image/png": "[encoded data removed]"
     },
     "metadata": {
      "needs_background": "light"
     }
    }
   ],
   "source": [
    "df.groupby('dog_stage')['rating_fraction'].mean()[1:].plot(kind='bar');\n",
    "df.groupby('dog_stage')['rating_fraction'].mean()[1:]"
   ]
  },
  {
   "cell_type": "markdown",
   "metadata": {},
   "source": [
    "The highest rated dog stages are both floofer and puppo. "
   ]
  },
  {
   "cell_type": "markdown",
   "metadata": {},
   "source": [
    "### What is the most favorited dog stage?"
   ]
  },
  {
   "cell_type": "code",
   "execution_count": 292,
   "metadata": {},
   "outputs": [
    {
     "output_type": "execute_result",
     "data": {
      "text/plain": "dog_stage\ndoggo      18217.465753\nfloofer    11906.000000\npupper      6636.631841\npuppo      20712.227273\nName: favorite_count, dtype: float64"
     },
     "metadata": {},
     "execution_count": 292
    },
    {
     "output_type": "display_data",
     "data": {
      "text/plain": "<Figure size 432x288 with 1 Axes>",
      "image/svg+xml": "<?xml version=\"1.0\" encoding=\"utf-8\" standalone=\"no\"?>\n<!DOCTYPE svg PUBLIC \"-//W3C//DTD SVG 1.1//EN\"\n  \"http://www.w3.org/Graphics/SVG/1.1/DTD/svg11.dtd\">\n<!-- Created with matplotlib (https://matplotlib.org/) -->\n<svg height=\"288.443125pt\" version=\"1.1\" viewBox=\"0 0 388.0125 288.443125\" width=\"388.0125pt\" xmlns=\"http://www.w3.org/2000/svg\" xmlns:xlink=\"http://www.w3.org/1999/xlink\">\n <defs>\n  <style type=\"text/css\">\n*{stroke-linecap:butt;stroke-linejoin:round;}\n  </style>\n </defs>\n <g id=\"figure_1\">\n  <g id=\"patch_1\">\n   <path d=\"M 0 288.443125 \nL 388.0125 288.443125 \nL 388.0125 0 \nL 0 0 \nz\n\" style=\"fill:none;\"/>\n  </g>\n  <g id=\"axes_1\">\n   <g id=\"patch_2\">\n    <path d=\"M 46.0125 224.64 \nL 380.8125 224.64 \nL 380.8125 7.2 \nL 46.0125 7.2 \nz\n\" style=\"fill:#ffffff;\"/>\n   </g>\n   <g id=\"patch_3\">\n    <path clip-path=\"url(#p2504caa1f1)\" d=\"M 66.9375 224.64 \nL 108.7875 224.64 \nL 108.7875 42.497497 \nL 66.9375 42.497497 \nz\n\" style=\"fill:#1f77b4;\"/>\n   </g>\n   <g id=\"patch_4\">\n    <path clip-path=\"url(#p2504caa1f1)\" d=\"M 150.6375 224.64 \nL 192.4875 224.64 \nL 192.4875 105.601015 \nL 150.6375 105.601015 \nz\n\" style=\"fill:#1f77b4;\"/>\n   </g>\n   <g id=\"patch_5\">\n    <path clip-path=\"url(#p2504caa1f1)\" d=\"M 234.3375 224.64 \nL 276.1875 224.64 \nL 276.1875 158.285396 \nL 234.3375 158.285396 \nz\n\" style=\"fill:#1f77b4;\"/>\n   </g>\n   <g id=\"patch_6\">\n    <path clip-path=\"url(#p2504caa1f1)\" d=\"M 318.0375 224.64 \nL 359.8875 224.64 \nL 359.8875 17.554286 \nL 318.0375 17.554286 \nz\n\" style=\"fill:#1f77b4;\"/>\n   </g>\n   <g id=\"matplotlib.axis_1\">\n    <g id=\"xtick_1\">\n     <g id=\"line2d_1\">\n      <defs>\n       <path d=\"M 0 0 \nL 0 3.5 \n\" id=\"mde0db75643\" style=\"stroke:#000000;stroke-width:0.8;\"/>\n      </defs>\n      <g>\n       <use style=\"stroke:#000000;stroke-width:0.8;\" x=\"87.8625\" xlink:href=\"#mde0db75643\" y=\"224.64\"/>\n      </g>\n     </g>\n     <g id=\"text_1\">\n      <!-- doggo -->\n      <defs>\n       <path d=\"M 45.40625 46.390625 \nL 45.40625 75.984375 \nL 54.390625 75.984375 \nL 54.390625 0 \nL 45.40625 0 \nL 45.40625 8.203125 \nQ 42.578125 3.328125 38.25 0.953125 \nQ 33.9375 -1.421875 27.875 -1.421875 \nQ 17.96875 -1.421875 11.734375 6.484375 \nQ 5.515625 14.40625 5.515625 27.296875 \nQ 5.515625 40.1875 11.734375 48.09375 \nQ 17.96875 56 27.875 56 \nQ 33.9375 56 38.25 53.625 \nQ 42.578125 51.265625 45.40625 46.390625 \nz\nM 14.796875 27.296875 \nQ 14.796875 17.390625 18.875 11.75 \nQ 22.953125 6.109375 30.078125 6.109375 \nQ 37.203125 6.109375 41.296875 11.75 \nQ 45.40625 17.390625 45.40625 27.296875 \nQ 45.40625 37.203125 41.296875 42.84375 \nQ 37.203125 48.484375 30.078125 48.484375 \nQ 22.953125 48.484375 18.875 42.84375 \nQ 14.796875 37.203125 14.796875 27.296875 \nz\n\" id=\"DejaVuSans-100\"/>\n       <path d=\"M 30.609375 48.390625 \nQ 23.390625 48.390625 19.1875 42.75 \nQ 14.984375 37.109375 14.984375 27.296875 \nQ 14.984375 17.484375 19.15625 11.84375 \nQ 23.34375 6.203125 30.609375 6.203125 \nQ 37.796875 6.203125 41.984375 11.859375 \nQ 46.1875 17.53125 46.1875 27.296875 \nQ 46.1875 37.015625 41.984375 42.703125 \nQ 37.796875 48.390625 30.609375 48.390625 \nz\nM 30.609375 56 \nQ 42.328125 56 49.015625 48.375 \nQ 55.71875 40.765625 55.71875 27.296875 \nQ 55.71875 13.875 49.015625 6.21875 \nQ 42.328125 -1.421875 30.609375 -1.421875 \nQ 18.84375 -1.421875 12.171875 6.21875 \nQ 5.515625 13.875 5.515625 27.296875 \nQ 5.515625 40.765625 12.171875 48.375 \nQ 18.84375 56 30.609375 56 \nz\n\" id=\"DejaVuSans-111\"/>\n       <path d=\"M 45.40625 27.984375 \nQ 45.40625 37.75 41.375 43.109375 \nQ 37.359375 48.484375 30.078125 48.484375 \nQ 22.859375 48.484375 18.828125 43.109375 \nQ 14.796875 37.75 14.796875 27.984375 \nQ 14.796875 18.265625 18.828125 12.890625 \nQ 22.859375 7.515625 30.078125 7.515625 \nQ 37.359375 7.515625 41.375 12.890625 \nQ 45.40625 18.265625 45.40625 27.984375 \nz\nM 54.390625 6.78125 \nQ 54.390625 -7.171875 48.1875 -13.984375 \nQ 42 -20.796875 29.203125 -20.796875 \nQ 24.46875 -20.796875 20.265625 -20.09375 \nQ 16.0625 -19.390625 12.109375 -17.921875 \nL 12.109375 -9.1875 \nQ 16.0625 -11.328125 19.921875 -12.34375 \nQ 23.78125 -13.375 27.78125 -13.375 \nQ 36.625 -13.375 41.015625 -8.765625 \nQ 45.40625 -4.15625 45.40625 5.171875 \nL 45.40625 9.625 \nQ 42.625 4.78125 38.28125 2.390625 \nQ 33.9375 0 27.875 0 \nQ 17.828125 0 11.671875 7.65625 \nQ 5.515625 15.328125 5.515625 27.984375 \nQ 5.515625 40.671875 11.671875 48.328125 \nQ 17.828125 56 27.875 56 \nQ 33.9375 56 38.28125 53.609375 \nQ 42.625 51.21875 45.40625 46.390625 \nL 45.40625 54.6875 \nL 54.390625 54.6875 \nz\n\" id=\"DejaVuSans-103\"/>\n      </defs>\n      <g transform=\"translate(90.621875 262.922812)rotate(-90)scale(0.1 -0.1)\">\n       <use xlink:href=\"#DejaVuSans-100\"/>\n       <use x=\"63.476562\" xlink:href=\"#DejaVuSans-111\"/>\n       <use x=\"124.658203\" xlink:href=\"#DejaVuSans-103\"/>\n       <use x=\"188.134766\" xlink:href=\"#DejaVuSans-103\"/>\n       <use x=\"251.611328\" xlink:href=\"#DejaVuSans-111\"/>\n      </g>\n     </g>\n    </g>\n    <g id=\"xtick_2\">\n     <g id=\"line2d_2\">\n      <g>\n       <use style=\"stroke:#000000;stroke-width:0.8;\" x=\"171.5625\" xlink:href=\"#mde0db75643\" y=\"224.64\"/>\n      </g>\n     </g>\n     <g id=\"text_2\">\n      <!-- floofer -->\n      <defs>\n       <path d=\"M 37.109375 75.984375 \nL 37.109375 68.5 \nL 28.515625 68.5 \nQ 23.6875 68.5 21.796875 66.546875 \nQ 19.921875 64.59375 19.921875 59.515625 \nL 19.921875 54.6875 \nL 34.71875 54.6875 \nL 34.71875 47.703125 \nL 19.921875 47.703125 \nL 19.921875 0 \nL 10.890625 0 \nL 10.890625 47.703125 \nL 2.296875 47.703125 \nL 2.296875 54.6875 \nL 10.890625 54.6875 \nL 10.890625 58.5 \nQ 10.890625 67.625 15.140625 71.796875 \nQ 19.390625 75.984375 28.609375 75.984375 \nz\n\" id=\"DejaVuSans-102\"/>\n       <path d=\"M 9.421875 75.984375 \nL 18.40625 75.984375 \nL 18.40625 0 \nL 9.421875 0 \nz\n\" id=\"DejaVuSans-108\"/>\n       <path d=\"M 56.203125 29.59375 \nL 56.203125 25.203125 \nL 14.890625 25.203125 \nQ 15.484375 15.921875 20.484375 11.0625 \nQ 25.484375 6.203125 34.421875 6.203125 \nQ 39.59375 6.203125 44.453125 7.46875 \nQ 49.3125 8.734375 54.109375 11.28125 \nL 54.109375 2.78125 \nQ 49.265625 0.734375 44.1875 -0.34375 \nQ 39.109375 -1.421875 33.890625 -1.421875 \nQ 20.796875 -1.421875 13.15625 6.1875 \nQ 5.515625 13.8125 5.515625 26.8125 \nQ 5.515625 40.234375 12.765625 48.109375 \nQ 20.015625 56 32.328125 56 \nQ 43.359375 56 49.78125 48.890625 \nQ 56.203125 41.796875 56.203125 29.59375 \nz\nM 47.21875 32.234375 \nQ 47.125 39.59375 43.09375 43.984375 \nQ 39.0625 48.390625 32.421875 48.390625 \nQ 24.90625 48.390625 20.390625 44.140625 \nQ 15.875 39.890625 15.1875 32.171875 \nz\n\" id=\"DejaVuSans-101\"/>\n       <path d=\"M 41.109375 46.296875 \nQ 39.59375 47.171875 37.8125 47.578125 \nQ 36.03125 48 33.890625 48 \nQ 26.265625 48 22.1875 43.046875 \nQ 18.109375 38.09375 18.109375 28.8125 \nL 18.109375 0 \nL 9.078125 0 \nL 9.078125 54.6875 \nL 18.109375 54.6875 \nL 18.109375 46.1875 \nQ 20.953125 51.171875 25.484375 53.578125 \nQ 30.03125 56 36.53125 56 \nQ 37.453125 56 38.578125 55.875 \nQ 39.703125 55.765625 41.0625 55.515625 \nz\n\" id=\"DejaVuSans-114\"/>\n      </defs>\n      <g transform=\"translate(174.321875 263.960312)rotate(-90)scale(0.1 -0.1)\">\n       <use xlink:href=\"#DejaVuSans-102\"/>\n       <use x=\"35.205078\" xlink:href=\"#DejaVuSans-108\"/>\n       <use x=\"62.988281\" xlink:href=\"#DejaVuSans-111\"/>\n       <use x=\"124.169922\" xlink:href=\"#DejaVuSans-111\"/>\n       <use x=\"185.351562\" xlink:href=\"#DejaVuSans-102\"/>\n       <use x=\"220.556641\" xlink:href=\"#DejaVuSans-101\"/>\n       <use x=\"282.080078\" xlink:href=\"#DejaVuSans-114\"/>\n      </g>\n     </g>\n    </g>\n    <g id=\"xtick_3\">\n     <g id=\"line2d_3\">\n      <g>\n       <use style=\"stroke:#000000;stroke-width:0.8;\" x=\"255.2625\" xlink:href=\"#mde0db75643\" y=\"224.64\"/>\n      </g>\n     </g>\n     <g id=\"text_3\">\n      <!-- pupper -->\n      <defs>\n       <path d=\"M 18.109375 8.203125 \nL 18.109375 -20.796875 \nL 9.078125 -20.796875 \nL 9.078125 54.6875 \nL 18.109375 54.6875 \nL 18.109375 46.390625 \nQ 20.953125 51.265625 25.265625 53.625 \nQ 29.59375 56 35.59375 56 \nQ 45.5625 56 51.78125 48.09375 \nQ 58.015625 40.1875 58.015625 27.296875 \nQ 58.015625 14.40625 51.78125 6.484375 \nQ 45.5625 -1.421875 35.59375 -1.421875 \nQ 29.59375 -1.421875 25.265625 0.953125 \nQ 20.953125 3.328125 18.109375 8.203125 \nz\nM 48.6875 27.296875 \nQ 48.6875 37.203125 44.609375 42.84375 \nQ 40.53125 48.484375 33.40625 48.484375 \nQ 26.265625 48.484375 22.1875 42.84375 \nQ 18.109375 37.203125 18.109375 27.296875 \nQ 18.109375 17.390625 22.1875 11.75 \nQ 26.265625 6.109375 33.40625 6.109375 \nQ 40.53125 6.109375 44.609375 11.75 \nQ 48.6875 17.390625 48.6875 27.296875 \nz\n\" id=\"DejaVuSans-112\"/>\n       <path d=\"M 8.5 21.578125 \nL 8.5 54.6875 \nL 17.484375 54.6875 \nL 17.484375 21.921875 \nQ 17.484375 14.15625 20.5 10.265625 \nQ 23.53125 6.390625 29.59375 6.390625 \nQ 36.859375 6.390625 41.078125 11.03125 \nQ 45.3125 15.671875 45.3125 23.6875 \nL 45.3125 54.6875 \nL 54.296875 54.6875 \nL 54.296875 0 \nL 45.3125 0 \nL 45.3125 8.40625 \nQ 42.046875 3.421875 37.71875 1 \nQ 33.40625 -1.421875 27.6875 -1.421875 \nQ 18.265625 -1.421875 13.375 4.4375 \nQ 8.5 10.296875 8.5 21.578125 \nz\nM 31.109375 56 \nz\n\" id=\"DejaVuSans-117\"/>\n      </defs>\n      <g transform=\"translate(258.021875 267.286875)rotate(-90)scale(0.1 -0.1)\">\n       <use xlink:href=\"#DejaVuSans-112\"/>\n       <use x=\"63.476562\" xlink:href=\"#DejaVuSans-117\"/>\n       <use x=\"126.855469\" xlink:href=\"#DejaVuSans-112\"/>\n       <use x=\"190.332031\" xlink:href=\"#DejaVuSans-112\"/>\n       <use x=\"253.808594\" xlink:href=\"#DejaVuSans-101\"/>\n       <use x=\"315.332031\" xlink:href=\"#DejaVuSans-114\"/>\n      </g>\n     </g>\n    </g>\n    <g id=\"xtick_4\">\n     <g id=\"line2d_4\">\n      <g>\n       <use style=\"stroke:#000000;stroke-width:0.8;\" x=\"338.9625\" xlink:href=\"#mde0db75643\" y=\"224.64\"/>\n      </g>\n     </g>\n     <g id=\"text_4\">\n      <!-- puppo -->\n      <g transform=\"translate(341.721875 263.141562)rotate(-90)scale(0.1 -0.1)\">\n       <use xlink:href=\"#DejaVuSans-112\"/>\n       <use x=\"63.476562\" xlink:href=\"#DejaVuSans-117\"/>\n       <use x=\"126.855469\" xlink:href=\"#DejaVuSans-112\"/>\n       <use x=\"190.332031\" xlink:href=\"#DejaVuSans-112\"/>\n       <use x=\"253.808594\" xlink:href=\"#DejaVuSans-111\"/>\n      </g>\n     </g>\n    </g>\n    <g id=\"text_5\">\n     <!-- dog_stage -->\n     <defs>\n      <path d=\"M 50.984375 -16.609375 \nL 50.984375 -23.578125 \nL -0.984375 -23.578125 \nL -0.984375 -16.609375 \nz\n\" id=\"DejaVuSans-95\"/>\n      <path d=\"M 44.28125 53.078125 \nL 44.28125 44.578125 \nQ 40.484375 46.53125 36.375 47.5 \nQ 32.28125 48.484375 27.875 48.484375 \nQ 21.1875 48.484375 17.84375 46.4375 \nQ 14.5 44.390625 14.5 40.28125 \nQ 14.5 37.15625 16.890625 35.375 \nQ 19.28125 33.59375 26.515625 31.984375 \nL 29.59375 31.296875 \nQ 39.15625 29.25 43.1875 25.515625 \nQ 47.21875 21.78125 47.21875 15.09375 \nQ 47.21875 7.46875 41.1875 3.015625 \nQ 35.15625 -1.421875 24.609375 -1.421875 \nQ 20.21875 -1.421875 15.453125 -0.5625 \nQ 10.6875 0.296875 5.421875 2 \nL 5.421875 11.28125 \nQ 10.40625 8.6875 15.234375 7.390625 \nQ 20.0625 6.109375 24.8125 6.109375 \nQ 31.15625 6.109375 34.5625 8.28125 \nQ 37.984375 10.453125 37.984375 14.40625 \nQ 37.984375 18.0625 35.515625 20.015625 \nQ 33.0625 21.96875 24.703125 23.78125 \nL 21.578125 24.515625 \nQ 13.234375 26.265625 9.515625 29.90625 \nQ 5.8125 33.546875 5.8125 39.890625 \nQ 5.8125 47.609375 11.28125 51.796875 \nQ 16.75 56 26.8125 56 \nQ 31.78125 56 36.171875 55.265625 \nQ 40.578125 54.546875 44.28125 53.078125 \nz\n\" id=\"DejaVuSans-115\"/>\n      <path d=\"M 18.3125 70.21875 \nL 18.3125 54.6875 \nL 36.8125 54.6875 \nL 36.8125 47.703125 \nL 18.3125 47.703125 \nL 18.3125 18.015625 \nQ 18.3125 11.328125 20.140625 9.421875 \nQ 21.96875 7.515625 27.59375 7.515625 \nL 36.8125 7.515625 \nL 36.8125 0 \nL 27.59375 0 \nQ 17.1875 0 13.234375 3.875 \nQ 9.28125 7.765625 9.28125 18.015625 \nL 9.28125 47.703125 \nL 2.6875 47.703125 \nL 2.6875 54.6875 \nL 9.28125 54.6875 \nL 9.28125 70.21875 \nz\n\" id=\"DejaVuSans-116\"/>\n      <path d=\"M 34.28125 27.484375 \nQ 23.390625 27.484375 19.1875 25 \nQ 14.984375 22.515625 14.984375 16.5 \nQ 14.984375 11.71875 18.140625 8.90625 \nQ 21.296875 6.109375 26.703125 6.109375 \nQ 34.1875 6.109375 38.703125 11.40625 \nQ 43.21875 16.703125 43.21875 25.484375 \nL 43.21875 27.484375 \nz\nM 52.203125 31.203125 \nL 52.203125 0 \nL 43.21875 0 \nL 43.21875 8.296875 \nQ 40.140625 3.328125 35.546875 0.953125 \nQ 30.953125 -1.421875 24.3125 -1.421875 \nQ 15.921875 -1.421875 10.953125 3.296875 \nQ 6 8.015625 6 15.921875 \nQ 6 25.140625 12.171875 29.828125 \nQ 18.359375 34.515625 30.609375 34.515625 \nL 43.21875 34.515625 \nL 43.21875 35.40625 \nQ 43.21875 41.609375 39.140625 45 \nQ 35.0625 48.390625 27.6875 48.390625 \nQ 23 48.390625 18.546875 47.265625 \nQ 14.109375 46.140625 10.015625 43.890625 \nL 10.015625 52.203125 \nQ 14.9375 54.109375 19.578125 55.046875 \nQ 24.21875 56 28.609375 56 \nQ 40.484375 56 46.34375 49.84375 \nQ 52.203125 43.703125 52.203125 31.203125 \nz\n\" id=\"DejaVuSans-97\"/>\n     </defs>\n     <g transform=\"translate(187.625 278.885312)scale(0.1 -0.1)\">\n      <use xlink:href=\"#DejaVuSans-100\"/>\n      <use x=\"63.476562\" xlink:href=\"#DejaVuSans-111\"/>\n      <use x=\"124.658203\" xlink:href=\"#DejaVuSans-103\"/>\n      <use x=\"188.134766\" xlink:href=\"#DejaVuSans-95\"/>\n      <use x=\"238.134766\" xlink:href=\"#DejaVuSans-115\"/>\n      <use x=\"290.234375\" xlink:href=\"#DejaVuSans-116\"/>\n      <use x=\"329.443359\" xlink:href=\"#DejaVuSans-97\"/>\n      <use x=\"390.722656\" xlink:href=\"#DejaVuSans-103\"/>\n      <use x=\"454.199219\" xlink:href=\"#DejaVuSans-101\"/>\n     </g>\n    </g>\n   </g>\n   <g id=\"matplotlib.axis_2\">\n    <g id=\"ytick_1\">\n     <g id=\"line2d_5\">\n      <defs>\n       <path d=\"M 0 0 \nL -3.5 0 \n\" id=\"m704bd0632c\" style=\"stroke:#000000;stroke-width:0.8;\"/>\n      </defs>\n      <g>\n       <use style=\"stroke:#000000;stroke-width:0.8;\" x=\"46.0125\" xlink:href=\"#m704bd0632c\" y=\"224.64\"/>\n      </g>\n     </g>\n     <g id=\"text_6\">\n      <!-- 0 -->\n      <defs>\n       <path d=\"M 31.78125 66.40625 \nQ 24.171875 66.40625 20.328125 58.90625 \nQ 16.5 51.421875 16.5 36.375 \nQ 16.5 21.390625 20.328125 13.890625 \nQ 24.171875 6.390625 31.78125 6.390625 \nQ 39.453125 6.390625 43.28125 13.890625 \nQ 47.125 21.390625 47.125 36.375 \nQ 47.125 51.421875 43.28125 58.90625 \nQ 39.453125 66.40625 31.78125 66.40625 \nz\nM 31.78125 74.21875 \nQ 44.046875 74.21875 50.515625 64.515625 \nQ 56.984375 54.828125 56.984375 36.375 \nQ 56.984375 17.96875 50.515625 8.265625 \nQ 44.046875 -1.421875 31.78125 -1.421875 \nQ 19.53125 -1.421875 13.0625 8.265625 \nQ 6.59375 17.96875 6.59375 36.375 \nQ 6.59375 54.828125 13.0625 64.515625 \nQ 19.53125 74.21875 31.78125 74.21875 \nz\n\" id=\"DejaVuSans-48\"/>\n      </defs>\n      <g transform=\"translate(32.65 228.439219)scale(0.1 -0.1)\">\n       <use xlink:href=\"#DejaVuSans-48\"/>\n      </g>\n     </g>\n    </g>\n    <g id=\"ytick_2\">\n     <g id=\"line2d_6\">\n      <g>\n       <use style=\"stroke:#000000;stroke-width:0.8;\" x=\"46.0125\" xlink:href=\"#m704bd0632c\" y=\"199.644413\"/>\n      </g>\n     </g>\n     <g id=\"text_7\">\n      <!-- 2500 -->\n      <defs>\n       <path d=\"M 19.1875 8.296875 \nL 53.609375 8.296875 \nL 53.609375 0 \nL 7.328125 0 \nL 7.328125 8.296875 \nQ 12.9375 14.109375 22.625 23.890625 \nQ 32.328125 33.6875 34.8125 36.53125 \nQ 39.546875 41.84375 41.421875 45.53125 \nQ 43.3125 49.21875 43.3125 52.78125 \nQ 43.3125 58.59375 39.234375 62.25 \nQ 35.15625 65.921875 28.609375 65.921875 \nQ 23.96875 65.921875 18.8125 64.3125 \nQ 13.671875 62.703125 7.8125 59.421875 \nL 7.8125 69.390625 \nQ 13.765625 71.78125 18.9375 73 \nQ 24.125 74.21875 28.421875 74.21875 \nQ 39.75 74.21875 46.484375 68.546875 \nQ 53.21875 62.890625 53.21875 53.421875 \nQ 53.21875 48.921875 51.53125 44.890625 \nQ 49.859375 40.875 45.40625 35.40625 \nQ 44.1875 33.984375 37.640625 27.21875 \nQ 31.109375 20.453125 19.1875 8.296875 \nz\n\" id=\"DejaVuSans-50\"/>\n       <path d=\"M 10.796875 72.90625 \nL 49.515625 72.90625 \nL 49.515625 64.59375 \nL 19.828125 64.59375 \nL 19.828125 46.734375 \nQ 21.96875 47.46875 24.109375 47.828125 \nQ 26.265625 48.1875 28.421875 48.1875 \nQ 40.625 48.1875 47.75 41.5 \nQ 54.890625 34.8125 54.890625 23.390625 \nQ 54.890625 11.625 47.5625 5.09375 \nQ 40.234375 -1.421875 26.90625 -1.421875 \nQ 22.3125 -1.421875 17.546875 -0.640625 \nQ 12.796875 0.140625 7.71875 1.703125 \nL 7.71875 11.625 \nQ 12.109375 9.234375 16.796875 8.0625 \nQ 21.484375 6.890625 26.703125 6.890625 \nQ 35.15625 6.890625 40.078125 11.328125 \nQ 45.015625 15.765625 45.015625 23.390625 \nQ 45.015625 31 40.078125 35.4375 \nQ 35.15625 39.890625 26.703125 39.890625 \nQ 22.75 39.890625 18.8125 39.015625 \nQ 14.890625 38.140625 10.796875 36.28125 \nz\n\" id=\"DejaVuSans-53\"/>\n      </defs>\n      <g transform=\"translate(13.5625 203.443631)scale(0.1 -0.1)\">\n       <use xlink:href=\"#DejaVuSans-50\"/>\n       <use x=\"63.623047\" xlink:href=\"#DejaVuSans-53\"/>\n       <use x=\"127.246094\" xlink:href=\"#DejaVuSans-48\"/>\n       <use x=\"190.869141\" xlink:href=\"#DejaVuSans-48\"/>\n      </g>\n     </g>\n    </g>\n    <g id=\"ytick_3\">\n     <g id=\"line2d_7\">\n      <g>\n       <use style=\"stroke:#000000;stroke-width:0.8;\" x=\"46.0125\" xlink:href=\"#m704bd0632c\" y=\"174.648825\"/>\n      </g>\n     </g>\n     <g id=\"text_8\">\n      <!-- 5000 -->\n      <g transform=\"translate(13.5625 178.448044)scale(0.1 -0.1)\">\n       <use xlink:href=\"#DejaVuSans-53\"/>\n       <use x=\"63.623047\" xlink:href=\"#DejaVuSans-48\"/>\n       <use x=\"127.246094\" xlink:href=\"#DejaVuSans-48\"/>\n       <use x=\"190.869141\" xlink:href=\"#DejaVuSans-48\"/>\n      </g>\n     </g>\n    </g>\n    <g id=\"ytick_4\">\n     <g id=\"line2d_8\">\n      <g>\n       <use style=\"stroke:#000000;stroke-width:0.8;\" x=\"46.0125\" xlink:href=\"#m704bd0632c\" y=\"149.653238\"/>\n      </g>\n     </g>\n     <g id=\"text_9\">\n      <!-- 7500 -->\n      <defs>\n       <path d=\"M 8.203125 72.90625 \nL 55.078125 72.90625 \nL 55.078125 68.703125 \nL 28.609375 0 \nL 18.3125 0 \nL 43.21875 64.59375 \nL 8.203125 64.59375 \nz\n\" id=\"DejaVuSans-55\"/>\n      </defs>\n      <g transform=\"translate(13.5625 153.452457)scale(0.1 -0.1)\">\n       <use xlink:href=\"#DejaVuSans-55\"/>\n       <use x=\"63.623047\" xlink:href=\"#DejaVuSans-53\"/>\n       <use x=\"127.246094\" xlink:href=\"#DejaVuSans-48\"/>\n       <use x=\"190.869141\" xlink:href=\"#DejaVuSans-48\"/>\n      </g>\n     </g>\n    </g>\n    <g id=\"ytick_5\">\n     <g id=\"line2d_9\">\n      <g>\n       <use style=\"stroke:#000000;stroke-width:0.8;\" x=\"46.0125\" xlink:href=\"#m704bd0632c\" y=\"124.657651\"/>\n      </g>\n     </g>\n     <g id=\"text_10\">\n      <!-- 10000 -->\n      <defs>\n       <path d=\"M 12.40625 8.296875 \nL 28.515625 8.296875 \nL 28.515625 63.921875 \nL 10.984375 60.40625 \nL 10.984375 69.390625 \nL 28.421875 72.90625 \nL 38.28125 72.90625 \nL 38.28125 8.296875 \nL 54.390625 8.296875 \nL 54.390625 0 \nL 12.40625 0 \nz\n\" id=\"DejaVuSans-49\"/>\n      </defs>\n      <g transform=\"translate(7.2 128.456869)scale(0.1 -0.1)\">\n       <use xlink:href=\"#DejaVuSans-49\"/>\n       <use x=\"63.623047\" xlink:href=\"#DejaVuSans-48\"/>\n       <use x=\"127.246094\" xlink:href=\"#DejaVuSans-48\"/>\n       <use x=\"190.869141\" xlink:href=\"#DejaVuSans-48\"/>\n       <use x=\"254.492188\" xlink:href=\"#DejaVuSans-48\"/>\n      </g>\n     </g>\n    </g>\n    <g id=\"ytick_6\">\n     <g id=\"line2d_10\">\n      <g>\n       <use style=\"stroke:#000000;stroke-width:0.8;\" x=\"46.0125\" xlink:href=\"#m704bd0632c\" y=\"99.662063\"/>\n      </g>\n     </g>\n     <g id=\"text_11\">\n      <!-- 12500 -->\n      <g transform=\"translate(7.2 103.461282)scale(0.1 -0.1)\">\n       <use xlink:href=\"#DejaVuSans-49\"/>\n       <use x=\"63.623047\" xlink:href=\"#DejaVuSans-50\"/>\n       <use x=\"127.246094\" xlink:href=\"#DejaVuSans-53\"/>\n       <use x=\"190.869141\" xlink:href=\"#DejaVuSans-48\"/>\n       <use x=\"254.492188\" xlink:href=\"#DejaVuSans-48\"/>\n      </g>\n     </g>\n    </g>\n    <g id=\"ytick_7\">\n     <g id=\"line2d_11\">\n      <g>\n       <use style=\"stroke:#000000;stroke-width:0.8;\" x=\"46.0125\" xlink:href=\"#m704bd0632c\" y=\"74.666476\"/>\n      </g>\n     </g>\n     <g id=\"text_12\">\n      <!-- 15000 -->\n      <g transform=\"translate(7.2 78.465695)scale(0.1 -0.1)\">\n       <use xlink:href=\"#DejaVuSans-49\"/>\n       <use x=\"63.623047\" xlink:href=\"#DejaVuSans-53\"/>\n       <use x=\"127.246094\" xlink:href=\"#DejaVuSans-48\"/>\n       <use x=\"190.869141\" xlink:href=\"#DejaVuSans-48\"/>\n       <use x=\"254.492188\" xlink:href=\"#DejaVuSans-48\"/>\n      </g>\n     </g>\n    </g>\n    <g id=\"ytick_8\">\n     <g id=\"line2d_12\">\n      <g>\n       <use style=\"stroke:#000000;stroke-width:0.8;\" x=\"46.0125\" xlink:href=\"#m704bd0632c\" y=\"49.670889\"/>\n      </g>\n     </g>\n     <g id=\"text_13\">\n      <!-- 17500 -->\n      <g transform=\"translate(7.2 53.470107)scale(0.1 -0.1)\">\n       <use xlink:href=\"#DejaVuSans-49\"/>\n       <use x=\"63.623047\" xlink:href=\"#DejaVuSans-55\"/>\n       <use x=\"127.246094\" xlink:href=\"#DejaVuSans-53\"/>\n       <use x=\"190.869141\" xlink:href=\"#DejaVuSans-48\"/>\n       <use x=\"254.492188\" xlink:href=\"#DejaVuSans-48\"/>\n      </g>\n     </g>\n    </g>\n    <g id=\"ytick_9\">\n     <g id=\"line2d_13\">\n      <g>\n       <use style=\"stroke:#000000;stroke-width:0.8;\" x=\"46.0125\" xlink:href=\"#m704bd0632c\" y=\"24.675301\"/>\n      </g>\n     </g>\n     <g id=\"text_14\">\n      <!-- 20000 -->\n      <g transform=\"translate(7.2 28.47452)scale(0.1 -0.1)\">\n       <use xlink:href=\"#DejaVuSans-50\"/>\n       <use x=\"63.623047\" xlink:href=\"#DejaVuSans-48\"/>\n       <use x=\"127.246094\" xlink:href=\"#DejaVuSans-48\"/>\n       <use x=\"190.869141\" xlink:href=\"#DejaVuSans-48\"/>\n       <use x=\"254.492188\" xlink:href=\"#DejaVuSans-48\"/>\n      </g>\n     </g>\n    </g>\n   </g>\n   <g id=\"patch_7\">\n    <path d=\"M 46.0125 224.64 \nL 46.0125 7.2 \n\" style=\"fill:none;stroke:#000000;stroke-linecap:square;stroke-linejoin:miter;stroke-width:0.8;\"/>\n   </g>\n   <g id=\"patch_8\">\n    <path d=\"M 380.8125 224.64 \nL 380.8125 7.2 \n\" style=\"fill:none;stroke:#000000;stroke-linecap:square;stroke-linejoin:miter;stroke-width:0.8;\"/>\n   </g>\n   <g id=\"patch_9\">\n    <path d=\"M 46.0125 224.64 \nL 380.8125 224.64 \n\" style=\"fill:none;stroke:#000000;stroke-linecap:square;stroke-linejoin:miter;stroke-width:0.8;\"/>\n   </g>\n   <g id=\"patch_10\">\n    <path d=\"M 46.0125 7.2 \nL 380.8125 7.2 \n\" style=\"fill:none;stroke:#000000;stroke-linecap:square;stroke-linejoin:miter;stroke-width:0.8;\"/>\n   </g>\n  </g>\n </g>\n <defs>\n  <clipPath id=\"p2504caa1f1\">\n   <rect height=\"217.44\" width=\"334.8\" x=\"46.0125\" y=\"7.2\"/>\n  </clipPath>\n </defs>\n</svg>\n",
      "image/png": "[encoded data removed]"
     },
     "metadata": {
      "needs_background": "light"
     }
    }
   ],
   "source": [
    "df.groupby('dog_stage')['favorite_count'].mean()[1:].plot(kind='bar');\n",
    "df.groupby('dog_stage')['favorite_count'].mean()[1:]"
   ]
  },
  {
   "cell_type": "markdown",
   "metadata": {},
   "source": [
    "Puppo dogs are the most favorited ones by followers"
   ]
  },
  {
   "cell_type": "markdown",
   "metadata": {},
   "source": [
    "### Is the most favorited dog stage, the most retweeted also ?"
   ]
  },
  {
   "cell_type": "code",
   "execution_count": 293,
   "metadata": {},
   "outputs": [
    {
     "output_type": "execute_result",
     "data": {
      "text/plain": "dog_stage\ndoggo      6205.109589\nfloofer    4286.000000\npupper     2074.865672\npuppo      5733.136364\nName: retweet_count, dtype: float64"
     },
     "metadata": {},
     "execution_count": 293
    },
    {
     "output_type": "display_data",
     "data": {
      "text/plain": "<Figure size 432x288 with 1 Axes>",
      "image/svg+xml": "<?xml version=\"1.0\" encoding=\"utf-8\" standalone=\"no\"?>\n<!DOCTYPE svg PUBLIC \"-//W3C//DTD SVG 1.1//EN\"\n  \"http://www.w3.org/Graphics/SVG/1.1/DTD/svg11.dtd\">\n<!-- Created with matplotlib (https://matplotlib.org/) -->\n<svg height=\"288.443125pt\" version=\"1.1\" viewBox=\"0 0 381.65 288.443125\" width=\"381.65pt\" xmlns=\"http://www.w3.org/2000/svg\" xmlns:xlink=\"http://www.w3.org/1999/xlink\">\n <defs>\n  <style type=\"text/css\">\n*{stroke-linecap:butt;stroke-linejoin:round;}\n  </style>\n </defs>\n <g id=\"figure_1\">\n  <g id=\"patch_1\">\n   <path d=\"M -0 288.443125 \nL 381.65 288.443125 \nL 381.65 0 \nL -0 0 \nz\n\" style=\"fill:none;\"/>\n  </g>\n  <g id=\"axes_1\">\n   <g id=\"patch_2\">\n    <path d=\"M 39.65 224.64 \nL 374.45 224.64 \nL 374.45 7.2 \nL 39.65 7.2 \nz\n\" style=\"fill:#ffffff;\"/>\n   </g>\n   <g id=\"patch_3\">\n    <path clip-path=\"url(#p41b1a9b705)\" d=\"M 60.575 224.64 \nL 102.425 224.64 \nL 102.425 17.554286 \nL 60.575 17.554286 \nz\n\" style=\"fill:#1f77b4;\"/>\n   </g>\n   <g id=\"patch_4\">\n    <path clip-path=\"url(#p41b1a9b705)\" d=\"M 144.275 224.64 \nL 186.125 224.64 \nL 186.125 81.601532 \nL 144.275 81.601532 \nz\n\" style=\"fill:#1f77b4;\"/>\n   </g>\n   <g id=\"patch_5\">\n    <path clip-path=\"url(#p41b1a9b705)\" d=\"M 227.975 224.64 \nL 269.825 224.64 \nL 269.825 155.394641 \nL 227.975 155.394641 \nz\n\" style=\"fill:#1f77b4;\"/>\n   </g>\n   <g id=\"patch_6\">\n    <path clip-path=\"url(#p41b1a9b705)\" d=\"M 311.675 224.64 \nL 353.525 224.64 \nL 353.525 33.305645 \nL 311.675 33.305645 \nz\n\" style=\"fill:#1f77b4;\"/>\n   </g>\n   <g id=\"matplotlib.axis_1\">\n    <g id=\"xtick_1\">\n     <g id=\"line2d_1\">\n      <defs>\n       <path d=\"M 0 0 \nL 0 3.5 \n\" id=\"m8567012c18\" style=\"stroke:#000000;stroke-width:0.8;\"/>\n      </defs>\n      <g>\n       <use style=\"stroke:#000000;stroke-width:0.8;\" x=\"81.5\" xlink:href=\"#m8567012c18\" y=\"224.64\"/>\n      </g>\n     </g>\n     <g id=\"text_1\">\n      <!-- doggo -->\n      <defs>\n       <path d=\"M 45.40625 46.390625 \nL 45.40625 75.984375 \nL 54.390625 75.984375 \nL 54.390625 0 \nL 45.40625 0 \nL 45.40625 8.203125 \nQ 42.578125 3.328125 38.25 0.953125 \nQ 33.9375 -1.421875 27.875 -1.421875 \nQ 17.96875 -1.421875 11.734375 6.484375 \nQ 5.515625 14.40625 5.515625 27.296875 \nQ 5.515625 40.1875 11.734375 48.09375 \nQ 17.96875 56 27.875 56 \nQ 33.9375 56 38.25 53.625 \nQ 42.578125 51.265625 45.40625 46.390625 \nz\nM 14.796875 27.296875 \nQ 14.796875 17.390625 18.875 11.75 \nQ 22.953125 6.109375 30.078125 6.109375 \nQ 37.203125 6.109375 41.296875 11.75 \nQ 45.40625 17.390625 45.40625 27.296875 \nQ 45.40625 37.203125 41.296875 42.84375 \nQ 37.203125 48.484375 30.078125 48.484375 \nQ 22.953125 48.484375 18.875 42.84375 \nQ 14.796875 37.203125 14.796875 27.296875 \nz\n\" id=\"DejaVuSans-100\"/>\n       <path d=\"M 30.609375 48.390625 \nQ 23.390625 48.390625 19.1875 42.75 \nQ 14.984375 37.109375 14.984375 27.296875 \nQ 14.984375 17.484375 19.15625 11.84375 \nQ 23.34375 6.203125 30.609375 6.203125 \nQ 37.796875 6.203125 41.984375 11.859375 \nQ 46.1875 17.53125 46.1875 27.296875 \nQ 46.1875 37.015625 41.984375 42.703125 \nQ 37.796875 48.390625 30.609375 48.390625 \nz\nM 30.609375 56 \nQ 42.328125 56 49.015625 48.375 \nQ 55.71875 40.765625 55.71875 27.296875 \nQ 55.71875 13.875 49.015625 6.21875 \nQ 42.328125 -1.421875 30.609375 -1.421875 \nQ 18.84375 -1.421875 12.171875 6.21875 \nQ 5.515625 13.875 5.515625 27.296875 \nQ 5.515625 40.765625 12.171875 48.375 \nQ 18.84375 56 30.609375 56 \nz\n\" id=\"DejaVuSans-111\"/>\n       <path d=\"M 45.40625 27.984375 \nQ 45.40625 37.75 41.375 43.109375 \nQ 37.359375 48.484375 30.078125 48.484375 \nQ 22.859375 48.484375 18.828125 43.109375 \nQ 14.796875 37.75 14.796875 27.984375 \nQ 14.796875 18.265625 18.828125 12.890625 \nQ 22.859375 7.515625 30.078125 7.515625 \nQ 37.359375 7.515625 41.375 12.890625 \nQ 45.40625 18.265625 45.40625 27.984375 \nz\nM 54.390625 6.78125 \nQ 54.390625 -7.171875 48.1875 -13.984375 \nQ 42 -20.796875 29.203125 -20.796875 \nQ 24.46875 -20.796875 20.265625 -20.09375 \nQ 16.0625 -19.390625 12.109375 -17.921875 \nL 12.109375 -9.1875 \nQ 16.0625 -11.328125 19.921875 -12.34375 \nQ 23.78125 -13.375 27.78125 -13.375 \nQ 36.625 -13.375 41.015625 -8.765625 \nQ 45.40625 -4.15625 45.40625 5.171875 \nL 45.40625 9.625 \nQ 42.625 4.78125 38.28125 2.390625 \nQ 33.9375 0 27.875 0 \nQ 17.828125 0 11.671875 7.65625 \nQ 5.515625 15.328125 5.515625 27.984375 \nQ 5.515625 40.671875 11.671875 48.328125 \nQ 17.828125 56 27.875 56 \nQ 33.9375 56 38.28125 53.609375 \nQ 42.625 51.21875 45.40625 46.390625 \nL 45.40625 54.6875 \nL 54.390625 54.6875 \nz\n\" id=\"DejaVuSans-103\"/>\n      </defs>\n      <g transform=\"translate(84.259375 262.922812)rotate(-90)scale(0.1 -0.1)\">\n       <use xlink:href=\"#DejaVuSans-100\"/>\n       <use x=\"63.476562\" xlink:href=\"#DejaVuSans-111\"/>\n       <use x=\"124.658203\" xlink:href=\"#DejaVuSans-103\"/>\n       <use x=\"188.134766\" xlink:href=\"#DejaVuSans-103\"/>\n       <use x=\"251.611328\" xlink:href=\"#DejaVuSans-111\"/>\n      </g>\n     </g>\n    </g>\n    <g id=\"xtick_2\">\n     <g id=\"line2d_2\">\n      <g>\n       <use style=\"stroke:#000000;stroke-width:0.8;\" x=\"165.2\" xlink:href=\"#m8567012c18\" y=\"224.64\"/>\n      </g>\n     </g>\n     <g id=\"text_2\">\n      <!-- floofer -->\n      <defs>\n       <path d=\"M 37.109375 75.984375 \nL 37.109375 68.5 \nL 28.515625 68.5 \nQ 23.6875 68.5 21.796875 66.546875 \nQ 19.921875 64.59375 19.921875 59.515625 \nL 19.921875 54.6875 \nL 34.71875 54.6875 \nL 34.71875 47.703125 \nL 19.921875 47.703125 \nL 19.921875 0 \nL 10.890625 0 \nL 10.890625 47.703125 \nL 2.296875 47.703125 \nL 2.296875 54.6875 \nL 10.890625 54.6875 \nL 10.890625 58.5 \nQ 10.890625 67.625 15.140625 71.796875 \nQ 19.390625 75.984375 28.609375 75.984375 \nz\n\" id=\"DejaVuSans-102\"/>\n       <path d=\"M 9.421875 75.984375 \nL 18.40625 75.984375 \nL 18.40625 0 \nL 9.421875 0 \nz\n\" id=\"DejaVuSans-108\"/>\n       <path d=\"M 56.203125 29.59375 \nL 56.203125 25.203125 \nL 14.890625 25.203125 \nQ 15.484375 15.921875 20.484375 11.0625 \nQ 25.484375 6.203125 34.421875 6.203125 \nQ 39.59375 6.203125 44.453125 7.46875 \nQ 49.3125 8.734375 54.109375 11.28125 \nL 54.109375 2.78125 \nQ 49.265625 0.734375 44.1875 -0.34375 \nQ 39.109375 -1.421875 33.890625 -1.421875 \nQ 20.796875 -1.421875 13.15625 6.1875 \nQ 5.515625 13.8125 5.515625 26.8125 \nQ 5.515625 40.234375 12.765625 48.109375 \nQ 20.015625 56 32.328125 56 \nQ 43.359375 56 49.78125 48.890625 \nQ 56.203125 41.796875 56.203125 29.59375 \nz\nM 47.21875 32.234375 \nQ 47.125 39.59375 43.09375 43.984375 \nQ 39.0625 48.390625 32.421875 48.390625 \nQ 24.90625 48.390625 20.390625 44.140625 \nQ 15.875 39.890625 15.1875 32.171875 \nz\n\" id=\"DejaVuSans-101\"/>\n       <path d=\"M 41.109375 46.296875 \nQ 39.59375 47.171875 37.8125 47.578125 \nQ 36.03125 48 33.890625 48 \nQ 26.265625 48 22.1875 43.046875 \nQ 18.109375 38.09375 18.109375 28.8125 \nL 18.109375 0 \nL 9.078125 0 \nL 9.078125 54.6875 \nL 18.109375 54.6875 \nL 18.109375 46.1875 \nQ 20.953125 51.171875 25.484375 53.578125 \nQ 30.03125 56 36.53125 56 \nQ 37.453125 56 38.578125 55.875 \nQ 39.703125 55.765625 41.0625 55.515625 \nz\n\" id=\"DejaVuSans-114\"/>\n      </defs>\n      <g transform=\"translate(167.959375 263.960312)rotate(-90)scale(0.1 -0.1)\">\n       <use xlink:href=\"#DejaVuSans-102\"/>\n       <use x=\"35.205078\" xlink:href=\"#DejaVuSans-108\"/>\n       <use x=\"62.988281\" xlink:href=\"#DejaVuSans-111\"/>\n       <use x=\"124.169922\" xlink:href=\"#DejaVuSans-111\"/>\n       <use x=\"185.351562\" xlink:href=\"#DejaVuSans-102\"/>\n       <use x=\"220.556641\" xlink:href=\"#DejaVuSans-101\"/>\n       <use x=\"282.080078\" xlink:href=\"#DejaVuSans-114\"/>\n      </g>\n     </g>\n    </g>\n    <g id=\"xtick_3\">\n     <g id=\"line2d_3\">\n      <g>\n       <use style=\"stroke:#000000;stroke-width:0.8;\" x=\"248.9\" xlink:href=\"#m8567012c18\" y=\"224.64\"/>\n      </g>\n     </g>\n     <g id=\"text_3\">\n      <!-- pupper -->\n      <defs>\n       <path d=\"M 18.109375 8.203125 \nL 18.109375 -20.796875 \nL 9.078125 -20.796875 \nL 9.078125 54.6875 \nL 18.109375 54.6875 \nL 18.109375 46.390625 \nQ 20.953125 51.265625 25.265625 53.625 \nQ 29.59375 56 35.59375 56 \nQ 45.5625 56 51.78125 48.09375 \nQ 58.015625 40.1875 58.015625 27.296875 \nQ 58.015625 14.40625 51.78125 6.484375 \nQ 45.5625 -1.421875 35.59375 -1.421875 \nQ 29.59375 -1.421875 25.265625 0.953125 \nQ 20.953125 3.328125 18.109375 8.203125 \nz\nM 48.6875 27.296875 \nQ 48.6875 37.203125 44.609375 42.84375 \nQ 40.53125 48.484375 33.40625 48.484375 \nQ 26.265625 48.484375 22.1875 42.84375 \nQ 18.109375 37.203125 18.109375 27.296875 \nQ 18.109375 17.390625 22.1875 11.75 \nQ 26.265625 6.109375 33.40625 6.109375 \nQ 40.53125 6.109375 44.609375 11.75 \nQ 48.6875 17.390625 48.6875 27.296875 \nz\n\" id=\"DejaVuSans-112\"/>\n       <path d=\"M 8.5 21.578125 \nL 8.5 54.6875 \nL 17.484375 54.6875 \nL 17.484375 21.921875 \nQ 17.484375 14.15625 20.5 10.265625 \nQ 23.53125 6.390625 29.59375 6.390625 \nQ 36.859375 6.390625 41.078125 11.03125 \nQ 45.3125 15.671875 45.3125 23.6875 \nL 45.3125 54.6875 \nL 54.296875 54.6875 \nL 54.296875 0 \nL 45.3125 0 \nL 45.3125 8.40625 \nQ 42.046875 3.421875 37.71875 1 \nQ 33.40625 -1.421875 27.6875 -1.421875 \nQ 18.265625 -1.421875 13.375 4.4375 \nQ 8.5 10.296875 8.5 21.578125 \nz\nM 31.109375 56 \nz\n\" id=\"DejaVuSans-117\"/>\n      </defs>\n      <g transform=\"translate(251.659375 267.286875)rotate(-90)scale(0.1 -0.1)\">\n       <use xlink:href=\"#DejaVuSans-112\"/>\n       <use x=\"63.476562\" xlink:href=\"#DejaVuSans-117\"/>\n       <use x=\"126.855469\" xlink:href=\"#DejaVuSans-112\"/>\n       <use x=\"190.332031\" xlink:href=\"#DejaVuSans-112\"/>\n       <use x=\"253.808594\" xlink:href=\"#DejaVuSans-101\"/>\n       <use x=\"315.332031\" xlink:href=\"#DejaVuSans-114\"/>\n      </g>\n     </g>\n    </g>\n    <g id=\"xtick_4\">\n     <g id=\"line2d_4\">\n      <g>\n       <use style=\"stroke:#000000;stroke-width:0.8;\" x=\"332.6\" xlink:href=\"#m8567012c18\" y=\"224.64\"/>\n      </g>\n     </g>\n     <g id=\"text_4\">\n      <!-- puppo -->\n      <g transform=\"translate(335.359375 263.141562)rotate(-90)scale(0.1 -0.1)\">\n       <use xlink:href=\"#DejaVuSans-112\"/>\n       <use x=\"63.476562\" xlink:href=\"#DejaVuSans-117\"/>\n       <use x=\"126.855469\" xlink:href=\"#DejaVuSans-112\"/>\n       <use x=\"190.332031\" xlink:href=\"#DejaVuSans-112\"/>\n       <use x=\"253.808594\" xlink:href=\"#DejaVuSans-111\"/>\n      </g>\n     </g>\n    </g>\n    <g id=\"text_5\">\n     <!-- dog_stage -->\n     <defs>\n      <path d=\"M 50.984375 -16.609375 \nL 50.984375 -23.578125 \nL -0.984375 -23.578125 \nL -0.984375 -16.609375 \nz\n\" id=\"DejaVuSans-95\"/>\n      <path d=\"M 44.28125 53.078125 \nL 44.28125 44.578125 \nQ 40.484375 46.53125 36.375 47.5 \nQ 32.28125 48.484375 27.875 48.484375 \nQ 21.1875 48.484375 17.84375 46.4375 \nQ 14.5 44.390625 14.5 40.28125 \nQ 14.5 37.15625 16.890625 35.375 \nQ 19.28125 33.59375 26.515625 31.984375 \nL 29.59375 31.296875 \nQ 39.15625 29.25 43.1875 25.515625 \nQ 47.21875 21.78125 47.21875 15.09375 \nQ 47.21875 7.46875 41.1875 3.015625 \nQ 35.15625 -1.421875 24.609375 -1.421875 \nQ 20.21875 -1.421875 15.453125 -0.5625 \nQ 10.6875 0.296875 5.421875 2 \nL 5.421875 11.28125 \nQ 10.40625 8.6875 15.234375 7.390625 \nQ 20.0625 6.109375 24.8125 6.109375 \nQ 31.15625 6.109375 34.5625 8.28125 \nQ 37.984375 10.453125 37.984375 14.40625 \nQ 37.984375 18.0625 35.515625 20.015625 \nQ 33.0625 21.96875 24.703125 23.78125 \nL 21.578125 24.515625 \nQ 13.234375 26.265625 9.515625 29.90625 \nQ 5.8125 33.546875 5.8125 39.890625 \nQ 5.8125 47.609375 11.28125 51.796875 \nQ 16.75 56 26.8125 56 \nQ 31.78125 56 36.171875 55.265625 \nQ 40.578125 54.546875 44.28125 53.078125 \nz\n\" id=\"DejaVuSans-115\"/>\n      <path d=\"M 18.3125 70.21875 \nL 18.3125 54.6875 \nL 36.8125 54.6875 \nL 36.8125 47.703125 \nL 18.3125 47.703125 \nL 18.3125 18.015625 \nQ 18.3125 11.328125 20.140625 9.421875 \nQ 21.96875 7.515625 27.59375 7.515625 \nL 36.8125 7.515625 \nL 36.8125 0 \nL 27.59375 0 \nQ 17.1875 0 13.234375 3.875 \nQ 9.28125 7.765625 9.28125 18.015625 \nL 9.28125 47.703125 \nL 2.6875 47.703125 \nL 2.6875 54.6875 \nL 9.28125 54.6875 \nL 9.28125 70.21875 \nz\n\" id=\"DejaVuSans-116\"/>\n      <path d=\"M 34.28125 27.484375 \nQ 23.390625 27.484375 19.1875 25 \nQ 14.984375 22.515625 14.984375 16.5 \nQ 14.984375 11.71875 18.140625 8.90625 \nQ 21.296875 6.109375 26.703125 6.109375 \nQ 34.1875 6.109375 38.703125 11.40625 \nQ 43.21875 16.703125 43.21875 25.484375 \nL 43.21875 27.484375 \nz\nM 52.203125 31.203125 \nL 52.203125 0 \nL 43.21875 0 \nL 43.21875 8.296875 \nQ 40.140625 3.328125 35.546875 0.953125 \nQ 30.953125 -1.421875 24.3125 -1.421875 \nQ 15.921875 -1.421875 10.953125 3.296875 \nQ 6 8.015625 6 15.921875 \nQ 6 25.140625 12.171875 29.828125 \nQ 18.359375 34.515625 30.609375 34.515625 \nL 43.21875 34.515625 \nL 43.21875 35.40625 \nQ 43.21875 41.609375 39.140625 45 \nQ 35.0625 48.390625 27.6875 48.390625 \nQ 23 48.390625 18.546875 47.265625 \nQ 14.109375 46.140625 10.015625 43.890625 \nL 10.015625 52.203125 \nQ 14.9375 54.109375 19.578125 55.046875 \nQ 24.21875 56 28.609375 56 \nQ 40.484375 56 46.34375 49.84375 \nQ 52.203125 43.703125 52.203125 31.203125 \nz\n\" id=\"DejaVuSans-97\"/>\n     </defs>\n     <g transform=\"translate(181.2625 278.885312)scale(0.1 -0.1)\">\n      <use xlink:href=\"#DejaVuSans-100\"/>\n      <use x=\"63.476562\" xlink:href=\"#DejaVuSans-111\"/>\n      <use x=\"124.658203\" xlink:href=\"#DejaVuSans-103\"/>\n      <use x=\"188.134766\" xlink:href=\"#DejaVuSans-95\"/>\n      <use x=\"238.134766\" xlink:href=\"#DejaVuSans-115\"/>\n      <use x=\"290.234375\" xlink:href=\"#DejaVuSans-116\"/>\n      <use x=\"329.443359\" xlink:href=\"#DejaVuSans-97\"/>\n      <use x=\"390.722656\" xlink:href=\"#DejaVuSans-103\"/>\n      <use x=\"454.199219\" xlink:href=\"#DejaVuSans-101\"/>\n     </g>\n    </g>\n   </g>\n   <g id=\"matplotlib.axis_2\">\n    <g id=\"ytick_1\">\n     <g id=\"line2d_5\">\n      <defs>\n       <path d=\"M 0 0 \nL -3.5 0 \n\" id=\"m990077ce97\" style=\"stroke:#000000;stroke-width:0.8;\"/>\n      </defs>\n      <g>\n       <use style=\"stroke:#000000;stroke-width:0.8;\" x=\"39.65\" xlink:href=\"#m990077ce97\" y=\"224.64\"/>\n      </g>\n     </g>\n     <g id=\"text_6\">\n      <!-- 0 -->\n      <defs>\n       <path d=\"M 31.78125 66.40625 \nQ 24.171875 66.40625 20.328125 58.90625 \nQ 16.5 51.421875 16.5 36.375 \nQ 16.5 21.390625 20.328125 13.890625 \nQ 24.171875 6.390625 31.78125 6.390625 \nQ 39.453125 6.390625 43.28125 13.890625 \nQ 47.125 21.390625 47.125 36.375 \nQ 47.125 51.421875 43.28125 58.90625 \nQ 39.453125 66.40625 31.78125 66.40625 \nz\nM 31.78125 74.21875 \nQ 44.046875 74.21875 50.515625 64.515625 \nQ 56.984375 54.828125 56.984375 36.375 \nQ 56.984375 17.96875 50.515625 8.265625 \nQ 44.046875 -1.421875 31.78125 -1.421875 \nQ 19.53125 -1.421875 13.0625 8.265625 \nQ 6.59375 17.96875 6.59375 36.375 \nQ 6.59375 54.828125 13.0625 64.515625 \nQ 19.53125 74.21875 31.78125 74.21875 \nz\n\" id=\"DejaVuSans-48\"/>\n      </defs>\n      <g transform=\"translate(26.2875 228.439219)scale(0.1 -0.1)\">\n       <use xlink:href=\"#DejaVuSans-48\"/>\n      </g>\n     </g>\n    </g>\n    <g id=\"ytick_2\">\n     <g id=\"line2d_6\">\n      <g>\n       <use style=\"stroke:#000000;stroke-width:0.8;\" x=\"39.65\" xlink:href=\"#m990077ce97\" y=\"191.266582\"/>\n      </g>\n     </g>\n     <g id=\"text_7\">\n      <!-- 1000 -->\n      <defs>\n       <path d=\"M 12.40625 8.296875 \nL 28.515625 8.296875 \nL 28.515625 63.921875 \nL 10.984375 60.40625 \nL 10.984375 69.390625 \nL 28.421875 72.90625 \nL 38.28125 72.90625 \nL 38.28125 8.296875 \nL 54.390625 8.296875 \nL 54.390625 0 \nL 12.40625 0 \nz\n\" id=\"DejaVuSans-49\"/>\n      </defs>\n      <g transform=\"translate(7.2 195.065801)scale(0.1 -0.1)\">\n       <use xlink:href=\"#DejaVuSans-49\"/>\n       <use x=\"63.623047\" xlink:href=\"#DejaVuSans-48\"/>\n       <use x=\"127.246094\" xlink:href=\"#DejaVuSans-48\"/>\n       <use x=\"190.869141\" xlink:href=\"#DejaVuSans-48\"/>\n      </g>\n     </g>\n    </g>\n    <g id=\"ytick_3\">\n     <g id=\"line2d_7\">\n      <g>\n       <use style=\"stroke:#000000;stroke-width:0.8;\" x=\"39.65\" xlink:href=\"#m990077ce97\" y=\"157.893165\"/>\n      </g>\n     </g>\n     <g id=\"text_8\">\n      <!-- 2000 -->\n      <defs>\n       <path d=\"M 19.1875 8.296875 \nL 53.609375 8.296875 \nL 53.609375 0 \nL 7.328125 0 \nL 7.328125 8.296875 \nQ 12.9375 14.109375 22.625 23.890625 \nQ 32.328125 33.6875 34.8125 36.53125 \nQ 39.546875 41.84375 41.421875 45.53125 \nQ 43.3125 49.21875 43.3125 52.78125 \nQ 43.3125 58.59375 39.234375 62.25 \nQ 35.15625 65.921875 28.609375 65.921875 \nQ 23.96875 65.921875 18.8125 64.3125 \nQ 13.671875 62.703125 7.8125 59.421875 \nL 7.8125 69.390625 \nQ 13.765625 71.78125 18.9375 73 \nQ 24.125 74.21875 28.421875 74.21875 \nQ 39.75 74.21875 46.484375 68.546875 \nQ 53.21875 62.890625 53.21875 53.421875 \nQ 53.21875 48.921875 51.53125 44.890625 \nQ 49.859375 40.875 45.40625 35.40625 \nQ 44.1875 33.984375 37.640625 27.21875 \nQ 31.109375 20.453125 19.1875 8.296875 \nz\n\" id=\"DejaVuSans-50\"/>\n      </defs>\n      <g transform=\"translate(7.2 161.692383)scale(0.1 -0.1)\">\n       <use xlink:href=\"#DejaVuSans-50\"/>\n       <use x=\"63.623047\" xlink:href=\"#DejaVuSans-48\"/>\n       <use x=\"127.246094\" xlink:href=\"#DejaVuSans-48\"/>\n       <use x=\"190.869141\" xlink:href=\"#DejaVuSans-48\"/>\n      </g>\n     </g>\n    </g>\n    <g id=\"ytick_4\">\n     <g id=\"line2d_8\">\n      <g>\n       <use style=\"stroke:#000000;stroke-width:0.8;\" x=\"39.65\" xlink:href=\"#m990077ce97\" y=\"124.519747\"/>\n      </g>\n     </g>\n     <g id=\"text_9\">\n      <!-- 3000 -->\n      <defs>\n       <path d=\"M 40.578125 39.3125 \nQ 47.65625 37.796875 51.625 33 \nQ 55.609375 28.21875 55.609375 21.1875 \nQ 55.609375 10.40625 48.1875 4.484375 \nQ 40.765625 -1.421875 27.09375 -1.421875 \nQ 22.515625 -1.421875 17.65625 -0.515625 \nQ 12.796875 0.390625 7.625 2.203125 \nL 7.625 11.71875 \nQ 11.71875 9.328125 16.59375 8.109375 \nQ 21.484375 6.890625 26.8125 6.890625 \nQ 36.078125 6.890625 40.9375 10.546875 \nQ 45.796875 14.203125 45.796875 21.1875 \nQ 45.796875 27.640625 41.28125 31.265625 \nQ 36.765625 34.90625 28.71875 34.90625 \nL 20.21875 34.90625 \nL 20.21875 43.015625 \nL 29.109375 43.015625 \nQ 36.375 43.015625 40.234375 45.921875 \nQ 44.09375 48.828125 44.09375 54.296875 \nQ 44.09375 59.90625 40.109375 62.90625 \nQ 36.140625 65.921875 28.71875 65.921875 \nQ 24.65625 65.921875 20.015625 65.03125 \nQ 15.375 64.15625 9.8125 62.3125 \nL 9.8125 71.09375 \nQ 15.4375 72.65625 20.34375 73.4375 \nQ 25.25 74.21875 29.59375 74.21875 \nQ 40.828125 74.21875 47.359375 69.109375 \nQ 53.90625 64.015625 53.90625 55.328125 \nQ 53.90625 49.265625 50.4375 45.09375 \nQ 46.96875 40.921875 40.578125 39.3125 \nz\n\" id=\"DejaVuSans-51\"/>\n      </defs>\n      <g transform=\"translate(7.2 128.318966)scale(0.1 -0.1)\">\n       <use xlink:href=\"#DejaVuSans-51\"/>\n       <use x=\"63.623047\" xlink:href=\"#DejaVuSans-48\"/>\n       <use x=\"127.246094\" xlink:href=\"#DejaVuSans-48\"/>\n       <use x=\"190.869141\" xlink:href=\"#DejaVuSans-48\"/>\n      </g>\n     </g>\n    </g>\n    <g id=\"ytick_5\">\n     <g id=\"line2d_9\">\n      <g>\n       <use style=\"stroke:#000000;stroke-width:0.8;\" x=\"39.65\" xlink:href=\"#m990077ce97\" y=\"91.146329\"/>\n      </g>\n     </g>\n     <g id=\"text_10\">\n      <!-- 4000 -->\n      <defs>\n       <path d=\"M 37.796875 64.3125 \nL 12.890625 25.390625 \nL 37.796875 25.390625 \nz\nM 35.203125 72.90625 \nL 47.609375 72.90625 \nL 47.609375 25.390625 \nL 58.015625 25.390625 \nL 58.015625 17.1875 \nL 47.609375 17.1875 \nL 47.609375 0 \nL 37.796875 0 \nL 37.796875 17.1875 \nL 4.890625 17.1875 \nL 4.890625 26.703125 \nz\n\" id=\"DejaVuSans-52\"/>\n      </defs>\n      <g transform=\"translate(7.2 94.945548)scale(0.1 -0.1)\">\n       <use xlink:href=\"#DejaVuSans-52\"/>\n       <use x=\"63.623047\" xlink:href=\"#DejaVuSans-48\"/>\n       <use x=\"127.246094\" xlink:href=\"#DejaVuSans-48\"/>\n       <use x=\"190.869141\" xlink:href=\"#DejaVuSans-48\"/>\n      </g>\n     </g>\n    </g>\n    <g id=\"ytick_6\">\n     <g id=\"line2d_10\">\n      <g>\n       <use style=\"stroke:#000000;stroke-width:0.8;\" x=\"39.65\" xlink:href=\"#m990077ce97\" y=\"57.772911\"/>\n      </g>\n     </g>\n     <g id=\"text_11\">\n      <!-- 5000 -->\n      <defs>\n       <path d=\"M 10.796875 72.90625 \nL 49.515625 72.90625 \nL 49.515625 64.59375 \nL 19.828125 64.59375 \nL 19.828125 46.734375 \nQ 21.96875 47.46875 24.109375 47.828125 \nQ 26.265625 48.1875 28.421875 48.1875 \nQ 40.625 48.1875 47.75 41.5 \nQ 54.890625 34.8125 54.890625 23.390625 \nQ 54.890625 11.625 47.5625 5.09375 \nQ 40.234375 -1.421875 26.90625 -1.421875 \nQ 22.3125 -1.421875 17.546875 -0.640625 \nQ 12.796875 0.140625 7.71875 1.703125 \nL 7.71875 11.625 \nQ 12.109375 9.234375 16.796875 8.0625 \nQ 21.484375 6.890625 26.703125 6.890625 \nQ 35.15625 6.890625 40.078125 11.328125 \nQ 45.015625 15.765625 45.015625 23.390625 \nQ 45.015625 31 40.078125 35.4375 \nQ 35.15625 39.890625 26.703125 39.890625 \nQ 22.75 39.890625 18.8125 39.015625 \nQ 14.890625 38.140625 10.796875 36.28125 \nz\n\" id=\"DejaVuSans-53\"/>\n      </defs>\n      <g transform=\"translate(7.2 61.57213)scale(0.1 -0.1)\">\n       <use xlink:href=\"#DejaVuSans-53\"/>\n       <use x=\"63.623047\" xlink:href=\"#DejaVuSans-48\"/>\n       <use x=\"127.246094\" xlink:href=\"#DejaVuSans-48\"/>\n       <use x=\"190.869141\" xlink:href=\"#DejaVuSans-48\"/>\n      </g>\n     </g>\n    </g>\n    <g id=\"ytick_7\">\n     <g id=\"line2d_11\">\n      <g>\n       <use style=\"stroke:#000000;stroke-width:0.8;\" x=\"39.65\" xlink:href=\"#m990077ce97\" y=\"24.399494\"/>\n      </g>\n     </g>\n     <g id=\"text_12\">\n      <!-- 6000 -->\n      <defs>\n       <path d=\"M 33.015625 40.375 \nQ 26.375 40.375 22.484375 35.828125 \nQ 18.609375 31.296875 18.609375 23.390625 \nQ 18.609375 15.53125 22.484375 10.953125 \nQ 26.375 6.390625 33.015625 6.390625 \nQ 39.65625 6.390625 43.53125 10.953125 \nQ 47.40625 15.53125 47.40625 23.390625 \nQ 47.40625 31.296875 43.53125 35.828125 \nQ 39.65625 40.375 33.015625 40.375 \nz\nM 52.59375 71.296875 \nL 52.59375 62.3125 \nQ 48.875 64.0625 45.09375 64.984375 \nQ 41.3125 65.921875 37.59375 65.921875 \nQ 27.828125 65.921875 22.671875 59.328125 \nQ 17.53125 52.734375 16.796875 39.40625 \nQ 19.671875 43.65625 24.015625 45.921875 \nQ 28.375 48.1875 33.59375 48.1875 \nQ 44.578125 48.1875 50.953125 41.515625 \nQ 57.328125 34.859375 57.328125 23.390625 \nQ 57.328125 12.15625 50.6875 5.359375 \nQ 44.046875 -1.421875 33.015625 -1.421875 \nQ 20.359375 -1.421875 13.671875 8.265625 \nQ 6.984375 17.96875 6.984375 36.375 \nQ 6.984375 53.65625 15.1875 63.9375 \nQ 23.390625 74.21875 37.203125 74.21875 \nQ 40.921875 74.21875 44.703125 73.484375 \nQ 48.484375 72.75 52.59375 71.296875 \nz\n\" id=\"DejaVuSans-54\"/>\n      </defs>\n      <g transform=\"translate(7.2 28.198712)scale(0.1 -0.1)\">\n       <use xlink:href=\"#DejaVuSans-54\"/>\n       <use x=\"63.623047\" xlink:href=\"#DejaVuSans-48\"/>\n       <use x=\"127.246094\" xlink:href=\"#DejaVuSans-48\"/>\n       <use x=\"190.869141\" xlink:href=\"#DejaVuSans-48\"/>\n      </g>\n     </g>\n    </g>\n   </g>\n   <g id=\"patch_7\">\n    <path d=\"M 39.65 224.64 \nL 39.65 7.2 \n\" style=\"fill:none;stroke:#000000;stroke-linecap:square;stroke-linejoin:miter;stroke-width:0.8;\"/>\n   </g>\n   <g id=\"patch_8\">\n    <path d=\"M 374.45 224.64 \nL 374.45 7.2 \n\" style=\"fill:none;stroke:#000000;stroke-linecap:square;stroke-linejoin:miter;stroke-width:0.8;\"/>\n   </g>\n   <g id=\"patch_9\">\n    <path d=\"M 39.65 224.64 \nL 374.45 224.64 \n\" style=\"fill:none;stroke:#000000;stroke-linecap:square;stroke-linejoin:miter;stroke-width:0.8;\"/>\n   </g>\n   <g id=\"patch_10\">\n    <path d=\"M 39.65 7.2 \nL 374.45 7.2 \n\" style=\"fill:none;stroke:#000000;stroke-linecap:square;stroke-linejoin:miter;stroke-width:0.8;\"/>\n   </g>\n  </g>\n </g>\n <defs>\n  <clipPath id=\"p41b1a9b705\">\n   <rect height=\"217.44\" width=\"334.8\" x=\"39.65\" y=\"7.2\"/>\n  </clipPath>\n </defs>\n</svg>\n",
      "image/png": "[encoded data removed]"
     },
     "metadata": {
      "needs_background": "light"
     }
    }
   ],
   "source": [
    "df.groupby('dog_stage')['retweet_count'].mean()[1:].plot(kind='bar');\n",
    "df.groupby('dog_stage')['retweet_count'].mean()[1:]"
   ]
  },
  {
   "cell_type": "markdown",
   "metadata": {},
   "source": [
    "The most retweeted dog stage tweets are th doggo ones."
   ]
  },
  {
   "cell_type": "code",
   "execution_count": 302,
   "metadata": {},
   "outputs": [
    {
     "output_type": "execute_result",
     "data": {
      "text/plain": "<matplotlib.legend.Legend at 0x7f3b97d66390>"
     },
     "metadata": {},
     "execution_count": 302
    },
    {
     "output_type": "display_data",
     "data": {
      "text/plain": "<Figure size 432x288 with 1 Axes>",
      "image/svg+xml": "<?xml version=\"1.0\" encoding=\"utf-8\" standalone=\"no\"?>\n<!DOCTYPE svg PUBLIC \"-//W3C//DTD SVG 1.1//EN\"\n  \"http://www.w3.org/Graphics/SVG/1.1/DTD/svg11.dtd\">\n<!-- Created with matplotlib (https://matplotlib.org/) -->\n<svg height=\"249.892157pt\" version=\"1.1\" viewBox=\"0 0 394.375 249.892157\" width=\"394.375pt\" xmlns=\"http://www.w3.org/2000/svg\" xmlns:xlink=\"http://www.w3.org/1999/xlink\">\n <defs>\n  <style type=\"text/css\">\n*{stroke-linecap:butt;stroke-linejoin:round;}\n  </style>\n </defs>\n <g id=\"figure_1\">\n  <g id=\"patch_1\">\n   <path d=\"M 0 249.892157 \nL 394.375 249.892157 \nL 394.375 0 \nL 0 0 \nz\n\" style=\"fill:none;\"/>\n  </g>\n  <g id=\"axes_1\">\n   <g id=\"patch_2\">\n    <path d=\"M 52.375 226.014032 \nL 387.175 226.014032 \nL 387.175 8.574032 \nL 52.375 8.574032 \nz\n\" style=\"fill:#ffffff;\"/>\n   </g>\n   <g id=\"PathCollection_1\">\n    <defs>\n     <path d=\"M 0 3 \nC 0.795609 3 1.55874 2.683901 2.12132 2.12132 \nC 2.683901 1.55874 3 0.795609 3 0 \nC 3 -0.795609 2.683901 -1.55874 2.12132 -2.12132 \nC 1.55874 -2.683901 0.795609 -3 0 -3 \nC -0.795609 -3 -1.55874 -2.683901 -2.12132 -2.12132 \nC -2.683901 -1.55874 -3 -0.795609 -3 0 \nC -3 0.795609 -2.683901 1.55874 -2.12132 2.12132 \nC -1.55874 2.683901 -0.795609 3 0 3 \nz\n\" id=\"m4892eff049\" style=\"stroke:#1f77b4;\"/>\n    </defs>\n    <g clip-path=\"url(#pc3c4e1da26)\">\n     <use style=\"fill:#1f77b4;stroke:#1f77b4;\" x=\"169.047727\" xlink:href=\"#m4892eff049\" y=\"208.38236\"/>\n     <use style=\"fill:#1f77b4;stroke:#1f77b4;\" x=\"156.365909\" xlink:href=\"#m4892eff049\" y=\"210.820031\"/>\n     <use style=\"fill:#1f77b4;stroke:#1f77b4;\" x=\"169.047727\" xlink:href=\"#m4892eff049\" y=\"213.964292\"/>\n     <use style=\"fill:#1f77b4;stroke:#1f77b4;\" x=\"194.411364\" xlink:href=\"#m4892eff049\" y=\"209.534269\"/>\n     <use style=\"fill:#1f77b4;stroke:#1f77b4;\" x=\"169.047727\" xlink:href=\"#m4892eff049\" y=\"206.731076\"/>\n     <use style=\"fill:#1f77b4;stroke:#1f77b4;\" x=\"181.729545\" xlink:href=\"#m4892eff049\" y=\"153.434372\"/>\n     <use style=\"fill:#1f77b4;stroke:#1f77b4;\" x=\"131.002273\" xlink:href=\"#m4892eff049\" y=\"212.721003\"/>\n     <use style=\"fill:#1f77b4;stroke:#1f77b4;\" x=\"194.411364\" xlink:href=\"#m4892eff049\" y=\"70.166154\"/>\n     <use style=\"fill:#1f77b4;stroke:#1f77b4;\" x=\"181.729545\" xlink:href=\"#m4892eff049\" y=\"204.855845\"/>\n     <use style=\"fill:#1f77b4;stroke:#1f77b4;\" x=\"194.411364\" xlink:href=\"#m4892eff049\" y=\"18.457668\"/>\n     <use style=\"fill:#1f77b4;stroke:#1f77b4;\" x=\"156.365909\" xlink:href=\"#m4892eff049\" y=\"207.930606\"/>\n     <use style=\"fill:#1f77b4;stroke:#1f77b4;\" x=\"156.365909\" xlink:href=\"#m4892eff049\" y=\"211.515038\"/>\n     <use style=\"fill:#1f77b4;stroke:#1f77b4;\" x=\"194.411364\" xlink:href=\"#m4892eff049\" y=\"209.530408\"/>\n     <use style=\"fill:#1f77b4;stroke:#1f77b4;\" x=\"169.047727\" xlink:href=\"#m4892eff049\" y=\"212.786642\"/>\n     <use style=\"fill:#1f77b4;stroke:#1f77b4;\" x=\"92.956818\" xlink:href=\"#m4892eff049\" y=\"211.324554\"/>\n     <use style=\"fill:#1f77b4;stroke:#1f77b4;\" x=\"131.002273\" xlink:href=\"#m4892eff049\" y=\"212.049163\"/>\n     <use style=\"fill:#1f77b4;stroke:#1f77b4;\" x=\"156.365909\" xlink:href=\"#m4892eff049\" y=\"211.324554\"/>\n     <use style=\"fill:#1f77b4;stroke:#1f77b4;\" x=\"156.365909\" xlink:href=\"#m4892eff049\" y=\"209.257553\"/>\n     <use style=\"fill:#1f77b4;stroke:#1f77b4;\" x=\"207.093182\" xlink:href=\"#m4892eff049\" y=\"195.918576\"/>\n     <use style=\"fill:#1f77b4;stroke:#1f77b4;\" x=\"194.411364\" xlink:href=\"#m4892eff049\" y=\"203.60226\"/>\n     <use style=\"fill:#1f77b4;stroke:#1f77b4;\" x=\"156.365909\" xlink:href=\"#m4892eff049\" y=\"209.49437\"/>\n     <use style=\"fill:#1f77b4;stroke:#1f77b4;\" x=\"194.411364\" xlink:href=\"#m4892eff049\" y=\"202.561037\"/>\n     <use style=\"fill:#1f77b4;stroke:#1f77b4;\" x=\"181.729545\" xlink:href=\"#m4892eff049\" y=\"209.306461\"/>\n     <use style=\"fill:#1f77b4;stroke:#1f77b4;\" x=\"169.047727\" xlink:href=\"#m4892eff049\" y=\"212.033718\"/>\n     <use style=\"fill:#1f77b4;stroke:#1f77b4;\" x=\"194.411364\" xlink:href=\"#m4892eff049\" y=\"201.118255\"/>\n     <use style=\"fill:#1f77b4;stroke:#1f77b4;\" x=\"131.002273\" xlink:href=\"#m4892eff049\" y=\"202.975467\"/>\n     <use style=\"fill:#1f77b4;stroke:#1f77b4;\" x=\"169.047727\" xlink:href=\"#m4892eff049\" y=\"207.399054\"/>\n     <use style=\"fill:#1f77b4;stroke:#1f77b4;\" x=\"169.047727\" xlink:href=\"#m4892eff049\" y=\"199.067985\"/>\n     <use style=\"fill:#1f77b4;stroke:#1f77b4;\" x=\"181.729545\" xlink:href=\"#m4892eff049\" y=\"195.419201\"/>\n     <use style=\"fill:#1f77b4;stroke:#1f77b4;\" x=\"169.047727\" xlink:href=\"#m4892eff049\" y=\"207.275498\"/>\n     <use style=\"fill:#1f77b4;stroke:#1f77b4;\" x=\"156.365909\" xlink:href=\"#m4892eff049\" y=\"206.763252\"/>\n     <use style=\"fill:#1f77b4;stroke:#1f77b4;\" x=\"194.411364\" xlink:href=\"#m4892eff049\" y=\"202.812011\"/>\n     <use style=\"fill:#1f77b4;stroke:#1f77b4;\" x=\"194.411364\" xlink:href=\"#m4892eff049\" y=\"152.605512\"/>\n     <use style=\"fill:#1f77b4;stroke:#1f77b4;\" x=\"181.729545\" xlink:href=\"#m4892eff049\" y=\"207.092737\"/>\n     <use style=\"fill:#1f77b4;stroke:#1f77b4;\" x=\"194.411364\" xlink:href=\"#m4892eff049\" y=\"206.024486\"/>\n     <use style=\"fill:#1f77b4;stroke:#1f77b4;\" x=\"169.047727\" xlink:href=\"#m4892eff049\" y=\"180.091733\"/>\n     <use style=\"fill:#1f77b4;stroke:#1f77b4;\" x=\"181.729545\" xlink:href=\"#m4892eff049\" y=\"206.447925\"/>\n     <use style=\"fill:#1f77b4;stroke:#1f77b4;\" x=\"181.729545\" xlink:href=\"#m4892eff049\" y=\"205.500657\"/>\n     <use style=\"fill:#1f77b4;stroke:#1f77b4;\" x=\"169.047727\" xlink:href=\"#m4892eff049\" y=\"203.231589\"/>\n     <use style=\"fill:#1f77b4;stroke:#1f77b4;\" x=\"169.047727\" xlink:href=\"#m4892eff049\" y=\"201.597037\"/>\n     <use style=\"fill:#1f77b4;stroke:#1f77b4;\" x=\"169.047727\" xlink:href=\"#m4892eff049\" y=\"204.970393\"/>\n     <use style=\"fill:#1f77b4;stroke:#1f77b4;\" x=\"169.047727\" xlink:href=\"#m4892eff049\" y=\"204.889309\"/>\n     <use style=\"fill:#1f77b4;stroke:#1f77b4;\" x=\"194.411364\" xlink:href=\"#m4892eff049\" y=\"203.044967\"/>\n     <use style=\"fill:#1f77b4;stroke:#1f77b4;\" x=\"207.093182\" xlink:href=\"#m4892eff049\" y=\"104.753025\"/>\n     <use style=\"fill:#1f77b4;stroke:#1f77b4;\" x=\"207.093182\" xlink:href=\"#m4892eff049\" y=\"158.417826\"/>\n     <use style=\"fill:#1f77b4;stroke:#1f77b4;\" x=\"169.047727\" xlink:href=\"#m4892eff049\" y=\"200.26108\"/>\n     <use style=\"fill:#1f77b4;stroke:#1f77b4;\" x=\"169.047727\" xlink:href=\"#m4892eff049\" y=\"204.558537\"/>\n     <use style=\"fill:#1f77b4;stroke:#1f77b4;\" x=\"207.093182\" xlink:href=\"#m4892eff049\" y=\"201.760492\"/>\n     <use style=\"fill:#1f77b4;stroke:#1f77b4;\" x=\"194.411364\" xlink:href=\"#m4892eff049\" y=\"206.093987\"/>\n     <use style=\"fill:#1f77b4;stroke:#1f77b4;\" x=\"194.411364\" xlink:href=\"#m4892eff049\" y=\"210.655289\"/>\n     <use style=\"fill:#1f77b4;stroke:#1f77b4;\" x=\"181.729545\" xlink:href=\"#m4892eff049\" y=\"193.285274\"/>\n     <use style=\"fill:#1f77b4;stroke:#1f77b4;\" x=\"194.411364\" xlink:href=\"#m4892eff049\" y=\"170.276696\"/>\n     <use style=\"fill:#1f77b4;stroke:#1f77b4;\" x=\"181.729545\" xlink:href=\"#m4892eff049\" y=\"189.223347\"/>\n     <use style=\"fill:#1f77b4;stroke:#1f77b4;\" x=\"207.093182\" xlink:href=\"#m4892eff049\" y=\"200.781048\"/>\n     <use style=\"fill:#1f77b4;stroke:#1f77b4;\" x=\"194.411364\" xlink:href=\"#m4892eff049\" y=\"206.307637\"/>\n     <use style=\"fill:#1f77b4;stroke:#1f77b4;\" x=\"169.047727\" xlink:href=\"#m4892eff049\" y=\"203.509592\"/>\n     <use style=\"fill:#1f77b4;stroke:#1f77b4;\" x=\"181.729545\" xlink:href=\"#m4892eff049\" y=\"205.034745\"/>\n     <use style=\"fill:#1f77b4;stroke:#1f77b4;\" x=\"181.729545\" xlink:href=\"#m4892eff049\" y=\"186.220661\"/>\n     <use style=\"fill:#1f77b4;stroke:#1f77b4;\" x=\"181.729545\" xlink:href=\"#m4892eff049\" y=\"194.061364\"/>\n     <use style=\"fill:#1f77b4;stroke:#1f77b4;\" x=\"207.093182\" xlink:href=\"#m4892eff049\" y=\"202.400156\"/>\n     <use style=\"fill:#1f77b4;stroke:#1f77b4;\" x=\"194.411364\" xlink:href=\"#m4892eff049\" y=\"199.985651\"/>\n     <use style=\"fill:#1f77b4;stroke:#1f77b4;\" x=\"194.411364\" xlink:href=\"#m4892eff049\" y=\"199.490138\"/>\n     <use style=\"fill:#1f77b4;stroke:#1f77b4;\" x=\"181.729545\" xlink:href=\"#m4892eff049\" y=\"192.263357\"/>\n     <use style=\"fill:#1f77b4;stroke:#1f77b4;\" x=\"194.411364\" xlink:href=\"#m4892eff049\" y=\"207.288368\"/>\n     <use style=\"fill:#1f77b4;stroke:#1f77b4;\" x=\"194.411364\" xlink:href=\"#m4892eff049\" y=\"160.690755\"/>\n     <use style=\"fill:#1f77b4;stroke:#1f77b4;\" x=\"169.047727\" xlink:href=\"#m4892eff049\" y=\"196.730704\"/>\n     <use style=\"fill:#1f77b4;stroke:#1f77b4;\" x=\"194.411364\" xlink:href=\"#m4892eff049\" y=\"160.268602\"/>\n     <use style=\"fill:#1f77b4;stroke:#1f77b4;\" x=\"194.411364\" xlink:href=\"#m4892eff049\" y=\"197.782223\"/>\n     <use style=\"fill:#1f77b4;stroke:#1f77b4;\" x=\"181.729545\" xlink:href=\"#m4892eff049\" y=\"197.647083\"/>\n     <use style=\"fill:#1f77b4;stroke:#1f77b4;\" x=\"181.729545\" xlink:href=\"#m4892eff049\" y=\"192.641749\"/>\n     <use style=\"fill:#1f77b4;stroke:#1f77b4;\" x=\"181.729545\" xlink:href=\"#m4892eff049\" y=\"184.202568\"/>\n     <use style=\"fill:#1f77b4;stroke:#1f77b4;\" x=\"181.729545\" xlink:href=\"#m4892eff049\" y=\"192.555517\"/>\n     <use style=\"fill:#1f77b4;stroke:#1f77b4;\" x=\"207.093182\" xlink:href=\"#m4892eff049\" y=\"178.885768\"/>\n    </g>\n   </g>\n   <g id=\"PathCollection_2\">\n    <defs>\n     <path d=\"M 0 3 \nC 0.795609 3 1.55874 2.683901 2.12132 2.12132 \nC 2.683901 1.55874 3 0.795609 3 0 \nC 3 -0.795609 2.683901 -1.55874 2.12132 -2.12132 \nC 1.55874 -2.683901 0.795609 -3 0 -3 \nC -0.795609 -3 -1.55874 -2.683901 -2.12132 -2.12132 \nC -2.683901 -1.55874 -3 -0.795609 -3 0 \nC -3 0.795609 -2.683901 1.55874 -2.12132 2.12132 \nC -1.55874 2.683901 -0.795609 3 0 3 \nz\n\" id=\"mab0d20ffdd\" style=\"stroke:#ff7f0e;\"/>\n    </defs>\n    <g clip-path=\"url(#pc3c4e1da26)\">\n     <use style=\"fill:#ff7f0e;stroke:#ff7f0e;\" x=\"131.002273\" xlink:href=\"#mab0d20ffdd\" y=\"215.852393\"/>\n     <use style=\"fill:#ff7f0e;stroke:#ff7f0e;\" x=\"143.684091\" xlink:href=\"#mab0d20ffdd\" y=\"214.167646\"/>\n     <use style=\"fill:#ff7f0e;stroke:#ff7f0e;\" x=\"169.047727\" xlink:href=\"#mab0d20ffdd\" y=\"215.167683\"/>\n     <use style=\"fill:#ff7f0e;stroke:#ff7f0e;\" x=\"181.729545\" xlink:href=\"#mab0d20ffdd\" y=\"216.041589\"/>\n     <use style=\"fill:#ff7f0e;stroke:#ff7f0e;\" x=\"143.684091\" xlink:href=\"#mab0d20ffdd\" y=\"215.297675\"/>\n     <use style=\"fill:#ff7f0e;stroke:#ff7f0e;\" x=\"105.638636\" xlink:href=\"#mab0d20ffdd\" y=\"215.423806\"/>\n     <use style=\"fill:#ff7f0e;stroke:#ff7f0e;\" x=\"181.729545\" xlink:href=\"#mab0d20ffdd\" y=\"215.345296\"/>\n     <use style=\"fill:#ff7f0e;stroke:#ff7f0e;\" x=\"169.047727\" xlink:href=\"#mab0d20ffdd\" y=\"215.822791\"/>\n     <use style=\"fill:#ff7f0e;stroke:#ff7f0e;\" x=\"118.320455\" xlink:href=\"#mab0d20ffdd\" y=\"215.761013\"/>\n     <use style=\"fill:#ff7f0e;stroke:#ff7f0e;\" x=\"156.365909\" xlink:href=\"#mab0d20ffdd\" y=\"214.87681\"/>\n     <use style=\"fill:#ff7f0e;stroke:#ff7f0e;\" x=\"156.365909\" xlink:href=\"#mab0d20ffdd\" y=\"215.721114\"/>\n     <use style=\"fill:#ff7f0e;stroke:#ff7f0e;\" x=\"131.002273\" xlink:href=\"#mab0d20ffdd\" y=\"214.845921\"/>\n     <use style=\"fill:#ff7f0e;stroke:#ff7f0e;\" x=\"131.002273\" xlink:href=\"#mab0d20ffdd\" y=\"207.696363\"/>\n     <use style=\"fill:#ff7f0e;stroke:#ff7f0e;\" x=\"156.365909\" xlink:href=\"#mab0d20ffdd\" y=\"215.374898\"/>\n     <use style=\"fill:#ff7f0e;stroke:#ff7f0e;\" x=\"169.047727\" xlink:href=\"#mab0d20ffdd\" y=\"215.667058\"/>\n     <use style=\"fill:#ff7f0e;stroke:#ff7f0e;\" x=\"118.320455\" xlink:href=\"#mab0d20ffdd\" y=\"214.963042\"/>\n     <use style=\"fill:#ff7f0e;stroke:#ff7f0e;\" x=\"156.365909\" xlink:href=\"#mab0d20ffdd\" y=\"216.040302\"/>\n     <use style=\"fill:#ff7f0e;stroke:#ff7f0e;\" x=\"131.002273\" xlink:href=\"#mab0d20ffdd\" y=\"212.060746\"/>\n     <use style=\"fill:#ff7f0e;stroke:#ff7f0e;\" x=\"156.365909\" xlink:href=\"#mab0d20ffdd\" y=\"215.578252\"/>\n     <use style=\"fill:#ff7f0e;stroke:#ff7f0e;\" x=\"169.047727\" xlink:href=\"#mab0d20ffdd\" y=\"215.486871\"/>\n     <use style=\"fill:#ff7f0e;stroke:#ff7f0e;\" x=\"156.365909\" xlink:href=\"#mab0d20ffdd\" y=\"214.525445\"/>\n     <use style=\"fill:#ff7f0e;stroke:#ff7f0e;\" x=\"181.729545\" xlink:href=\"#mab0d20ffdd\" y=\"215.567955\"/>\n     <use style=\"fill:#ff7f0e;stroke:#ff7f0e;\" x=\"143.684091\" xlink:href=\"#mab0d20ffdd\" y=\"215.318268\"/>\n     <use style=\"fill:#ff7f0e;stroke:#ff7f0e;\" x=\"131.002273\" xlink:href=\"#mab0d20ffdd\" y=\"215.199859\"/>\n     <use style=\"fill:#ff7f0e;stroke:#ff7f0e;\" x=\"156.365909\" xlink:href=\"#mab0d20ffdd\" y=\"215.61815\"/>\n     <use style=\"fill:#ff7f0e;stroke:#ff7f0e;\" x=\"181.729545\" xlink:href=\"#mab0d20ffdd\" y=\"214.847208\"/>\n     <use style=\"fill:#ff7f0e;stroke:#ff7f0e;\" x=\"156.365909\" xlink:href=\"#mab0d20ffdd\" y=\"216.130396\"/>\n     <use style=\"fill:#ff7f0e;stroke:#ff7f0e;\" x=\"169.047727\" xlink:href=\"#mab0d20ffdd\" y=\"215.560233\"/>\n     <use style=\"fill:#ff7f0e;stroke:#ff7f0e;\" x=\"156.365909\" xlink:href=\"#mab0d20ffdd\" y=\"215.717253\"/>\n     <use style=\"fill:#ff7f0e;stroke:#ff7f0e;\" x=\"156.365909\" xlink:href=\"#mab0d20ffdd\" y=\"214.522871\"/>\n     <use style=\"fill:#ff7f0e;stroke:#ff7f0e;\" x=\"181.729545\" xlink:href=\"#mab0d20ffdd\" y=\"213.515112\"/>\n     <use style=\"fill:#ff7f0e;stroke:#ff7f0e;\" x=\"181.729545\" xlink:href=\"#mab0d20ffdd\" y=\"215.481723\"/>\n     <use style=\"fill:#ff7f0e;stroke:#ff7f0e;\" x=\"156.365909\" xlink:href=\"#mab0d20ffdd\" y=\"214.117451\"/>\n     <use style=\"fill:#ff7f0e;stroke:#ff7f0e;\" x=\"156.365909\" xlink:href=\"#mab0d20ffdd\" y=\"214.925718\"/>\n     <use style=\"fill:#ff7f0e;stroke:#ff7f0e;\" x=\"156.365909\" xlink:href=\"#mab0d20ffdd\" y=\"214.333675\"/>\n     <use style=\"fill:#ff7f0e;stroke:#ff7f0e;\" x=\"169.047727\" xlink:href=\"#mab0d20ffdd\" y=\"202.460647\"/>\n     <use style=\"fill:#ff7f0e;stroke:#ff7f0e;\" x=\"131.002273\" xlink:href=\"#mab0d20ffdd\" y=\"213.718466\"/>\n     <use style=\"fill:#ff7f0e;stroke:#ff7f0e;\" x=\"143.684091\" xlink:href=\"#mab0d20ffdd\" y=\"215.479149\"/>\n     <use style=\"fill:#ff7f0e;stroke:#ff7f0e;\" x=\"194.411364\" xlink:href=\"#mab0d20ffdd\" y=\"213.325916\"/>\n     <use style=\"fill:#ff7f0e;stroke:#ff7f0e;\" x=\"181.729545\" xlink:href=\"#mab0d20ffdd\" y=\"214.665734\"/>\n     <use style=\"fill:#ff7f0e;stroke:#ff7f0e;\" x=\"131.002273\" xlink:href=\"#mab0d20ffdd\" y=\"201.032022\"/>\n     <use style=\"fill:#ff7f0e;stroke:#ff7f0e;\" x=\"156.365909\" xlink:href=\"#mab0d20ffdd\" y=\"214.454658\"/>\n     <use style=\"fill:#ff7f0e;stroke:#ff7f0e;\" x=\"156.365909\" xlink:href=\"#mab0d20ffdd\" y=\"213.857467\"/>\n     <use style=\"fill:#ff7f0e;stroke:#ff7f0e;\" x=\"156.365909\" xlink:href=\"#mab0d20ffdd\" y=\"202.586778\"/>\n     <use style=\"fill:#ff7f0e;stroke:#ff7f0e;\" x=\"181.729545\" xlink:href=\"#mab0d20ffdd\" y=\"214.748105\"/>\n     <use style=\"fill:#ff7f0e;stroke:#ff7f0e;\" x=\"169.047727\" xlink:href=\"#mab0d20ffdd\" y=\"214.580789\"/>\n     <use style=\"fill:#ff7f0e;stroke:#ff7f0e;\" x=\"181.729545\" xlink:href=\"#mab0d20ffdd\" y=\"213.701734\"/>\n     <use style=\"fill:#ff7f0e;stroke:#ff7f0e;\" x=\"131.002273\" xlink:href=\"#mab0d20ffdd\" y=\"212.933366\"/>\n     <use style=\"fill:#ff7f0e;stroke:#ff7f0e;\" x=\"169.047727\" xlink:href=\"#mab0d20ffdd\" y=\"213.596196\"/>\n     <use style=\"fill:#ff7f0e;stroke:#ff7f0e;\" x=\"156.365909\" xlink:href=\"#mab0d20ffdd\" y=\"213.011876\"/>\n     <use style=\"fill:#ff7f0e;stroke:#ff7f0e;\" x=\"194.411364\" xlink:href=\"#mab0d20ffdd\" y=\"171.187927\"/>\n     <use style=\"fill:#ff7f0e;stroke:#ff7f0e;\" x=\"169.047727\" xlink:href=\"#mab0d20ffdd\" y=\"212.418546\"/>\n     <use style=\"fill:#ff7f0e;stroke:#ff7f0e;\" x=\"156.365909\" xlink:href=\"#mab0d20ffdd\" y=\"212.378648\"/>\n     <use style=\"fill:#ff7f0e;stroke:#ff7f0e;\" x=\"156.365909\" xlink:href=\"#mab0d20ffdd\" y=\"212.019561\"/>\n     <use style=\"fill:#ff7f0e;stroke:#ff7f0e;\" x=\"169.047727\" xlink:href=\"#mab0d20ffdd\" y=\"214.219128\"/>\n     <use style=\"fill:#ff7f0e;stroke:#ff7f0e;\" x=\"156.365909\" xlink:href=\"#mab0d20ffdd\" y=\"213.717179\"/>\n     <use style=\"fill:#ff7f0e;stroke:#ff7f0e;\" x=\"181.729545\" xlink:href=\"#mab0d20ffdd\" y=\"212.551112\"/>\n     <use style=\"fill:#ff7f0e;stroke:#ff7f0e;\" x=\"169.047727\" xlink:href=\"#mab0d20ffdd\" y=\"213.881921\"/>\n     <use style=\"fill:#ff7f0e;stroke:#ff7f0e;\" x=\"181.729545\" xlink:href=\"#mab0d20ffdd\" y=\"213.588474\"/>\n     <use style=\"fill:#ff7f0e;stroke:#ff7f0e;\" x=\"118.320455\" xlink:href=\"#mab0d20ffdd\" y=\"214.690188\"/>\n     <use style=\"fill:#ff7f0e;stroke:#ff7f0e;\" x=\"169.047727\" xlink:href=\"#mab0d20ffdd\" y=\"200.714121\"/>\n     <use style=\"fill:#ff7f0e;stroke:#ff7f0e;\" x=\"156.365909\" xlink:href=\"#mab0d20ffdd\" y=\"213.811133\"/>\n     <use style=\"fill:#ff7f0e;stroke:#ff7f0e;\" x=\"118.320455\" xlink:href=\"#mab0d20ffdd\" y=\"207.350147\"/>\n     <use style=\"fill:#ff7f0e;stroke:#ff7f0e;\" x=\"181.729545\" xlink:href=\"#mab0d20ffdd\" y=\"213.795689\"/>\n     <use style=\"fill:#ff7f0e;stroke:#ff7f0e;\" x=\"143.684091\" xlink:href=\"#mab0d20ffdd\" y=\"214.408324\"/>\n     <use style=\"fill:#ff7f0e;stroke:#ff7f0e;\" x=\"156.365909\" xlink:href=\"#mab0d20ffdd\" y=\"212.625761\"/>\n     <use style=\"fill:#ff7f0e;stroke:#ff7f0e;\" x=\"143.684091\" xlink:href=\"#mab0d20ffdd\" y=\"213.289878\"/>\n     <use style=\"fill:#ff7f0e;stroke:#ff7f0e;\" x=\"131.002273\" xlink:href=\"#mab0d20ffdd\" y=\"213.860041\"/>\n     <use style=\"fill:#ff7f0e;stroke:#ff7f0e;\" x=\"169.047727\" xlink:href=\"#mab0d20ffdd\" y=\"213.55501\"/>\n     <use style=\"fill:#ff7f0e;stroke:#ff7f0e;\" x=\"181.729545\" xlink:href=\"#mab0d20ffdd\" y=\"213.379972\"/>\n     <use style=\"fill:#ff7f0e;stroke:#ff7f0e;\" x=\"143.684091\" xlink:href=\"#mab0d20ffdd\" y=\"213.603918\"/>\n     <use style=\"fill:#ff7f0e;stroke:#ff7f0e;\" x=\"92.956818\" xlink:href=\"#mab0d20ffdd\" y=\"214.288628\"/>\n     <use style=\"fill:#ff7f0e;stroke:#ff7f0e;\" x=\"169.047727\" xlink:href=\"#mab0d20ffdd\" y=\"211.718391\"/>\n     <use style=\"fill:#ff7f0e;stroke:#ff7f0e;\" x=\"156.365909\" xlink:href=\"#mab0d20ffdd\" y=\"213.009302\"/>\n     <use style=\"fill:#ff7f0e;stroke:#ff7f0e;\" x=\"207.093182\" xlink:href=\"#mab0d20ffdd\" y=\"175.243419\"/>\n     <use style=\"fill:#ff7f0e;stroke:#ff7f0e;\" x=\"118.320455\" xlink:href=\"#mab0d20ffdd\" y=\"213.211368\"/>\n     <use style=\"fill:#ff7f0e;stroke:#ff7f0e;\" x=\"143.684091\" xlink:href=\"#mab0d20ffdd\" y=\"213.93469\"/>\n     <use style=\"fill:#ff7f0e;stroke:#ff7f0e;\" x=\"131.002273\" xlink:href=\"#mab0d20ffdd\" y=\"214.863939\"/>\n     <use style=\"fill:#ff7f0e;stroke:#ff7f0e;\" x=\"169.047727\" xlink:href=\"#mab0d20ffdd\" y=\"213.784105\"/>\n     <use style=\"fill:#ff7f0e;stroke:#ff7f0e;\" x=\"156.365909\" xlink:href=\"#mab0d20ffdd\" y=\"214.141905\"/>\n     <use style=\"fill:#ff7f0e;stroke:#ff7f0e;\" x=\"169.047727\" xlink:href=\"#mab0d20ffdd\" y=\"212.234498\"/>\n     <use style=\"fill:#ff7f0e;stroke:#ff7f0e;\" x=\"169.047727\" xlink:href=\"#mab0d20ffdd\" y=\"213.354231\"/>\n     <use style=\"fill:#ff7f0e;stroke:#ff7f0e;\" x=\"169.047727\" xlink:href=\"#mab0d20ffdd\" y=\"214.096858\"/>\n     <use style=\"fill:#ff7f0e;stroke:#ff7f0e;\" x=\"118.320455\" xlink:href=\"#mab0d20ffdd\" y=\"211.413361\"/>\n     <use style=\"fill:#ff7f0e;stroke:#ff7f0e;\" x=\"169.047727\" xlink:href=\"#mab0d20ffdd\" y=\"214.41862\"/>\n     <use style=\"fill:#ff7f0e;stroke:#ff7f0e;\" x=\"143.684091\" xlink:href=\"#mab0d20ffdd\" y=\"213.845884\"/>\n     <use style=\"fill:#ff7f0e;stroke:#ff7f0e;\" x=\"181.729545\" xlink:href=\"#mab0d20ffdd\" y=\"213.784105\"/>\n     <use style=\"fill:#ff7f0e;stroke:#ff7f0e;\" x=\"156.365909\" xlink:href=\"#mab0d20ffdd\" y=\"214.221702\"/>\n     <use style=\"fill:#ff7f0e;stroke:#ff7f0e;\" x=\"181.729545\" xlink:href=\"#mab0d20ffdd\" y=\"213.99132\"/>\n     <use style=\"fill:#ff7f0e;stroke:#ff7f0e;\" x=\"118.320455\" xlink:href=\"#mab0d20ffdd\" y=\"214.089136\"/>\n     <use style=\"fill:#ff7f0e;stroke:#ff7f0e;\" x=\"169.047727\" xlink:href=\"#mab0d20ffdd\" y=\"213.493232\"/>\n     <use style=\"fill:#ff7f0e;stroke:#ff7f0e;\" x=\"156.365909\" xlink:href=\"#mab0d20ffdd\" y=\"214.363277\"/>\n     <use style=\"fill:#ff7f0e;stroke:#ff7f0e;\" x=\"156.365909\" xlink:href=\"#mab0d20ffdd\" y=\"214.100719\"/>\n     <use style=\"fill:#ff7f0e;stroke:#ff7f0e;\" x=\"169.047727\" xlink:href=\"#mab0d20ffdd\" y=\"213.829152\"/>\n     <use style=\"fill:#ff7f0e;stroke:#ff7f0e;\" x=\"181.729545\" xlink:href=\"#mab0d20ffdd\" y=\"213.775096\"/>\n     <use style=\"fill:#ff7f0e;stroke:#ff7f0e;\" x=\"118.320455\" xlink:href=\"#mab0d20ffdd\" y=\"205.060486\"/>\n     <use style=\"fill:#ff7f0e;stroke:#ff7f0e;\" x=\"194.411364\" xlink:href=\"#mab0d20ffdd\" y=\"208.306424\"/>\n     <use style=\"fill:#ff7f0e;stroke:#ff7f0e;\" x=\"181.729545\" xlink:href=\"#mab0d20ffdd\" y=\"213.307897\"/>\n     <use style=\"fill:#ff7f0e;stroke:#ff7f0e;\" x=\"156.365909\" xlink:href=\"#mab0d20ffdd\" y=\"213.854893\"/>\n     <use style=\"fill:#ff7f0e;stroke:#ff7f0e;\" x=\"156.365909\" xlink:href=\"#mab0d20ffdd\" y=\"214.58465\"/>\n     <use style=\"fill:#ff7f0e;stroke:#ff7f0e;\" x=\"169.047727\" xlink:href=\"#mab0d20ffdd\" y=\"214.131608\"/>\n     <use style=\"fill:#ff7f0e;stroke:#ff7f0e;\" x=\"67.593182\" xlink:href=\"#mab0d20ffdd\" y=\"210.534306\"/>\n     <use style=\"fill:#ff7f0e;stroke:#ff7f0e;\" x=\"181.729545\" xlink:href=\"#mab0d20ffdd\" y=\"213.831726\"/>\n     <use style=\"fill:#ff7f0e;stroke:#ff7f0e;\" x=\"143.684091\" xlink:href=\"#mab0d20ffdd\" y=\"214.398028\"/>\n     <use style=\"fill:#ff7f0e;stroke:#ff7f0e;\" x=\"169.047727\" xlink:href=\"#mab0d20ffdd\" y=\"213.324629\"/>\n     <use style=\"fill:#ff7f0e;stroke:#ff7f0e;\" x=\"181.729545\" xlink:href=\"#mab0d20ffdd\" y=\"213.589761\"/>\n     <use style=\"fill:#ff7f0e;stroke:#ff7f0e;\" x=\"143.684091\" xlink:href=\"#mab0d20ffdd\" y=\"213.910236\"/>\n     <use style=\"fill:#ff7f0e;stroke:#ff7f0e;\" x=\"143.684091\" xlink:href=\"#mab0d20ffdd\" y=\"213.825291\"/>\n     <use style=\"fill:#ff7f0e;stroke:#ff7f0e;\" x=\"169.047727\" xlink:href=\"#mab0d20ffdd\" y=\"213.104543\"/>\n     <use style=\"fill:#ff7f0e;stroke:#ff7f0e;\" x=\"169.047727\" xlink:href=\"#mab0d20ffdd\" y=\"212.93594\"/>\n     <use style=\"fill:#ff7f0e;stroke:#ff7f0e;\" x=\"194.411364\" xlink:href=\"#mab0d20ffdd\" y=\"213.625798\"/>\n     <use style=\"fill:#ff7f0e;stroke:#ff7f0e;\" x=\"181.729545\" xlink:href=\"#mab0d20ffdd\" y=\"214.185664\"/>\n     <use style=\"fill:#ff7f0e;stroke:#ff7f0e;\" x=\"169.047727\" xlink:href=\"#mab0d20ffdd\" y=\"213.055635\"/>\n     <use style=\"fill:#ff7f0e;stroke:#ff7f0e;\" x=\"156.365909\" xlink:href=\"#mab0d20ffdd\" y=\"207.39648\"/>\n     <use style=\"fill:#ff7f0e;stroke:#ff7f0e;\" x=\"169.047727\" xlink:href=\"#mab0d20ffdd\" y=\"214.085275\"/>\n     <use style=\"fill:#ff7f0e;stroke:#ff7f0e;\" x=\"181.729545\" xlink:href=\"#mab0d20ffdd\" y=\"213.638669\"/>\n     <use style=\"fill:#ff7f0e;stroke:#ff7f0e;\" x=\"156.365909\" xlink:href=\"#mab0d20ffdd\" y=\"213.553723\"/>\n     <use style=\"fill:#ff7f0e;stroke:#ff7f0e;\" x=\"169.047727\" xlink:href=\"#mab0d20ffdd\" y=\"201.440017\"/>\n     <use style=\"fill:#ff7f0e;stroke:#ff7f0e;\" x=\"181.729545\" xlink:href=\"#mab0d20ffdd\" y=\"214.417333\"/>\n     <use style=\"fill:#ff7f0e;stroke:#ff7f0e;\" x=\"156.365909\" xlink:href=\"#mab0d20ffdd\" y=\"213.843309\"/>\n     <use style=\"fill:#ff7f0e;stroke:#ff7f0e;\" x=\"156.365909\" xlink:href=\"#mab0d20ffdd\" y=\"212.067182\"/>\n     <use style=\"fill:#ff7f0e;stroke:#ff7f0e;\" x=\"156.365909\" xlink:href=\"#mab0d20ffdd\" y=\"214.930866\"/>\n     <use style=\"fill:#ff7f0e;stroke:#ff7f0e;\" x=\"194.411364\" xlink:href=\"#mab0d20ffdd\" y=\"208.523935\"/>\n     <use style=\"fill:#ff7f0e;stroke:#ff7f0e;\" x=\"156.365909\" xlink:href=\"#mab0d20ffdd\" y=\"214.073691\"/>\n     <use style=\"fill:#ff7f0e;stroke:#ff7f0e;\" x=\"169.047727\" xlink:href=\"#mab0d20ffdd\" y=\"212.101932\"/>\n     <use style=\"fill:#ff7f0e;stroke:#ff7f0e;\" x=\"156.365909\" xlink:href=\"#mab0d20ffdd\" y=\"212.999005\"/>\n     <use style=\"fill:#ff7f0e;stroke:#ff7f0e;\" x=\"181.729545\" xlink:href=\"#mab0d20ffdd\" y=\"189.98528\"/>\n     <use style=\"fill:#ff7f0e;stroke:#ff7f0e;\" x=\"156.365909\" xlink:href=\"#mab0d20ffdd\" y=\"213.800837\"/>\n     <use style=\"fill:#ff7f0e;stroke:#ff7f0e;\" x=\"169.047727\" xlink:href=\"#mab0d20ffdd\" y=\"214.017061\"/>\n     <use style=\"fill:#ff7f0e;stroke:#ff7f0e;\" x=\"143.684091\" xlink:href=\"#mab0d20ffdd\" y=\"213.161173\"/>\n     <use style=\"fill:#ff7f0e;stroke:#ff7f0e;\" x=\"169.047727\" xlink:href=\"#mab0d20ffdd\" y=\"210.020774\"/>\n     <use style=\"fill:#ff7f0e;stroke:#ff7f0e;\" x=\"169.047727\" xlink:href=\"#mab0d20ffdd\" y=\"213.135432\"/>\n     <use style=\"fill:#ff7f0e;stroke:#ff7f0e;\" x=\"156.365909\" xlink:href=\"#mab0d20ffdd\" y=\"206.759391\"/>\n     <use style=\"fill:#ff7f0e;stroke:#ff7f0e;\" x=\"156.365909\" xlink:href=\"#mab0d20ffdd\" y=\"212.829115\"/>\n     <use style=\"fill:#ff7f0e;stroke:#ff7f0e;\" x=\"156.365909\" xlink:href=\"#mab0d20ffdd\" y=\"213.292452\"/>\n     <use style=\"fill:#ff7f0e;stroke:#ff7f0e;\" x=\"181.729545\" xlink:href=\"#mab0d20ffdd\" y=\"211.206146\"/>\n     <use style=\"fill:#ff7f0e;stroke:#ff7f0e;\" x=\"156.365909\" xlink:href=\"#mab0d20ffdd\" y=\"213.315619\"/>\n     <use style=\"fill:#ff7f0e;stroke:#ff7f0e;\" x=\"169.047727\" xlink:href=\"#mab0d20ffdd\" y=\"213.735197\"/>\n     <use style=\"fill:#ff7f0e;stroke:#ff7f0e;\" x=\"169.047727\" xlink:href=\"#mab0d20ffdd\" y=\"211.641168\"/>\n     <use style=\"fill:#ff7f0e;stroke:#ff7f0e;\" x=\"156.365909\" xlink:href=\"#mab0d20ffdd\" y=\"210.261452\"/>\n     <use style=\"fill:#ff7f0e;stroke:#ff7f0e;\" x=\"169.047727\" xlink:href=\"#mab0d20ffdd\" y=\"211.659187\"/>\n     <use style=\"fill:#ff7f0e;stroke:#ff7f0e;\" x=\"169.047727\" xlink:href=\"#mab0d20ffdd\" y=\"212.714567\"/>\n     <use style=\"fill:#ff7f0e;stroke:#ff7f0e;\" x=\"156.365909\" xlink:href=\"#mab0d20ffdd\" y=\"211.280795\"/>\n     <use style=\"fill:#ff7f0e;stroke:#ff7f0e;\" x=\"169.047727\" xlink:href=\"#mab0d20ffdd\" y=\"211.726114\"/>\n     <use style=\"fill:#ff7f0e;stroke:#ff7f0e;\" x=\"181.729545\" xlink:href=\"#mab0d20ffdd\" y=\"211.16496\"/>\n     <use style=\"fill:#ff7f0e;stroke:#ff7f0e;\" x=\"156.365909\" xlink:href=\"#mab0d20ffdd\" y=\"210.754392\"/>\n     <use style=\"fill:#ff7f0e;stroke:#ff7f0e;\" x=\"143.684091\" xlink:href=\"#mab0d20ffdd\" y=\"212.975838\"/>\n     <use style=\"fill:#ff7f0e;stroke:#ff7f0e;\" x=\"181.729545\" xlink:href=\"#mab0d20ffdd\" y=\"211.820068\"/>\n     <use style=\"fill:#ff7f0e;stroke:#ff7f0e;\" x=\"169.047727\" xlink:href=\"#mab0d20ffdd\" y=\"211.908875\"/>\n     <use style=\"fill:#ff7f0e;stroke:#ff7f0e;\" x=\"143.684091\" xlink:href=\"#mab0d20ffdd\" y=\"210.096709\"/>\n     <use style=\"fill:#ff7f0e;stroke:#ff7f0e;\" x=\"169.047727\" xlink:href=\"#mab0d20ffdd\" y=\"193.90177\"/>\n     <use style=\"fill:#ff7f0e;stroke:#ff7f0e;\" x=\"169.047727\" xlink:href=\"#mab0d20ffdd\" y=\"206.561185\"/>\n     <use style=\"fill:#ff7f0e;stroke:#ff7f0e;\" x=\"131.002273\" xlink:href=\"#mab0d20ffdd\" y=\"210.450648\"/>\n     <use style=\"fill:#ff7f0e;stroke:#ff7f0e;\" x=\"207.093182\" xlink:href=\"#mab0d20ffdd\" y=\"207.715669\"/>\n     <use style=\"fill:#ff7f0e;stroke:#ff7f0e;\" x=\"181.729545\" xlink:href=\"#mab0d20ffdd\" y=\"209.070931\"/>\n     <use style=\"fill:#ff7f0e;stroke:#ff7f0e;\" x=\"156.365909\" xlink:href=\"#mab0d20ffdd\" y=\"209.580603\"/>\n     <use style=\"fill:#ff7f0e;stroke:#ff7f0e;\" x=\"169.047727\" xlink:href=\"#mab0d20ffdd\" y=\"209.13271\"/>\n     <use style=\"fill:#ff7f0e;stroke:#ff7f0e;\" x=\"156.365909\" xlink:href=\"#mab0d20ffdd\" y=\"206.949874\"/>\n     <use style=\"fill:#ff7f0e;stroke:#ff7f0e;\" x=\"143.684091\" xlink:href=\"#mab0d20ffdd\" y=\"211.110904\"/>\n     <use style=\"fill:#ff7f0e;stroke:#ff7f0e;\" x=\"131.002273\" xlink:href=\"#mab0d20ffdd\" y=\"211.257628\"/>\n     <use style=\"fill:#ff7f0e;stroke:#ff7f0e;\" x=\"169.047727\" xlink:href=\"#mab0d20ffdd\" y=\"210.822605\"/>\n     <use style=\"fill:#ff7f0e;stroke:#ff7f0e;\" x=\"181.729545\" xlink:href=\"#mab0d20ffdd\" y=\"212.823967\"/>\n     <use style=\"fill:#ff7f0e;stroke:#ff7f0e;\" x=\"181.729545\" xlink:href=\"#mab0d20ffdd\" y=\"207.566371\"/>\n     <use style=\"fill:#ff7f0e;stroke:#ff7f0e;\" x=\"181.729545\" xlink:href=\"#mab0d20ffdd\" y=\"208.429981\"/>\n     <use style=\"fill:#ff7f0e;stroke:#ff7f0e;\" x=\"169.047727\" xlink:href=\"#mab0d20ffdd\" y=\"207.855957\"/>\n     <use style=\"fill:#ff7f0e;stroke:#ff7f0e;\" x=\"181.729545\" xlink:href=\"#mab0d20ffdd\" y=\"209.158451\"/>\n     <use style=\"fill:#ff7f0e;stroke:#ff7f0e;\" x=\"169.047727\" xlink:href=\"#mab0d20ffdd\" y=\"188.479432\"/>\n     <use style=\"fill:#ff7f0e;stroke:#ff7f0e;\" x=\"169.047727\" xlink:href=\"#mab0d20ffdd\" y=\"203.137635\"/>\n     <use style=\"fill:#ff7f0e;stroke:#ff7f0e;\" x=\"169.047727\" xlink:href=\"#mab0d20ffdd\" y=\"201.782372\"/>\n     <use style=\"fill:#ff7f0e;stroke:#ff7f0e;\" x=\"169.047727\" xlink:href=\"#mab0d20ffdd\" y=\"205.556\"/>\n     <use style=\"fill:#ff7f0e;stroke:#ff7f0e;\" x=\"371.956818\" xlink:href=\"#mab0d20ffdd\" y=\"208.485324\"/>\n     <use style=\"fill:#ff7f0e;stroke:#ff7f0e;\" x=\"181.729545\" xlink:href=\"#mab0d20ffdd\" y=\"205.971717\"/>\n     <use style=\"fill:#ff7f0e;stroke:#ff7f0e;\" x=\"181.729545\" xlink:href=\"#mab0d20ffdd\" y=\"205.574019\"/>\n     <use style=\"fill:#ff7f0e;stroke:#ff7f0e;\" x=\"207.093182\" xlink:href=\"#mab0d20ffdd\" y=\"204.952374\"/>\n     <use style=\"fill:#ff7f0e;stroke:#ff7f0e;\" x=\"181.729545\" xlink:href=\"#mab0d20ffdd\" y=\"201.869891\"/>\n     <use style=\"fill:#ff7f0e;stroke:#ff7f0e;\" x=\"181.729545\" xlink:href=\"#mab0d20ffdd\" y=\"204.573982\"/>\n     <use style=\"fill:#ff7f0e;stroke:#ff7f0e;\" x=\"194.411364\" xlink:href=\"#mab0d20ffdd\" y=\"202.727066\"/>\n     <use style=\"fill:#ff7f0e;stroke:#ff7f0e;\" x=\"207.093182\" xlink:href=\"#mab0d20ffdd\" y=\"198.001022\"/>\n     <use style=\"fill:#ff7f0e;stroke:#ff7f0e;\" x=\"181.729545\" xlink:href=\"#mab0d20ffdd\" y=\"206.680881\"/>\n     <use style=\"fill:#ff7f0e;stroke:#ff7f0e;\" x=\"169.047727\" xlink:href=\"#mab0d20ffdd\" y=\"189.81925\"/>\n     <use style=\"fill:#ff7f0e;stroke:#ff7f0e;\" x=\"169.047727\" xlink:href=\"#mab0d20ffdd\" y=\"207.015514\"/>\n     <use style=\"fill:#ff7f0e;stroke:#ff7f0e;\" x=\"194.411364\" xlink:href=\"#mab0d20ffdd\" y=\"187.95689\"/>\n     <use style=\"fill:#ff7f0e;stroke:#ff7f0e;\" x=\"207.093182\" xlink:href=\"#mab0d20ffdd\" y=\"180.888417\"/>\n     <use style=\"fill:#ff7f0e;stroke:#ff7f0e;\" x=\"194.411364\" xlink:href=\"#mab0d20ffdd\" y=\"201.697427\"/>\n     <use style=\"fill:#ff7f0e;stroke:#ff7f0e;\" x=\"181.729545\" xlink:href=\"#mab0d20ffdd\" y=\"191.165504\"/>\n     <use style=\"fill:#ff7f0e;stroke:#ff7f0e;\" x=\"194.411364\" xlink:href=\"#mab0d20ffdd\" y=\"208.547102\"/>\n     <use style=\"fill:#ff7f0e;stroke:#ff7f0e;\" x=\"181.729545\" xlink:href=\"#mab0d20ffdd\" y=\"191.111448\"/>\n     <use style=\"fill:#ff7f0e;stroke:#ff7f0e;\" x=\"181.729545\" xlink:href=\"#mab0d20ffdd\" y=\"198.083393\"/>\n     <use style=\"fill:#ff7f0e;stroke:#ff7f0e;\" x=\"194.411364\" xlink:href=\"#mab0d20ffdd\" y=\"196.462998\"/>\n     <use style=\"fill:#ff7f0e;stroke:#ff7f0e;\" x=\"181.729545\" xlink:href=\"#mab0d20ffdd\" y=\"173.550949\"/>\n     <use style=\"fill:#ff7f0e;stroke:#ff7f0e;\" x=\"181.729545\" xlink:href=\"#mab0d20ffdd\" y=\"187.43821\"/>\n     <use style=\"fill:#ff7f0e;stroke:#ff7f0e;\" x=\"181.729545\" xlink:href=\"#mab0d20ffdd\" y=\"191.328959\"/>\n     <use style=\"fill:#ff7f0e;stroke:#ff7f0e;\" x=\"207.093182\" xlink:href=\"#mab0d20ffdd\" y=\"177.186863\"/>\n     <use style=\"fill:#ff7f0e;stroke:#ff7f0e;\" x=\"194.411364\" xlink:href=\"#mab0d20ffdd\" y=\"68.639714\"/>\n     <use style=\"fill:#ff7f0e;stroke:#ff7f0e;\" x=\"181.729545\" xlink:href=\"#mab0d20ffdd\" y=\"192.599277\"/>\n     <use style=\"fill:#ff7f0e;stroke:#ff7f0e;\" x=\"181.729545\" xlink:href=\"#mab0d20ffdd\" y=\"208.334739\"/>\n     <use style=\"fill:#ff7f0e;stroke:#ff7f0e;\" x=\"194.411364\" xlink:href=\"#mab0d20ffdd\" y=\"185.691684\"/>\n     <use style=\"fill:#ff7f0e;stroke:#ff7f0e;\" x=\"181.729545\" xlink:href=\"#mab0d20ffdd\" y=\"192.144948\"/>\n     <use style=\"fill:#ff7f0e;stroke:#ff7f0e;\" x=\"207.093182\" xlink:href=\"#mab0d20ffdd\" y=\"157.84895\"/>\n     <use style=\"fill:#ff7f0e;stroke:#ff7f0e;\" x=\"181.729545\" xlink:href=\"#mab0d20ffdd\" y=\"183.197383\"/>\n     <use style=\"fill:#ff7f0e;stroke:#ff7f0e;\" x=\"181.729545\" xlink:href=\"#mab0d20ffdd\" y=\"191.695768\"/>\n    </g>\n   </g>\n   <g id=\"matplotlib.axis_1\">\n    <g id=\"xtick_1\">\n     <g id=\"line2d_1\">\n      <defs>\n       <path d=\"M 0 0 \nL 0 3.5 \n\" id=\"me7b410523b\" style=\"stroke:#000000;stroke-width:0.8;\"/>\n      </defs>\n      <g>\n       <use style=\"stroke:#000000;stroke-width:0.8;\" x=\"92.956818\" xlink:href=\"#me7b410523b\" y=\"226.014032\"/>\n      </g>\n     </g>\n     <g id=\"text_1\">\n      <!-- 0.5 -->\n      <defs>\n       <path d=\"M 31.78125 66.40625 \nQ 24.171875 66.40625 20.328125 58.90625 \nQ 16.5 51.421875 16.5 36.375 \nQ 16.5 21.390625 20.328125 13.890625 \nQ 24.171875 6.390625 31.78125 6.390625 \nQ 39.453125 6.390625 43.28125 13.890625 \nQ 47.125 21.390625 47.125 36.375 \nQ 47.125 51.421875 43.28125 58.90625 \nQ 39.453125 66.40625 31.78125 66.40625 \nz\nM 31.78125 74.21875 \nQ 44.046875 74.21875 50.515625 64.515625 \nQ 56.984375 54.828125 56.984375 36.375 \nQ 56.984375 17.96875 50.515625 8.265625 \nQ 44.046875 -1.421875 31.78125 -1.421875 \nQ 19.53125 -1.421875 13.0625 8.265625 \nQ 6.59375 17.96875 6.59375 36.375 \nQ 6.59375 54.828125 13.0625 64.515625 \nQ 19.53125 74.21875 31.78125 74.21875 \nz\n\" id=\"DejaVuSans-48\"/>\n       <path d=\"M 10.6875 12.40625 \nL 21 12.40625 \nL 21 0 \nL 10.6875 0 \nz\n\" id=\"DejaVuSans-46\"/>\n       <path d=\"M 10.796875 72.90625 \nL 49.515625 72.90625 \nL 49.515625 64.59375 \nL 19.828125 64.59375 \nL 19.828125 46.734375 \nQ 21.96875 47.46875 24.109375 47.828125 \nQ 26.265625 48.1875 28.421875 48.1875 \nQ 40.625 48.1875 47.75 41.5 \nQ 54.890625 34.8125 54.890625 23.390625 \nQ 54.890625 11.625 47.5625 5.09375 \nQ 40.234375 -1.421875 26.90625 -1.421875 \nQ 22.3125 -1.421875 17.546875 -0.640625 \nQ 12.796875 0.140625 7.71875 1.703125 \nL 7.71875 11.625 \nQ 12.109375 9.234375 16.796875 8.0625 \nQ 21.484375 6.890625 26.703125 6.890625 \nQ 35.15625 6.890625 40.078125 11.328125 \nQ 45.015625 15.765625 45.015625 23.390625 \nQ 45.015625 31 40.078125 35.4375 \nQ 35.15625 39.890625 26.703125 39.890625 \nQ 22.75 39.890625 18.8125 39.015625 \nQ 14.890625 38.140625 10.796875 36.28125 \nz\n\" id=\"DejaVuSans-53\"/>\n      </defs>\n      <g transform=\"translate(85.005256 240.61247)scale(0.1 -0.1)\">\n       <use xlink:href=\"#DejaVuSans-48\"/>\n       <use x=\"63.623047\" xlink:href=\"#DejaVuSans-46\"/>\n       <use x=\"95.410156\" xlink:href=\"#DejaVuSans-53\"/>\n      </g>\n     </g>\n    </g>\n    <g id=\"xtick_2\">\n     <g id=\"line2d_2\">\n      <g>\n       <use style=\"stroke:#000000;stroke-width:0.8;\" x=\"156.365909\" xlink:href=\"#me7b410523b\" y=\"226.014032\"/>\n      </g>\n     </g>\n     <g id=\"text_2\">\n      <!-- 1.0 -->\n      <defs>\n       <path d=\"M 12.40625 8.296875 \nL 28.515625 8.296875 \nL 28.515625 63.921875 \nL 10.984375 60.40625 \nL 10.984375 69.390625 \nL 28.421875 72.90625 \nL 38.28125 72.90625 \nL 38.28125 8.296875 \nL 54.390625 8.296875 \nL 54.390625 0 \nL 12.40625 0 \nz\n\" id=\"DejaVuSans-49\"/>\n      </defs>\n      <g transform=\"translate(148.414347 240.61247)scale(0.1 -0.1)\">\n       <use xlink:href=\"#DejaVuSans-49\"/>\n       <use x=\"63.623047\" xlink:href=\"#DejaVuSans-46\"/>\n       <use x=\"95.410156\" xlink:href=\"#DejaVuSans-48\"/>\n      </g>\n     </g>\n    </g>\n    <g id=\"xtick_3\">\n     <g id=\"line2d_3\">\n      <g>\n       <use style=\"stroke:#000000;stroke-width:0.8;\" x=\"219.775\" xlink:href=\"#me7b410523b\" y=\"226.014032\"/>\n      </g>\n     </g>\n     <g id=\"text_3\">\n      <!-- 1.5 -->\n      <g transform=\"translate(211.823438 240.61247)scale(0.1 -0.1)\">\n       <use xlink:href=\"#DejaVuSans-49\"/>\n       <use x=\"63.623047\" xlink:href=\"#DejaVuSans-46\"/>\n       <use x=\"95.410156\" xlink:href=\"#DejaVuSans-53\"/>\n      </g>\n     </g>\n    </g>\n    <g id=\"xtick_4\">\n     <g id=\"line2d_4\">\n      <g>\n       <use style=\"stroke:#000000;stroke-width:0.8;\" x=\"283.184091\" xlink:href=\"#me7b410523b\" y=\"226.014032\"/>\n      </g>\n     </g>\n     <g id=\"text_4\">\n      <!-- 2.0 -->\n      <defs>\n       <path d=\"M 19.1875 8.296875 \nL 53.609375 8.296875 \nL 53.609375 0 \nL 7.328125 0 \nL 7.328125 8.296875 \nQ 12.9375 14.109375 22.625 23.890625 \nQ 32.328125 33.6875 34.8125 36.53125 \nQ 39.546875 41.84375 41.421875 45.53125 \nQ 43.3125 49.21875 43.3125 52.78125 \nQ 43.3125 58.59375 39.234375 62.25 \nQ 35.15625 65.921875 28.609375 65.921875 \nQ 23.96875 65.921875 18.8125 64.3125 \nQ 13.671875 62.703125 7.8125 59.421875 \nL 7.8125 69.390625 \nQ 13.765625 71.78125 18.9375 73 \nQ 24.125 74.21875 28.421875 74.21875 \nQ 39.75 74.21875 46.484375 68.546875 \nQ 53.21875 62.890625 53.21875 53.421875 \nQ 53.21875 48.921875 51.53125 44.890625 \nQ 49.859375 40.875 45.40625 35.40625 \nQ 44.1875 33.984375 37.640625 27.21875 \nQ 31.109375 20.453125 19.1875 8.296875 \nz\n\" id=\"DejaVuSans-50\"/>\n      </defs>\n      <g transform=\"translate(275.232528 240.61247)scale(0.1 -0.1)\">\n       <use xlink:href=\"#DejaVuSans-50\"/>\n       <use x=\"63.623047\" xlink:href=\"#DejaVuSans-46\"/>\n       <use x=\"95.410156\" xlink:href=\"#DejaVuSans-48\"/>\n      </g>\n     </g>\n    </g>\n    <g id=\"xtick_5\">\n     <g id=\"line2d_5\">\n      <g>\n       <use style=\"stroke:#000000;stroke-width:0.8;\" x=\"346.593182\" xlink:href=\"#me7b410523b\" y=\"226.014032\"/>\n      </g>\n     </g>\n     <g id=\"text_5\">\n      <!-- 2.5 -->\n      <g transform=\"translate(338.641619 240.61247)scale(0.1 -0.1)\">\n       <use xlink:href=\"#DejaVuSans-50\"/>\n       <use x=\"63.623047\" xlink:href=\"#DejaVuSans-46\"/>\n       <use x=\"95.410156\" xlink:href=\"#DejaVuSans-53\"/>\n      </g>\n     </g>\n    </g>\n   </g>\n   <g id=\"matplotlib.axis_2\">\n    <g id=\"ytick_1\">\n     <g id=\"line2d_6\">\n      <defs>\n       <path d=\"M 0 0 \nL -3.5 0 \n\" id=\"mbeee7195a1\" style=\"stroke:#000000;stroke-width:0.8;\"/>\n      </defs>\n      <g>\n       <use style=\"stroke:#000000;stroke-width:0.8;\" x=\"52.375\" xlink:href=\"#mbeee7195a1\" y=\"216.927079\"/>\n      </g>\n     </g>\n     <g id=\"text_6\">\n      <!-- 0 -->\n      <g transform=\"translate(39.0125 220.726298)scale(0.1 -0.1)\">\n       <use xlink:href=\"#DejaVuSans-48\"/>\n      </g>\n     </g>\n    </g>\n    <g id=\"ytick_2\">\n     <g id=\"line2d_7\">\n      <g>\n       <use style=\"stroke:#000000;stroke-width:0.8;\" x=\"52.375\" xlink:href=\"#mbeee7195a1\" y=\"191.186097\"/>\n      </g>\n     </g>\n     <g id=\"text_7\">\n      <!-- 20000 -->\n      <g transform=\"translate(13.5625 194.985315)scale(0.1 -0.1)\">\n       <use xlink:href=\"#DejaVuSans-50\"/>\n       <use x=\"63.623047\" xlink:href=\"#DejaVuSans-48\"/>\n       <use x=\"127.246094\" xlink:href=\"#DejaVuSans-48\"/>\n       <use x=\"190.869141\" xlink:href=\"#DejaVuSans-48\"/>\n       <use x=\"254.492188\" xlink:href=\"#DejaVuSans-48\"/>\n      </g>\n     </g>\n    </g>\n    <g id=\"ytick_3\">\n     <g id=\"line2d_8\">\n      <g>\n       <use style=\"stroke:#000000;stroke-width:0.8;\" x=\"52.375\" xlink:href=\"#mbeee7195a1\" y=\"165.445114\"/>\n      </g>\n     </g>\n     <g id=\"text_8\">\n      <!-- 40000 -->\n      <defs>\n       <path d=\"M 37.796875 64.3125 \nL 12.890625 25.390625 \nL 37.796875 25.390625 \nz\nM 35.203125 72.90625 \nL 47.609375 72.90625 \nL 47.609375 25.390625 \nL 58.015625 25.390625 \nL 58.015625 17.1875 \nL 47.609375 17.1875 \nL 47.609375 0 \nL 37.796875 0 \nL 37.796875 17.1875 \nL 4.890625 17.1875 \nL 4.890625 26.703125 \nz\n\" id=\"DejaVuSans-52\"/>\n      </defs>\n      <g transform=\"translate(13.5625 169.244333)scale(0.1 -0.1)\">\n       <use xlink:href=\"#DejaVuSans-52\"/>\n       <use x=\"63.623047\" xlink:href=\"#DejaVuSans-48\"/>\n       <use x=\"127.246094\" xlink:href=\"#DejaVuSans-48\"/>\n       <use x=\"190.869141\" xlink:href=\"#DejaVuSans-48\"/>\n       <use x=\"254.492188\" xlink:href=\"#DejaVuSans-48\"/>\n      </g>\n     </g>\n    </g>\n    <g id=\"ytick_4\">\n     <g id=\"line2d_9\">\n      <g>\n       <use style=\"stroke:#000000;stroke-width:0.8;\" x=\"52.375\" xlink:href=\"#mbeee7195a1\" y=\"139.704131\"/>\n      </g>\n     </g>\n     <g id=\"text_9\">\n      <!-- 60000 -->\n      <defs>\n       <path d=\"M 33.015625 40.375 \nQ 26.375 40.375 22.484375 35.828125 \nQ 18.609375 31.296875 18.609375 23.390625 \nQ 18.609375 15.53125 22.484375 10.953125 \nQ 26.375 6.390625 33.015625 6.390625 \nQ 39.65625 6.390625 43.53125 10.953125 \nQ 47.40625 15.53125 47.40625 23.390625 \nQ 47.40625 31.296875 43.53125 35.828125 \nQ 39.65625 40.375 33.015625 40.375 \nz\nM 52.59375 71.296875 \nL 52.59375 62.3125 \nQ 48.875 64.0625 45.09375 64.984375 \nQ 41.3125 65.921875 37.59375 65.921875 \nQ 27.828125 65.921875 22.671875 59.328125 \nQ 17.53125 52.734375 16.796875 39.40625 \nQ 19.671875 43.65625 24.015625 45.921875 \nQ 28.375 48.1875 33.59375 48.1875 \nQ 44.578125 48.1875 50.953125 41.515625 \nQ 57.328125 34.859375 57.328125 23.390625 \nQ 57.328125 12.15625 50.6875 5.359375 \nQ 44.046875 -1.421875 33.015625 -1.421875 \nQ 20.359375 -1.421875 13.671875 8.265625 \nQ 6.984375 17.96875 6.984375 36.375 \nQ 6.984375 53.65625 15.1875 63.9375 \nQ 23.390625 74.21875 37.203125 74.21875 \nQ 40.921875 74.21875 44.703125 73.484375 \nQ 48.484375 72.75 52.59375 71.296875 \nz\n\" id=\"DejaVuSans-54\"/>\n      </defs>\n      <g transform=\"translate(13.5625 143.50335)scale(0.1 -0.1)\">\n       <use xlink:href=\"#DejaVuSans-54\"/>\n       <use x=\"63.623047\" xlink:href=\"#DejaVuSans-48\"/>\n       <use x=\"127.246094\" xlink:href=\"#DejaVuSans-48\"/>\n       <use x=\"190.869141\" xlink:href=\"#DejaVuSans-48\"/>\n       <use x=\"254.492188\" xlink:href=\"#DejaVuSans-48\"/>\n      </g>\n     </g>\n    </g>\n    <g id=\"ytick_5\">\n     <g id=\"line2d_10\">\n      <g>\n       <use style=\"stroke:#000000;stroke-width:0.8;\" x=\"52.375\" xlink:href=\"#mbeee7195a1\" y=\"113.963149\"/>\n      </g>\n     </g>\n     <g id=\"text_10\">\n      <!-- 80000 -->\n      <defs>\n       <path d=\"M 31.78125 34.625 \nQ 24.75 34.625 20.71875 30.859375 \nQ 16.703125 27.09375 16.703125 20.515625 \nQ 16.703125 13.921875 20.71875 10.15625 \nQ 24.75 6.390625 31.78125 6.390625 \nQ 38.8125 6.390625 42.859375 10.171875 \nQ 46.921875 13.96875 46.921875 20.515625 \nQ 46.921875 27.09375 42.890625 30.859375 \nQ 38.875 34.625 31.78125 34.625 \nz\nM 21.921875 38.8125 \nQ 15.578125 40.375 12.03125 44.71875 \nQ 8.5 49.078125 8.5 55.328125 \nQ 8.5 64.0625 14.71875 69.140625 \nQ 20.953125 74.21875 31.78125 74.21875 \nQ 42.671875 74.21875 48.875 69.140625 \nQ 55.078125 64.0625 55.078125 55.328125 \nQ 55.078125 49.078125 51.53125 44.71875 \nQ 48 40.375 41.703125 38.8125 \nQ 48.828125 37.15625 52.796875 32.3125 \nQ 56.78125 27.484375 56.78125 20.515625 \nQ 56.78125 9.90625 50.3125 4.234375 \nQ 43.84375 -1.421875 31.78125 -1.421875 \nQ 19.734375 -1.421875 13.25 4.234375 \nQ 6.78125 9.90625 6.78125 20.515625 \nQ 6.78125 27.484375 10.78125 32.3125 \nQ 14.796875 37.15625 21.921875 38.8125 \nz\nM 18.3125 54.390625 \nQ 18.3125 48.734375 21.84375 45.5625 \nQ 25.390625 42.390625 31.78125 42.390625 \nQ 38.140625 42.390625 41.71875 45.5625 \nQ 45.3125 48.734375 45.3125 54.390625 \nQ 45.3125 60.0625 41.71875 63.234375 \nQ 38.140625 66.40625 31.78125 66.40625 \nQ 25.390625 66.40625 21.84375 63.234375 \nQ 18.3125 60.0625 18.3125 54.390625 \nz\n\" id=\"DejaVuSans-56\"/>\n      </defs>\n      <g transform=\"translate(13.5625 117.762368)scale(0.1 -0.1)\">\n       <use xlink:href=\"#DejaVuSans-56\"/>\n       <use x=\"63.623047\" xlink:href=\"#DejaVuSans-48\"/>\n       <use x=\"127.246094\" xlink:href=\"#DejaVuSans-48\"/>\n       <use x=\"190.869141\" xlink:href=\"#DejaVuSans-48\"/>\n       <use x=\"254.492188\" xlink:href=\"#DejaVuSans-48\"/>\n      </g>\n     </g>\n    </g>\n    <g id=\"ytick_6\">\n     <g id=\"line2d_11\">\n      <g>\n       <use style=\"stroke:#000000;stroke-width:0.8;\" x=\"52.375\" xlink:href=\"#mbeee7195a1\" y=\"88.222166\"/>\n      </g>\n     </g>\n     <g id=\"text_11\">\n      <!-- 100000 -->\n      <g transform=\"translate(7.2 92.021385)scale(0.1 -0.1)\">\n       <use xlink:href=\"#DejaVuSans-49\"/>\n       <use x=\"63.623047\" xlink:href=\"#DejaVuSans-48\"/>\n       <use x=\"127.246094\" xlink:href=\"#DejaVuSans-48\"/>\n       <use x=\"190.869141\" xlink:href=\"#DejaVuSans-48\"/>\n       <use x=\"254.492188\" xlink:href=\"#DejaVuSans-48\"/>\n       <use x=\"318.115234\" xlink:href=\"#DejaVuSans-48\"/>\n      </g>\n     </g>\n    </g>\n    <g id=\"ytick_7\">\n     <g id=\"line2d_12\">\n      <g>\n       <use style=\"stroke:#000000;stroke-width:0.8;\" x=\"52.375\" xlink:href=\"#mbeee7195a1\" y=\"62.481184\"/>\n      </g>\n     </g>\n     <g id=\"text_12\">\n      <!-- 120000 -->\n      <g transform=\"translate(7.2 66.280403)scale(0.1 -0.1)\">\n       <use xlink:href=\"#DejaVuSans-49\"/>\n       <use x=\"63.623047\" xlink:href=\"#DejaVuSans-50\"/>\n       <use x=\"127.246094\" xlink:href=\"#DejaVuSans-48\"/>\n       <use x=\"190.869141\" xlink:href=\"#DejaVuSans-48\"/>\n       <use x=\"254.492188\" xlink:href=\"#DejaVuSans-48\"/>\n       <use x=\"318.115234\" xlink:href=\"#DejaVuSans-48\"/>\n      </g>\n     </g>\n    </g>\n    <g id=\"ytick_8\">\n     <g id=\"line2d_13\">\n      <g>\n       <use style=\"stroke:#000000;stroke-width:0.8;\" x=\"52.375\" xlink:href=\"#mbeee7195a1\" y=\"36.740201\"/>\n      </g>\n     </g>\n     <g id=\"text_13\">\n      <!-- 140000 -->\n      <g transform=\"translate(7.2 40.53942)scale(0.1 -0.1)\">\n       <use xlink:href=\"#DejaVuSans-49\"/>\n       <use x=\"63.623047\" xlink:href=\"#DejaVuSans-52\"/>\n       <use x=\"127.246094\" xlink:href=\"#DejaVuSans-48\"/>\n       <use x=\"190.869141\" xlink:href=\"#DejaVuSans-48\"/>\n       <use x=\"254.492188\" xlink:href=\"#DejaVuSans-48\"/>\n       <use x=\"318.115234\" xlink:href=\"#DejaVuSans-48\"/>\n      </g>\n     </g>\n    </g>\n    <g id=\"ytick_9\">\n     <g id=\"line2d_14\">\n      <g>\n       <use style=\"stroke:#000000;stroke-width:0.8;\" x=\"52.375\" xlink:href=\"#mbeee7195a1\" y=\"10.999219\"/>\n      </g>\n     </g>\n     <g id=\"text_14\">\n      <!-- 160000 -->\n      <g transform=\"translate(7.2 14.798437)scale(0.1 -0.1)\">\n       <use xlink:href=\"#DejaVuSans-49\"/>\n       <use x=\"63.623047\" xlink:href=\"#DejaVuSans-54\"/>\n       <use x=\"127.246094\" xlink:href=\"#DejaVuSans-48\"/>\n       <use x=\"190.869141\" xlink:href=\"#DejaVuSans-48\"/>\n       <use x=\"254.492188\" xlink:href=\"#DejaVuSans-48\"/>\n       <use x=\"318.115234\" xlink:href=\"#DejaVuSans-48\"/>\n      </g>\n     </g>\n    </g>\n   </g>\n   <g id=\"patch_3\">\n    <path d=\"M 52.375 226.014032 \nL 52.375 8.574032 \n\" style=\"fill:none;stroke:#000000;stroke-linecap:square;stroke-linejoin:miter;stroke-width:0.8;\"/>\n   </g>\n   <g id=\"patch_4\">\n    <path d=\"M 387.175 226.014032 \nL 387.175 8.574032 \n\" style=\"fill:none;stroke:#000000;stroke-linecap:square;stroke-linejoin:miter;stroke-width:0.8;\"/>\n   </g>\n   <g id=\"patch_5\">\n    <path d=\"M 52.375 226.014032 \nL 387.175 226.014032 \n\" style=\"fill:none;stroke:#000000;stroke-linecap:square;stroke-linejoin:miter;stroke-width:0.8;\"/>\n   </g>\n   <g id=\"patch_6\">\n    <path d=\"M 52.375 8.574032 \nL 387.175 8.574032 \n\" style=\"fill:none;stroke:#000000;stroke-linecap:square;stroke-linejoin:miter;stroke-width:0.8;\"/>\n   </g>\n   <g id=\"legend_1\">\n    <g id=\"patch_7\">\n     <path d=\"M 312.528125 45.930282 \nL 380.175 45.930282 \nQ 382.175 45.930282 382.175 43.930282 \nL 382.175 15.574032 \nQ 382.175 13.574032 380.175 13.574032 \nL 312.528125 13.574032 \nQ 310.528125 13.574032 310.528125 15.574032 \nL 310.528125 43.930282 \nQ 310.528125 45.930282 312.528125 45.930282 \nz\n\" style=\"fill:#ffffff;opacity:0.8;stroke:#cccccc;stroke-linejoin:miter;\"/>\n    </g>\n    <g id=\"PathCollection_3\">\n     <g>\n      <use style=\"fill:#1f77b4;stroke:#1f77b4;\" x=\"324.528125\" xlink:href=\"#m4892eff049\" y=\"22.54747\"/>\n     </g>\n    </g>\n    <g id=\"text_15\">\n     <!-- doggo -->\n     <defs>\n      <path d=\"M 45.40625 46.390625 \nL 45.40625 75.984375 \nL 54.390625 75.984375 \nL 54.390625 0 \nL 45.40625 0 \nL 45.40625 8.203125 \nQ 42.578125 3.328125 38.25 0.953125 \nQ 33.9375 -1.421875 27.875 -1.421875 \nQ 17.96875 -1.421875 11.734375 6.484375 \nQ 5.515625 14.40625 5.515625 27.296875 \nQ 5.515625 40.1875 11.734375 48.09375 \nQ 17.96875 56 27.875 56 \nQ 33.9375 56 38.25 53.625 \nQ 42.578125 51.265625 45.40625 46.390625 \nz\nM 14.796875 27.296875 \nQ 14.796875 17.390625 18.875 11.75 \nQ 22.953125 6.109375 30.078125 6.109375 \nQ 37.203125 6.109375 41.296875 11.75 \nQ 45.40625 17.390625 45.40625 27.296875 \nQ 45.40625 37.203125 41.296875 42.84375 \nQ 37.203125 48.484375 30.078125 48.484375 \nQ 22.953125 48.484375 18.875 42.84375 \nQ 14.796875 37.203125 14.796875 27.296875 \nz\n\" id=\"DejaVuSans-100\"/>\n      <path d=\"M 30.609375 48.390625 \nQ 23.390625 48.390625 19.1875 42.75 \nQ 14.984375 37.109375 14.984375 27.296875 \nQ 14.984375 17.484375 19.15625 11.84375 \nQ 23.34375 6.203125 30.609375 6.203125 \nQ 37.796875 6.203125 41.984375 11.859375 \nQ 46.1875 17.53125 46.1875 27.296875 \nQ 46.1875 37.015625 41.984375 42.703125 \nQ 37.796875 48.390625 30.609375 48.390625 \nz\nM 30.609375 56 \nQ 42.328125 56 49.015625 48.375 \nQ 55.71875 40.765625 55.71875 27.296875 \nQ 55.71875 13.875 49.015625 6.21875 \nQ 42.328125 -1.421875 30.609375 -1.421875 \nQ 18.84375 -1.421875 12.171875 6.21875 \nQ 5.515625 13.875 5.515625 27.296875 \nQ 5.515625 40.765625 12.171875 48.375 \nQ 18.84375 56 30.609375 56 \nz\n\" id=\"DejaVuSans-111\"/>\n      <path d=\"M 45.40625 27.984375 \nQ 45.40625 37.75 41.375 43.109375 \nQ 37.359375 48.484375 30.078125 48.484375 \nQ 22.859375 48.484375 18.828125 43.109375 \nQ 14.796875 37.75 14.796875 27.984375 \nQ 14.796875 18.265625 18.828125 12.890625 \nQ 22.859375 7.515625 30.078125 7.515625 \nQ 37.359375 7.515625 41.375 12.890625 \nQ 45.40625 18.265625 45.40625 27.984375 \nz\nM 54.390625 6.78125 \nQ 54.390625 -7.171875 48.1875 -13.984375 \nQ 42 -20.796875 29.203125 -20.796875 \nQ 24.46875 -20.796875 20.265625 -20.09375 \nQ 16.0625 -19.390625 12.109375 -17.921875 \nL 12.109375 -9.1875 \nQ 16.0625 -11.328125 19.921875 -12.34375 \nQ 23.78125 -13.375 27.78125 -13.375 \nQ 36.625 -13.375 41.015625 -8.765625 \nQ 45.40625 -4.15625 45.40625 5.171875 \nL 45.40625 9.625 \nQ 42.625 4.78125 38.28125 2.390625 \nQ 33.9375 0 27.875 0 \nQ 17.828125 0 11.671875 7.65625 \nQ 5.515625 15.328125 5.515625 27.984375 \nQ 5.515625 40.671875 11.671875 48.328125 \nQ 17.828125 56 27.875 56 \nQ 33.9375 56 38.28125 53.609375 \nQ 42.625 51.21875 45.40625 46.390625 \nL 45.40625 54.6875 \nL 54.390625 54.6875 \nz\n\" id=\"DejaVuSans-103\"/>\n     </defs>\n     <g transform=\"translate(342.528125 25.17247)scale(0.1 -0.1)\">\n      <use xlink:href=\"#DejaVuSans-100\"/>\n      <use x=\"63.476562\" xlink:href=\"#DejaVuSans-111\"/>\n      <use x=\"124.658203\" xlink:href=\"#DejaVuSans-103\"/>\n      <use x=\"188.134766\" xlink:href=\"#DejaVuSans-103\"/>\n      <use x=\"251.611328\" xlink:href=\"#DejaVuSans-111\"/>\n     </g>\n    </g>\n    <g id=\"PathCollection_4\">\n     <g>\n      <use style=\"fill:#ff7f0e;stroke:#ff7f0e;\" x=\"324.528125\" xlink:href=\"#mab0d20ffdd\" y=\"37.225595\"/>\n     </g>\n    </g>\n    <g id=\"text_16\">\n     <!-- pupper -->\n     <defs>\n      <path d=\"M 18.109375 8.203125 \nL 18.109375 -20.796875 \nL 9.078125 -20.796875 \nL 9.078125 54.6875 \nL 18.109375 54.6875 \nL 18.109375 46.390625 \nQ 20.953125 51.265625 25.265625 53.625 \nQ 29.59375 56 35.59375 56 \nQ 45.5625 56 51.78125 48.09375 \nQ 58.015625 40.1875 58.015625 27.296875 \nQ 58.015625 14.40625 51.78125 6.484375 \nQ 45.5625 -1.421875 35.59375 -1.421875 \nQ 29.59375 -1.421875 25.265625 0.953125 \nQ 20.953125 3.328125 18.109375 8.203125 \nz\nM 48.6875 27.296875 \nQ 48.6875 37.203125 44.609375 42.84375 \nQ 40.53125 48.484375 33.40625 48.484375 \nQ 26.265625 48.484375 22.1875 42.84375 \nQ 18.109375 37.203125 18.109375 27.296875 \nQ 18.109375 17.390625 22.1875 11.75 \nQ 26.265625 6.109375 33.40625 6.109375 \nQ 40.53125 6.109375 44.609375 11.75 \nQ 48.6875 17.390625 48.6875 27.296875 \nz\n\" id=\"DejaVuSans-112\"/>\n      <path d=\"M 8.5 21.578125 \nL 8.5 54.6875 \nL 17.484375 54.6875 \nL 17.484375 21.921875 \nQ 17.484375 14.15625 20.5 10.265625 \nQ 23.53125 6.390625 29.59375 6.390625 \nQ 36.859375 6.390625 41.078125 11.03125 \nQ 45.3125 15.671875 45.3125 23.6875 \nL 45.3125 54.6875 \nL 54.296875 54.6875 \nL 54.296875 0 \nL 45.3125 0 \nL 45.3125 8.40625 \nQ 42.046875 3.421875 37.71875 1 \nQ 33.40625 -1.421875 27.6875 -1.421875 \nQ 18.265625 -1.421875 13.375 4.4375 \nQ 8.5 10.296875 8.5 21.578125 \nz\nM 31.109375 56 \nz\n\" id=\"DejaVuSans-117\"/>\n      <path d=\"M 56.203125 29.59375 \nL 56.203125 25.203125 \nL 14.890625 25.203125 \nQ 15.484375 15.921875 20.484375 11.0625 \nQ 25.484375 6.203125 34.421875 6.203125 \nQ 39.59375 6.203125 44.453125 7.46875 \nQ 49.3125 8.734375 54.109375 11.28125 \nL 54.109375 2.78125 \nQ 49.265625 0.734375 44.1875 -0.34375 \nQ 39.109375 -1.421875 33.890625 -1.421875 \nQ 20.796875 -1.421875 13.15625 6.1875 \nQ 5.515625 13.8125 5.515625 26.8125 \nQ 5.515625 40.234375 12.765625 48.109375 \nQ 20.015625 56 32.328125 56 \nQ 43.359375 56 49.78125 48.890625 \nQ 56.203125 41.796875 56.203125 29.59375 \nz\nM 47.21875 32.234375 \nQ 47.125 39.59375 43.09375 43.984375 \nQ 39.0625 48.390625 32.421875 48.390625 \nQ 24.90625 48.390625 20.390625 44.140625 \nQ 15.875 39.890625 15.1875 32.171875 \nz\n\" id=\"DejaVuSans-101\"/>\n      <path d=\"M 41.109375 46.296875 \nQ 39.59375 47.171875 37.8125 47.578125 \nQ 36.03125 48 33.890625 48 \nQ 26.265625 48 22.1875 43.046875 \nQ 18.109375 38.09375 18.109375 28.8125 \nL 18.109375 0 \nL 9.078125 0 \nL 9.078125 54.6875 \nL 18.109375 54.6875 \nL 18.109375 46.1875 \nQ 20.953125 51.171875 25.484375 53.578125 \nQ 30.03125 56 36.53125 56 \nQ 37.453125 56 38.578125 55.875 \nQ 39.703125 55.765625 41.0625 55.515625 \nz\n\" id=\"DejaVuSans-114\"/>\n     </defs>\n     <g transform=\"translate(342.528125 39.850595)scale(0.1 -0.1)\">\n      <use xlink:href=\"#DejaVuSans-112\"/>\n      <use x=\"63.476562\" xlink:href=\"#DejaVuSans-117\"/>\n      <use x=\"126.855469\" xlink:href=\"#DejaVuSans-112\"/>\n      <use x=\"190.332031\" xlink:href=\"#DejaVuSans-112\"/>\n      <use x=\"253.808594\" xlink:href=\"#DejaVuSans-101\"/>\n      <use x=\"315.332031\" xlink:href=\"#DejaVuSans-114\"/>\n     </g>\n    </g>\n   </g>\n  </g>\n </g>\n <defs>\n  <clipPath id=\"pc3c4e1da26\">\n   <rect height=\"217.44\" width=\"334.8\" x=\"52.375\" y=\"8.574032\"/>\n  </clipPath>\n </defs>\n</svg>\n",
      "image/png": "[encoded data removed]"
     },
     "metadata": {
      "needs_background": "light"
     }
    }
   ],
   "source": [
    "stages = ['doggo', 'pupper']\n",
    "\n",
    "for n, stage in enumerate(stages):\n",
    "    df_stage = df[df.dog_stage==stage]\n",
    "    plt.scatter(df_stage['rating_fraction'], df_stage['favorite_count'], label=stage);\n",
    "plt.legend()"
   ]
  },
  {
   "cell_type": "code",
   "execution_count": 303,
   "metadata": {},
   "outputs": [
    {
     "output_type": "execute_result",
     "data": {
      "text/plain": "<matplotlib.legend.Legend at 0x7f3b97da7d68>"
     },
     "metadata": {},
     "execution_count": 303
    },
    {
     "output_type": "display_data",
     "data": {
      "text/plain": "<Figure size 432x288 with 1 Axes>",
      "image/svg+xml": "<?xml version=\"1.0\" encoding=\"utf-8\" standalone=\"no\"?>\n<!DOCTYPE svg PUBLIC \"-//W3C//DTD SVG 1.1//EN\"\n  \"http://www.w3.org/Graphics/SVG/1.1/DTD/svg11.dtd\">\n<!-- Created with matplotlib (https://matplotlib.org/) -->\n<svg height=\"248.518125pt\" version=\"1.1\" viewBox=\"0 0 394.375 248.518125\" width=\"394.375pt\" xmlns=\"http://www.w3.org/2000/svg\" xmlns:xlink=\"http://www.w3.org/1999/xlink\">\n <defs>\n  <style type=\"text/css\">\n*{stroke-linecap:butt;stroke-linejoin:round;}\n  </style>\n </defs>\n <g id=\"figure_1\">\n  <g id=\"patch_1\">\n   <path d=\"M 0 248.518125 \nL 394.375 248.518125 \nL 394.375 0 \nL 0 0 \nz\n\" style=\"fill:none;\"/>\n  </g>\n  <g id=\"axes_1\">\n   <g id=\"patch_2\">\n    <path d=\"M 52.375 224.64 \nL 387.175 224.64 \nL 387.175 7.2 \nL 52.375 7.2 \nz\n\" style=\"fill:#ffffff;\"/>\n   </g>\n   <g id=\"PathCollection_1\">\n    <defs>\n     <path d=\"M 0 3 \nC 0.795609 3 1.55874 2.683901 2.12132 2.12132 \nC 2.683901 1.55874 3 0.795609 3 0 \nC 3 -0.795609 2.683901 -1.55874 2.12132 -2.12132 \nC 1.55874 -2.683901 0.795609 -3 0 -3 \nC -0.795609 -3 -1.55874 -2.683901 -2.12132 -2.12132 \nC -2.683901 -1.55874 -3 -0.795609 -3 0 \nC -3 0.795609 -2.683901 1.55874 -2.12132 2.12132 \nC -1.55874 2.683901 -0.795609 3 0 3 \nz\n\" id=\"m1f07a96829\" style=\"stroke:#1f77b4;\"/>\n    </defs>\n    <g clip-path=\"url(#pd929b0cb4b)\">\n     <use style=\"fill:#1f77b4;stroke:#1f77b4;\" x=\"189.338636\" xlink:href=\"#m1f07a96829\" y=\"214.756364\"/>\n     <use style=\"fill:#1f77b4;stroke:#1f77b4;\" x=\"128.465909\" xlink:href=\"#m1f07a96829\" y=\"212.376291\"/>\n     <use style=\"fill:#1f77b4;stroke:#1f77b4;\" x=\"311.084091\" xlink:href=\"#m1f07a96829\" y=\"202.494181\"/>\n     <use style=\"fill:#1f77b4;stroke:#1f77b4;\" x=\"250.211364\" xlink:href=\"#m1f07a96829\" y=\"209.551959\"/>\n     <use style=\"fill:#1f77b4;stroke:#1f77b4;\" x=\"311.084091\" xlink:href=\"#m1f07a96829\" y=\"172.226499\"/>\n     <use style=\"fill:#1f77b4;stroke:#1f77b4;\" x=\"250.211364\" xlink:href=\"#m1f07a96829\" y=\"200.706455\"/>\n     <use style=\"fill:#1f77b4;stroke:#1f77b4;\" x=\"311.084091\" xlink:href=\"#m1f07a96829\" y=\"185.737494\"/>\n    </g>\n   </g>\n   <g id=\"PathCollection_2\">\n    <defs>\n     <path d=\"M 0 3 \nC 0.795609 3 1.55874 2.683901 2.12132 2.12132 \nC 2.683901 1.55874 3 0.795609 3 0 \nC 3 -0.795609 2.683901 -1.55874 2.12132 -2.12132 \nC 1.55874 -2.683901 0.795609 -3 0 -3 \nC -0.795609 -3 -1.55874 -2.683901 -2.12132 -2.12132 \nC -2.683901 -1.55874 -3 -0.795609 -3 0 \nC -3 0.795609 -2.683901 1.55874 -2.12132 2.12132 \nC -1.55874 2.683901 -0.795609 3 0 3 \nz\n\" id=\"mb3159b964c\" style=\"stroke:#ff7f0e;\"/>\n    </defs>\n    <g clip-path=\"url(#pd929b0cb4b)\">\n     <use style=\"fill:#ff7f0e;stroke:#ff7f0e;\" x=\"189.338636\" xlink:href=\"#mb3159b964c\" y=\"210.228272\"/>\n     <use style=\"fill:#ff7f0e;stroke:#ff7f0e;\" x=\"128.465909\" xlink:href=\"#mb3159b964c\" y=\"211.515251\"/>\n     <use style=\"fill:#ff7f0e;stroke:#ff7f0e;\" x=\"67.593182\" xlink:href=\"#mb3159b964c\" y=\"213.386944\"/>\n     <use style=\"fill:#ff7f0e;stroke:#ff7f0e;\" x=\"128.465909\" xlink:href=\"#mb3159b964c\" y=\"210.205372\"/>\n     <use style=\"fill:#ff7f0e;stroke:#ff7f0e;\" x=\"189.338636\" xlink:href=\"#mb3159b964c\" y=\"206.706253\"/>\n     <use style=\"fill:#ff7f0e;stroke:#ff7f0e;\" x=\"128.465909\" xlink:href=\"#mb3159b964c\" y=\"208.155059\"/>\n     <use style=\"fill:#ff7f0e;stroke:#ff7f0e;\" x=\"311.084091\" xlink:href=\"#mb3159b964c\" y=\"184.734475\"/>\n     <use style=\"fill:#ff7f0e;stroke:#ff7f0e;\" x=\"311.084091\" xlink:href=\"#mb3159b964c\" y=\"202.086562\"/>\n     <use style=\"fill:#ff7f0e;stroke:#ff7f0e;\" x=\"250.211364\" xlink:href=\"#mb3159b964c\" y=\"192.254832\"/>\n     <use style=\"fill:#ff7f0e;stroke:#ff7f0e;\" x=\"250.211364\" xlink:href=\"#mb3159b964c\" y=\"194.372318\"/>\n     <use style=\"fill:#ff7f0e;stroke:#ff7f0e;\" x=\"250.211364\" xlink:href=\"#mb3159b964c\" y=\"203.880394\"/>\n     <use style=\"fill:#ff7f0e;stroke:#ff7f0e;\" x=\"250.211364\" xlink:href=\"#mb3159b964c\" y=\"202.378155\"/>\n     <use style=\"fill:#ff7f0e;stroke:#ff7f0e;\" x=\"311.084091\" xlink:href=\"#mb3159b964c\" y=\"209.718365\"/>\n     <use style=\"fill:#ff7f0e;stroke:#ff7f0e;\" x=\"311.084091\" xlink:href=\"#mb3159b964c\" y=\"17.083636\"/>\n     <use style=\"fill:#ff7f0e;stroke:#ff7f0e;\" x=\"250.211364\" xlink:href=\"#mb3159b964c\" y=\"208.263453\"/>\n     <use style=\"fill:#ff7f0e;stroke:#ff7f0e;\" x=\"371.956818\" xlink:href=\"#mb3159b964c\" y=\"131.159181\"/>\n     <use style=\"fill:#ff7f0e;stroke:#ff7f0e;\" x=\"311.084091\" xlink:href=\"#mb3159b964c\" y=\"190.778546\"/>\n     <use style=\"fill:#ff7f0e;stroke:#ff7f0e;\" x=\"250.211364\" xlink:href=\"#mb3159b964c\" y=\"194.753984\"/>\n     <use style=\"fill:#ff7f0e;stroke:#ff7f0e;\" x=\"311.084091\" xlink:href=\"#mb3159b964c\" y=\"169.16248\"/>\n     <use style=\"fill:#ff7f0e;stroke:#ff7f0e;\" x=\"311.084091\" xlink:href=\"#mb3159b964c\" y=\"190.390773\"/>\n     <use style=\"fill:#ff7f0e;stroke:#ff7f0e;\" x=\"311.084091\" xlink:href=\"#mb3159b964c\" y=\"196.40889\"/>\n     <use style=\"fill:#ff7f0e;stroke:#ff7f0e;\" x=\"311.084091\" xlink:href=\"#mb3159b964c\" y=\"149.845574\"/>\n    </g>\n   </g>\n   <g id=\"matplotlib.axis_1\">\n    <g id=\"xtick_1\">\n     <g id=\"line2d_1\">\n      <defs>\n       <path d=\"M 0 0 \nL 0 3.5 \n\" id=\"mb6f8ee15e5\" style=\"stroke:#000000;stroke-width:0.8;\"/>\n      </defs>\n      <g>\n       <use style=\"stroke:#000000;stroke-width:0.8;\" x=\"67.593182\" xlink:href=\"#mb6f8ee15e5\" y=\"224.64\"/>\n      </g>\n     </g>\n     <g id=\"text_1\">\n      <!-- 0.9 -->\n      <defs>\n       <path d=\"M 31.78125 66.40625 \nQ 24.171875 66.40625 20.328125 58.90625 \nQ 16.5 51.421875 16.5 36.375 \nQ 16.5 21.390625 20.328125 13.890625 \nQ 24.171875 6.390625 31.78125 6.390625 \nQ 39.453125 6.390625 43.28125 13.890625 \nQ 47.125 21.390625 47.125 36.375 \nQ 47.125 51.421875 43.28125 58.90625 \nQ 39.453125 66.40625 31.78125 66.40625 \nz\nM 31.78125 74.21875 \nQ 44.046875 74.21875 50.515625 64.515625 \nQ 56.984375 54.828125 56.984375 36.375 \nQ 56.984375 17.96875 50.515625 8.265625 \nQ 44.046875 -1.421875 31.78125 -1.421875 \nQ 19.53125 -1.421875 13.0625 8.265625 \nQ 6.59375 17.96875 6.59375 36.375 \nQ 6.59375 54.828125 13.0625 64.515625 \nQ 19.53125 74.21875 31.78125 74.21875 \nz\n\" id=\"DejaVuSans-48\"/>\n       <path d=\"M 10.6875 12.40625 \nL 21 12.40625 \nL 21 0 \nL 10.6875 0 \nz\n\" id=\"DejaVuSans-46\"/>\n       <path d=\"M 10.984375 1.515625 \nL 10.984375 10.5 \nQ 14.703125 8.734375 18.5 7.8125 \nQ 22.3125 6.890625 25.984375 6.890625 \nQ 35.75 6.890625 40.890625 13.453125 \nQ 46.046875 20.015625 46.78125 33.40625 \nQ 43.953125 29.203125 39.59375 26.953125 \nQ 35.25 24.703125 29.984375 24.703125 \nQ 19.046875 24.703125 12.671875 31.3125 \nQ 6.296875 37.9375 6.296875 49.421875 \nQ 6.296875 60.640625 12.9375 67.421875 \nQ 19.578125 74.21875 30.609375 74.21875 \nQ 43.265625 74.21875 49.921875 64.515625 \nQ 56.59375 54.828125 56.59375 36.375 \nQ 56.59375 19.140625 48.40625 8.859375 \nQ 40.234375 -1.421875 26.421875 -1.421875 \nQ 22.703125 -1.421875 18.890625 -0.6875 \nQ 15.09375 0.046875 10.984375 1.515625 \nz\nM 30.609375 32.421875 \nQ 37.25 32.421875 41.125 36.953125 \nQ 45.015625 41.5 45.015625 49.421875 \nQ 45.015625 57.28125 41.125 61.84375 \nQ 37.25 66.40625 30.609375 66.40625 \nQ 23.96875 66.40625 20.09375 61.84375 \nQ 16.21875 57.28125 16.21875 49.421875 \nQ 16.21875 41.5 20.09375 36.953125 \nQ 23.96875 32.421875 30.609375 32.421875 \nz\n\" id=\"DejaVuSans-57\"/>\n      </defs>\n      <g transform=\"translate(59.641619 239.238437)scale(0.1 -0.1)\">\n       <use xlink:href=\"#DejaVuSans-48\"/>\n       <use x=\"63.623047\" xlink:href=\"#DejaVuSans-46\"/>\n       <use x=\"95.410156\" xlink:href=\"#DejaVuSans-57\"/>\n      </g>\n     </g>\n    </g>\n    <g id=\"xtick_2\">\n     <g id=\"line2d_2\">\n      <g>\n       <use style=\"stroke:#000000;stroke-width:0.8;\" x=\"128.465909\" xlink:href=\"#mb6f8ee15e5\" y=\"224.64\"/>\n      </g>\n     </g>\n     <g id=\"text_2\">\n      <!-- 1.0 -->\n      <defs>\n       <path d=\"M 12.40625 8.296875 \nL 28.515625 8.296875 \nL 28.515625 63.921875 \nL 10.984375 60.40625 \nL 10.984375 69.390625 \nL 28.421875 72.90625 \nL 38.28125 72.90625 \nL 38.28125 8.296875 \nL 54.390625 8.296875 \nL 54.390625 0 \nL 12.40625 0 \nz\n\" id=\"DejaVuSans-49\"/>\n      </defs>\n      <g transform=\"translate(120.514347 239.238437)scale(0.1 -0.1)\">\n       <use xlink:href=\"#DejaVuSans-49\"/>\n       <use x=\"63.623047\" xlink:href=\"#DejaVuSans-46\"/>\n       <use x=\"95.410156\" xlink:href=\"#DejaVuSans-48\"/>\n      </g>\n     </g>\n    </g>\n    <g id=\"xtick_3\">\n     <g id=\"line2d_3\">\n      <g>\n       <use style=\"stroke:#000000;stroke-width:0.8;\" x=\"189.338636\" xlink:href=\"#mb6f8ee15e5\" y=\"224.64\"/>\n      </g>\n     </g>\n     <g id=\"text_3\">\n      <!-- 1.1 -->\n      <g transform=\"translate(181.387074 239.238437)scale(0.1 -0.1)\">\n       <use xlink:href=\"#DejaVuSans-49\"/>\n       <use x=\"63.623047\" xlink:href=\"#DejaVuSans-46\"/>\n       <use x=\"95.410156\" xlink:href=\"#DejaVuSans-49\"/>\n      </g>\n     </g>\n    </g>\n    <g id=\"xtick_4\">\n     <g id=\"line2d_4\">\n      <g>\n       <use style=\"stroke:#000000;stroke-width:0.8;\" x=\"250.211364\" xlink:href=\"#mb6f8ee15e5\" y=\"224.64\"/>\n      </g>\n     </g>\n     <g id=\"text_4\">\n      <!-- 1.2 -->\n      <defs>\n       <path d=\"M 19.1875 8.296875 \nL 53.609375 8.296875 \nL 53.609375 0 \nL 7.328125 0 \nL 7.328125 8.296875 \nQ 12.9375 14.109375 22.625 23.890625 \nQ 32.328125 33.6875 34.8125 36.53125 \nQ 39.546875 41.84375 41.421875 45.53125 \nQ 43.3125 49.21875 43.3125 52.78125 \nQ 43.3125 58.59375 39.234375 62.25 \nQ 35.15625 65.921875 28.609375 65.921875 \nQ 23.96875 65.921875 18.8125 64.3125 \nQ 13.671875 62.703125 7.8125 59.421875 \nL 7.8125 69.390625 \nQ 13.765625 71.78125 18.9375 73 \nQ 24.125 74.21875 28.421875 74.21875 \nQ 39.75 74.21875 46.484375 68.546875 \nQ 53.21875 62.890625 53.21875 53.421875 \nQ 53.21875 48.921875 51.53125 44.890625 \nQ 49.859375 40.875 45.40625 35.40625 \nQ 44.1875 33.984375 37.640625 27.21875 \nQ 31.109375 20.453125 19.1875 8.296875 \nz\n\" id=\"DejaVuSans-50\"/>\n      </defs>\n      <g transform=\"translate(242.259801 239.238437)scale(0.1 -0.1)\">\n       <use xlink:href=\"#DejaVuSans-49\"/>\n       <use x=\"63.623047\" xlink:href=\"#DejaVuSans-46\"/>\n       <use x=\"95.410156\" xlink:href=\"#DejaVuSans-50\"/>\n      </g>\n     </g>\n    </g>\n    <g id=\"xtick_5\">\n     <g id=\"line2d_5\">\n      <g>\n       <use style=\"stroke:#000000;stroke-width:0.8;\" x=\"311.084091\" xlink:href=\"#mb6f8ee15e5\" y=\"224.64\"/>\n      </g>\n     </g>\n     <g id=\"text_5\">\n      <!-- 1.3 -->\n      <defs>\n       <path d=\"M 40.578125 39.3125 \nQ 47.65625 37.796875 51.625 33 \nQ 55.609375 28.21875 55.609375 21.1875 \nQ 55.609375 10.40625 48.1875 4.484375 \nQ 40.765625 -1.421875 27.09375 -1.421875 \nQ 22.515625 -1.421875 17.65625 -0.515625 \nQ 12.796875 0.390625 7.625 2.203125 \nL 7.625 11.71875 \nQ 11.71875 9.328125 16.59375 8.109375 \nQ 21.484375 6.890625 26.8125 6.890625 \nQ 36.078125 6.890625 40.9375 10.546875 \nQ 45.796875 14.203125 45.796875 21.1875 \nQ 45.796875 27.640625 41.28125 31.265625 \nQ 36.765625 34.90625 28.71875 34.90625 \nL 20.21875 34.90625 \nL 20.21875 43.015625 \nL 29.109375 43.015625 \nQ 36.375 43.015625 40.234375 45.921875 \nQ 44.09375 48.828125 44.09375 54.296875 \nQ 44.09375 59.90625 40.109375 62.90625 \nQ 36.140625 65.921875 28.71875 65.921875 \nQ 24.65625 65.921875 20.015625 65.03125 \nQ 15.375 64.15625 9.8125 62.3125 \nL 9.8125 71.09375 \nQ 15.4375 72.65625 20.34375 73.4375 \nQ 25.25 74.21875 29.59375 74.21875 \nQ 40.828125 74.21875 47.359375 69.109375 \nQ 53.90625 64.015625 53.90625 55.328125 \nQ 53.90625 49.265625 50.4375 45.09375 \nQ 46.96875 40.921875 40.578125 39.3125 \nz\n\" id=\"DejaVuSans-51\"/>\n      </defs>\n      <g transform=\"translate(303.132528 239.238437)scale(0.1 -0.1)\">\n       <use xlink:href=\"#DejaVuSans-49\"/>\n       <use x=\"63.623047\" xlink:href=\"#DejaVuSans-46\"/>\n       <use x=\"95.410156\" xlink:href=\"#DejaVuSans-51\"/>\n      </g>\n     </g>\n    </g>\n    <g id=\"xtick_6\">\n     <g id=\"line2d_6\">\n      <g>\n       <use style=\"stroke:#000000;stroke-width:0.8;\" x=\"371.956818\" xlink:href=\"#mb6f8ee15e5\" y=\"224.64\"/>\n      </g>\n     </g>\n     <g id=\"text_6\">\n      <!-- 1.4 -->\n      <defs>\n       <path d=\"M 37.796875 64.3125 \nL 12.890625 25.390625 \nL 37.796875 25.390625 \nz\nM 35.203125 72.90625 \nL 47.609375 72.90625 \nL 47.609375 25.390625 \nL 58.015625 25.390625 \nL 58.015625 17.1875 \nL 47.609375 17.1875 \nL 47.609375 0 \nL 37.796875 0 \nL 37.796875 17.1875 \nL 4.890625 17.1875 \nL 4.890625 26.703125 \nz\n\" id=\"DejaVuSans-52\"/>\n      </defs>\n      <g transform=\"translate(364.005256 239.238437)scale(0.1 -0.1)\">\n       <use xlink:href=\"#DejaVuSans-49\"/>\n       <use x=\"63.623047\" xlink:href=\"#DejaVuSans-46\"/>\n       <use x=\"95.410156\" xlink:href=\"#DejaVuSans-52\"/>\n      </g>\n     </g>\n    </g>\n   </g>\n   <g id=\"matplotlib.axis_2\">\n    <g id=\"ytick_1\">\n     <g id=\"line2d_7\">\n      <defs>\n       <path d=\"M 0 0 \nL -3.5 0 \n\" id=\"m40a0e0adb8\" style=\"stroke:#000000;stroke-width:0.8;\"/>\n      </defs>\n      <g>\n       <use style=\"stroke:#000000;stroke-width:0.8;\" x=\"52.375\" xlink:href=\"#m40a0e0adb8\" y=\"217.869236\"/>\n      </g>\n     </g>\n     <g id=\"text_7\">\n      <!-- 0 -->\n      <g transform=\"translate(39.0125 221.668455)scale(0.1 -0.1)\">\n       <use xlink:href=\"#DejaVuSans-48\"/>\n      </g>\n     </g>\n    </g>\n    <g id=\"ytick_2\">\n     <g id=\"line2d_8\">\n      <g>\n       <use style=\"stroke:#000000;stroke-width:0.8;\" x=\"52.375\" xlink:href=\"#m40a0e0adb8\" y=\"187.335914\"/>\n      </g>\n     </g>\n     <g id=\"text_8\">\n      <!-- 20000 -->\n      <g transform=\"translate(13.5625 191.135132)scale(0.1 -0.1)\">\n       <use xlink:href=\"#DejaVuSans-50\"/>\n       <use x=\"63.623047\" xlink:href=\"#DejaVuSans-48\"/>\n       <use x=\"127.246094\" xlink:href=\"#DejaVuSans-48\"/>\n       <use x=\"190.869141\" xlink:href=\"#DejaVuSans-48\"/>\n       <use x=\"254.492188\" xlink:href=\"#DejaVuSans-48\"/>\n      </g>\n     </g>\n    </g>\n    <g id=\"ytick_3\">\n     <g id=\"line2d_9\">\n      <g>\n       <use style=\"stroke:#000000;stroke-width:0.8;\" x=\"52.375\" xlink:href=\"#m40a0e0adb8\" y=\"156.802592\"/>\n      </g>\n     </g>\n     <g id=\"text_9\">\n      <!-- 40000 -->\n      <g transform=\"translate(13.5625 160.60181)scale(0.1 -0.1)\">\n       <use xlink:href=\"#DejaVuSans-52\"/>\n       <use x=\"63.623047\" xlink:href=\"#DejaVuSans-48\"/>\n       <use x=\"127.246094\" xlink:href=\"#DejaVuSans-48\"/>\n       <use x=\"190.869141\" xlink:href=\"#DejaVuSans-48\"/>\n       <use x=\"254.492188\" xlink:href=\"#DejaVuSans-48\"/>\n      </g>\n     </g>\n    </g>\n    <g id=\"ytick_4\">\n     <g id=\"line2d_10\">\n      <g>\n       <use style=\"stroke:#000000;stroke-width:0.8;\" x=\"52.375\" xlink:href=\"#m40a0e0adb8\" y=\"126.26927\"/>\n      </g>\n     </g>\n     <g id=\"text_10\">\n      <!-- 60000 -->\n      <defs>\n       <path d=\"M 33.015625 40.375 \nQ 26.375 40.375 22.484375 35.828125 \nQ 18.609375 31.296875 18.609375 23.390625 \nQ 18.609375 15.53125 22.484375 10.953125 \nQ 26.375 6.390625 33.015625 6.390625 \nQ 39.65625 6.390625 43.53125 10.953125 \nQ 47.40625 15.53125 47.40625 23.390625 \nQ 47.40625 31.296875 43.53125 35.828125 \nQ 39.65625 40.375 33.015625 40.375 \nz\nM 52.59375 71.296875 \nL 52.59375 62.3125 \nQ 48.875 64.0625 45.09375 64.984375 \nQ 41.3125 65.921875 37.59375 65.921875 \nQ 27.828125 65.921875 22.671875 59.328125 \nQ 17.53125 52.734375 16.796875 39.40625 \nQ 19.671875 43.65625 24.015625 45.921875 \nQ 28.375 48.1875 33.59375 48.1875 \nQ 44.578125 48.1875 50.953125 41.515625 \nQ 57.328125 34.859375 57.328125 23.390625 \nQ 57.328125 12.15625 50.6875 5.359375 \nQ 44.046875 -1.421875 33.015625 -1.421875 \nQ 20.359375 -1.421875 13.671875 8.265625 \nQ 6.984375 17.96875 6.984375 36.375 \nQ 6.984375 53.65625 15.1875 63.9375 \nQ 23.390625 74.21875 37.203125 74.21875 \nQ 40.921875 74.21875 44.703125 73.484375 \nQ 48.484375 72.75 52.59375 71.296875 \nz\n\" id=\"DejaVuSans-54\"/>\n      </defs>\n      <g transform=\"translate(13.5625 130.068488)scale(0.1 -0.1)\">\n       <use xlink:href=\"#DejaVuSans-54\"/>\n       <use x=\"63.623047\" xlink:href=\"#DejaVuSans-48\"/>\n       <use x=\"127.246094\" xlink:href=\"#DejaVuSans-48\"/>\n       <use x=\"190.869141\" xlink:href=\"#DejaVuSans-48\"/>\n       <use x=\"254.492188\" xlink:href=\"#DejaVuSans-48\"/>\n      </g>\n     </g>\n    </g>\n    <g id=\"ytick_5\">\n     <g id=\"line2d_11\">\n      <g>\n       <use style=\"stroke:#000000;stroke-width:0.8;\" x=\"52.375\" xlink:href=\"#m40a0e0adb8\" y=\"95.735947\"/>\n      </g>\n     </g>\n     <g id=\"text_11\">\n      <!-- 80000 -->\n      <defs>\n       <path d=\"M 31.78125 34.625 \nQ 24.75 34.625 20.71875 30.859375 \nQ 16.703125 27.09375 16.703125 20.515625 \nQ 16.703125 13.921875 20.71875 10.15625 \nQ 24.75 6.390625 31.78125 6.390625 \nQ 38.8125 6.390625 42.859375 10.171875 \nQ 46.921875 13.96875 46.921875 20.515625 \nQ 46.921875 27.09375 42.890625 30.859375 \nQ 38.875 34.625 31.78125 34.625 \nz\nM 21.921875 38.8125 \nQ 15.578125 40.375 12.03125 44.71875 \nQ 8.5 49.078125 8.5 55.328125 \nQ 8.5 64.0625 14.71875 69.140625 \nQ 20.953125 74.21875 31.78125 74.21875 \nQ 42.671875 74.21875 48.875 69.140625 \nQ 55.078125 64.0625 55.078125 55.328125 \nQ 55.078125 49.078125 51.53125 44.71875 \nQ 48 40.375 41.703125 38.8125 \nQ 48.828125 37.15625 52.796875 32.3125 \nQ 56.78125 27.484375 56.78125 20.515625 \nQ 56.78125 9.90625 50.3125 4.234375 \nQ 43.84375 -1.421875 31.78125 -1.421875 \nQ 19.734375 -1.421875 13.25 4.234375 \nQ 6.78125 9.90625 6.78125 20.515625 \nQ 6.78125 27.484375 10.78125 32.3125 \nQ 14.796875 37.15625 21.921875 38.8125 \nz\nM 18.3125 54.390625 \nQ 18.3125 48.734375 21.84375 45.5625 \nQ 25.390625 42.390625 31.78125 42.390625 \nQ 38.140625 42.390625 41.71875 45.5625 \nQ 45.3125 48.734375 45.3125 54.390625 \nQ 45.3125 60.0625 41.71875 63.234375 \nQ 38.140625 66.40625 31.78125 66.40625 \nQ 25.390625 66.40625 21.84375 63.234375 \nQ 18.3125 60.0625 18.3125 54.390625 \nz\n\" id=\"DejaVuSans-56\"/>\n      </defs>\n      <g transform=\"translate(13.5625 99.535166)scale(0.1 -0.1)\">\n       <use xlink:href=\"#DejaVuSans-56\"/>\n       <use x=\"63.623047\" xlink:href=\"#DejaVuSans-48\"/>\n       <use x=\"127.246094\" xlink:href=\"#DejaVuSans-48\"/>\n       <use x=\"190.869141\" xlink:href=\"#DejaVuSans-48\"/>\n       <use x=\"254.492188\" xlink:href=\"#DejaVuSans-48\"/>\n      </g>\n     </g>\n    </g>\n    <g id=\"ytick_6\">\n     <g id=\"line2d_12\">\n      <g>\n       <use style=\"stroke:#000000;stroke-width:0.8;\" x=\"52.375\" xlink:href=\"#m40a0e0adb8\" y=\"65.202625\"/>\n      </g>\n     </g>\n     <g id=\"text_12\">\n      <!-- 100000 -->\n      <g transform=\"translate(7.2 69.001844)scale(0.1 -0.1)\">\n       <use xlink:href=\"#DejaVuSans-49\"/>\n       <use x=\"63.623047\" xlink:href=\"#DejaVuSans-48\"/>\n       <use x=\"127.246094\" xlink:href=\"#DejaVuSans-48\"/>\n       <use x=\"190.869141\" xlink:href=\"#DejaVuSans-48\"/>\n       <use x=\"254.492188\" xlink:href=\"#DejaVuSans-48\"/>\n       <use x=\"318.115234\" xlink:href=\"#DejaVuSans-48\"/>\n      </g>\n     </g>\n    </g>\n    <g id=\"ytick_7\">\n     <g id=\"line2d_13\">\n      <g>\n       <use style=\"stroke:#000000;stroke-width:0.8;\" x=\"52.375\" xlink:href=\"#m40a0e0adb8\" y=\"34.669303\"/>\n      </g>\n     </g>\n     <g id=\"text_13\">\n      <!-- 120000 -->\n      <g transform=\"translate(7.2 38.468522)scale(0.1 -0.1)\">\n       <use xlink:href=\"#DejaVuSans-49\"/>\n       <use x=\"63.623047\" xlink:href=\"#DejaVuSans-50\"/>\n       <use x=\"127.246094\" xlink:href=\"#DejaVuSans-48\"/>\n       <use x=\"190.869141\" xlink:href=\"#DejaVuSans-48\"/>\n       <use x=\"254.492188\" xlink:href=\"#DejaVuSans-48\"/>\n       <use x=\"318.115234\" xlink:href=\"#DejaVuSans-48\"/>\n      </g>\n     </g>\n    </g>\n   </g>\n   <g id=\"patch_3\">\n    <path d=\"M 52.375 224.64 \nL 52.375 7.2 \n\" style=\"fill:none;stroke:#000000;stroke-linecap:square;stroke-linejoin:miter;stroke-width:0.8;\"/>\n   </g>\n   <g id=\"patch_4\">\n    <path d=\"M 387.175 224.64 \nL 387.175 7.2 \n\" style=\"fill:none;stroke:#000000;stroke-linecap:square;stroke-linejoin:miter;stroke-width:0.8;\"/>\n   </g>\n   <g id=\"patch_5\">\n    <path d=\"M 52.375 224.64 \nL 387.175 224.64 \n\" style=\"fill:none;stroke:#000000;stroke-linecap:square;stroke-linejoin:miter;stroke-width:0.8;\"/>\n   </g>\n   <g id=\"patch_6\">\n    <path d=\"M 52.375 7.2 \nL 387.175 7.2 \n\" style=\"fill:none;stroke:#000000;stroke-linecap:square;stroke-linejoin:miter;stroke-width:0.8;\"/>\n   </g>\n   <g id=\"legend_1\">\n    <g id=\"patch_7\">\n     <path d=\"M 315.854688 44.55625 \nL 380.175 44.55625 \nQ 382.175 44.55625 382.175 42.55625 \nL 382.175 14.2 \nQ 382.175 12.2 380.175 12.2 \nL 315.854688 12.2 \nQ 313.854688 12.2 313.854688 14.2 \nL 313.854688 42.55625 \nQ 313.854688 44.55625 315.854688 44.55625 \nz\n\" style=\"fill:#ffffff;opacity:0.8;stroke:#cccccc;stroke-linejoin:miter;\"/>\n    </g>\n    <g id=\"PathCollection_3\">\n     <g>\n      <use style=\"fill:#1f77b4;stroke:#1f77b4;\" x=\"327.854688\" xlink:href=\"#m1f07a96829\" y=\"21.173437\"/>\n     </g>\n    </g>\n    <g id=\"text_14\">\n     <!-- floofer -->\n     <defs>\n      <path d=\"M 37.109375 75.984375 \nL 37.109375 68.5 \nL 28.515625 68.5 \nQ 23.6875 68.5 21.796875 66.546875 \nQ 19.921875 64.59375 19.921875 59.515625 \nL 19.921875 54.6875 \nL 34.71875 54.6875 \nL 34.71875 47.703125 \nL 19.921875 47.703125 \nL 19.921875 0 \nL 10.890625 0 \nL 10.890625 47.703125 \nL 2.296875 47.703125 \nL 2.296875 54.6875 \nL 10.890625 54.6875 \nL 10.890625 58.5 \nQ 10.890625 67.625 15.140625 71.796875 \nQ 19.390625 75.984375 28.609375 75.984375 \nz\n\" id=\"DejaVuSans-102\"/>\n      <path d=\"M 9.421875 75.984375 \nL 18.40625 75.984375 \nL 18.40625 0 \nL 9.421875 0 \nz\n\" id=\"DejaVuSans-108\"/>\n      <path d=\"M 30.609375 48.390625 \nQ 23.390625 48.390625 19.1875 42.75 \nQ 14.984375 37.109375 14.984375 27.296875 \nQ 14.984375 17.484375 19.15625 11.84375 \nQ 23.34375 6.203125 30.609375 6.203125 \nQ 37.796875 6.203125 41.984375 11.859375 \nQ 46.1875 17.53125 46.1875 27.296875 \nQ 46.1875 37.015625 41.984375 42.703125 \nQ 37.796875 48.390625 30.609375 48.390625 \nz\nM 30.609375 56 \nQ 42.328125 56 49.015625 48.375 \nQ 55.71875 40.765625 55.71875 27.296875 \nQ 55.71875 13.875 49.015625 6.21875 \nQ 42.328125 -1.421875 30.609375 -1.421875 \nQ 18.84375 -1.421875 12.171875 6.21875 \nQ 5.515625 13.875 5.515625 27.296875 \nQ 5.515625 40.765625 12.171875 48.375 \nQ 18.84375 56 30.609375 56 \nz\n\" id=\"DejaVuSans-111\"/>\n      <path d=\"M 56.203125 29.59375 \nL 56.203125 25.203125 \nL 14.890625 25.203125 \nQ 15.484375 15.921875 20.484375 11.0625 \nQ 25.484375 6.203125 34.421875 6.203125 \nQ 39.59375 6.203125 44.453125 7.46875 \nQ 49.3125 8.734375 54.109375 11.28125 \nL 54.109375 2.78125 \nQ 49.265625 0.734375 44.1875 -0.34375 \nQ 39.109375 -1.421875 33.890625 -1.421875 \nQ 20.796875 -1.421875 13.15625 6.1875 \nQ 5.515625 13.8125 5.515625 26.8125 \nQ 5.515625 40.234375 12.765625 48.109375 \nQ 20.015625 56 32.328125 56 \nQ 43.359375 56 49.78125 48.890625 \nQ 56.203125 41.796875 56.203125 29.59375 \nz\nM 47.21875 32.234375 \nQ 47.125 39.59375 43.09375 43.984375 \nQ 39.0625 48.390625 32.421875 48.390625 \nQ 24.90625 48.390625 20.390625 44.140625 \nQ 15.875 39.890625 15.1875 32.171875 \nz\n\" id=\"DejaVuSans-101\"/>\n      <path d=\"M 41.109375 46.296875 \nQ 39.59375 47.171875 37.8125 47.578125 \nQ 36.03125 48 33.890625 48 \nQ 26.265625 48 22.1875 43.046875 \nQ 18.109375 38.09375 18.109375 28.8125 \nL 18.109375 0 \nL 9.078125 0 \nL 9.078125 54.6875 \nL 18.109375 54.6875 \nL 18.109375 46.1875 \nQ 20.953125 51.171875 25.484375 53.578125 \nQ 30.03125 56 36.53125 56 \nQ 37.453125 56 38.578125 55.875 \nQ 39.703125 55.765625 41.0625 55.515625 \nz\n\" id=\"DejaVuSans-114\"/>\n     </defs>\n     <g transform=\"translate(345.854688 23.798437)scale(0.1 -0.1)\">\n      <use xlink:href=\"#DejaVuSans-102\"/>\n      <use x=\"35.205078\" xlink:href=\"#DejaVuSans-108\"/>\n      <use x=\"62.988281\" xlink:href=\"#DejaVuSans-111\"/>\n      <use x=\"124.169922\" xlink:href=\"#DejaVuSans-111\"/>\n      <use x=\"185.351562\" xlink:href=\"#DejaVuSans-102\"/>\n      <use x=\"220.556641\" xlink:href=\"#DejaVuSans-101\"/>\n      <use x=\"282.080078\" xlink:href=\"#DejaVuSans-114\"/>\n     </g>\n    </g>\n    <g id=\"PathCollection_4\">\n     <g>\n      <use style=\"fill:#ff7f0e;stroke:#ff7f0e;\" x=\"327.854688\" xlink:href=\"#mb3159b964c\" y=\"35.851562\"/>\n     </g>\n    </g>\n    <g id=\"text_15\">\n     <!-- puppo -->\n     <defs>\n      <path d=\"M 18.109375 8.203125 \nL 18.109375 -20.796875 \nL 9.078125 -20.796875 \nL 9.078125 54.6875 \nL 18.109375 54.6875 \nL 18.109375 46.390625 \nQ 20.953125 51.265625 25.265625 53.625 \nQ 29.59375 56 35.59375 56 \nQ 45.5625 56 51.78125 48.09375 \nQ 58.015625 40.1875 58.015625 27.296875 \nQ 58.015625 14.40625 51.78125 6.484375 \nQ 45.5625 -1.421875 35.59375 -1.421875 \nQ 29.59375 -1.421875 25.265625 0.953125 \nQ 20.953125 3.328125 18.109375 8.203125 \nz\nM 48.6875 27.296875 \nQ 48.6875 37.203125 44.609375 42.84375 \nQ 40.53125 48.484375 33.40625 48.484375 \nQ 26.265625 48.484375 22.1875 42.84375 \nQ 18.109375 37.203125 18.109375 27.296875 \nQ 18.109375 17.390625 22.1875 11.75 \nQ 26.265625 6.109375 33.40625 6.109375 \nQ 40.53125 6.109375 44.609375 11.75 \nQ 48.6875 17.390625 48.6875 27.296875 \nz\n\" id=\"DejaVuSans-112\"/>\n      <path d=\"M 8.5 21.578125 \nL 8.5 54.6875 \nL 17.484375 54.6875 \nL 17.484375 21.921875 \nQ 17.484375 14.15625 20.5 10.265625 \nQ 23.53125 6.390625 29.59375 6.390625 \nQ 36.859375 6.390625 41.078125 11.03125 \nQ 45.3125 15.671875 45.3125 23.6875 \nL 45.3125 54.6875 \nL 54.296875 54.6875 \nL 54.296875 0 \nL 45.3125 0 \nL 45.3125 8.40625 \nQ 42.046875 3.421875 37.71875 1 \nQ 33.40625 -1.421875 27.6875 -1.421875 \nQ 18.265625 -1.421875 13.375 4.4375 \nQ 8.5 10.296875 8.5 21.578125 \nz\nM 31.109375 56 \nz\n\" id=\"DejaVuSans-117\"/>\n     </defs>\n     <g transform=\"translate(345.854688 38.476562)scale(0.1 -0.1)\">\n      <use xlink:href=\"#DejaVuSans-112\"/>\n      <use x=\"63.476562\" xlink:href=\"#DejaVuSans-117\"/>\n      <use x=\"126.855469\" xlink:href=\"#DejaVuSans-112\"/>\n      <use x=\"190.332031\" xlink:href=\"#DejaVuSans-112\"/>\n      <use x=\"253.808594\" xlink:href=\"#DejaVuSans-111\"/>\n     </g>\n    </g>\n   </g>\n  </g>\n </g>\n <defs>\n  <clipPath id=\"pd929b0cb4b\">\n   <rect height=\"217.44\" width=\"334.8\" x=\"52.375\" y=\"7.2\"/>\n  </clipPath>\n </defs>\n</svg>\n",
      "image/png": "[encoded data removed]"
     },
     "metadata": {
      "needs_background": "light"
     }
    }
   ],
   "source": [
    "stages = ['floofer', 'puppo']\n",
    "\n",
    "for n, stage in enumerate(stages):\n",
    "    df_stage = df[df.dog_stage==stage]\n",
    "    plt.scatter(df_stage['rating_fraction'], df_stage['favorite_count'], label=stage);\n",
    "plt.legend()"
   ]
  },
  {
   "cell_type": "code",
   "execution_count": null,
   "metadata": {},
   "outputs": [],
   "source": []
  }
 ]
}