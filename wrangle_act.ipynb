{
 "metadata": {
  "language_info": {
   "codemirror_mode": {
    "name": "ipython",
    "version": 3
   },
   "file_extension": ".py",
   "mimetype": "text/x-python",
   "name": "python",
   "nbconvert_exporter": "python",
   "pygments_lexer": "ipython3",
   "version": "3.6.10-final"
  },
  "orig_nbformat": 2,
  "kernelspec": {
   "name": "python3",
   "display_name": "Python 3"
  }
 },
 "nbformat": 4,
 "nbformat_minor": 2,
 "cells": [
  {
   "cell_type": "markdown",
   "metadata": {},
   "source": [
    "# Wrangle Act File  "
   ]
  },
  {
   "cell_type": "code",
   "execution_count": 1,
   "metadata": {},
   "outputs": [],
   "source": [
    "import pandas as pd \n",
    "import requests \n",
    "import tweepy \n",
    "from tweepy import OAuthHandler\n",
    "import json"
   ]
  },
  {
   "cell_type": "markdown",
   "metadata": {},
   "source": [
    "## Gather"
   ]
  },
  {
   "cell_type": "markdown",
   "metadata": {},
   "source": [
    "### Hand On File"
   ]
  },
  {
   "cell_type": "code",
   "execution_count": 37,
   "metadata": {},
   "outputs": [],
   "source": [
    "# importing from file directly \n",
    "tw_archive = pd.read_csv('twitter-archive-enhanced.csv')"
   ]
  },
  {
   "cell_type": "markdown",
   "metadata": {},
   "source": [
    "### Downloading using response library"
   ]
  },
  {
   "cell_type": "code",
   "execution_count": 38,
   "metadata": {},
   "outputs": [],
   "source": [
    "url = 'https://d17h27t6h515a5.cloudfront.net/topher/2017/August/599fd2ad_image-predictions/image-predictions.tsv'\n",
    "\n",
    "response = requests.get(url)"
   ]
  },
  {
   "cell_type": "code",
   "execution_count": 39,
   "metadata": {},
   "outputs": [],
   "source": [
    "with open('saved_work/image-predictions.tsv', 'wb') as file:\n",
    "    file.write(response.content)\n"
   ]
  },
  {
   "cell_type": "code",
   "execution_count": 40,
   "metadata": {},
   "outputs": [],
   "source": [
    "img_pred = pd.read_csv('saved_work/image-predictions.tsv', sep='\\t')"
   ]
  },
  {
   "cell_type": "markdown",
   "metadata": {},
   "source": [
    "### Downloading tweets data using tweepy"
   ]
  },
  {
   "cell_type": "code",
   "execution_count": 8,
   "metadata": {},
   "outputs": [],
   "source": [
    "# Getting The API keys \n",
    "keys_df = pd.read_csv(\"tweepy.csv\")\n",
    "\n",
    "consumer_key = keys_df.loc[keys_df.name == 'key', 'value'].iloc[0]\n",
    "consumer_secret = keys_df.loc[keys_df.name == 'secret-key', 'value'].iloc[0]\n",
    "access_token = keys_df.loc[keys_df.name == 'access-token', 'value'].iloc[0]\n",
    "access_secret = keys_df.loc[keys_df.name == 'access-secret', 'value'].iloc[0]\n",
    "\n",
    "auth = OAuthHandler(consumer_key, consumer_secret)\n",
    "auth.set_access_token(access_token, access_secret)\n",
    "api = tweepy.API(auth, wait_on_rate_limit=True)"
   ]
  },
  {
   "cell_type": "code",
   "execution_count": 17,
   "metadata": {
    "tags": [
     "outputPrepend"
    ]
   },
   "outputs": [
    {
     "output_type": "stream",
     "name": "stdout",
     "text": "123072: TweepError(\"Failed to send request: HTTPSConnectionPool(host='api.twitter.com', port=443): Max retries exceeded with url: /1.1/statuses/show.json?id=680221482581123072&tweet_mode=extended (Caused by NewConnectionError('<urllib3.connection.HTTPSConnection object at 0x7fb9c664f048>: Failed to establish a new connection: [Errno -2] Name or service not known',))\",), 680206703334408192: TweepError(\"Failed to send request: HTTPSConnectionPool(host='api.twitter.com', port=443): Max retries exceeded with url: /1.1/statuses/show.json?id=680206703334408192&tweet_mode=extended (Caused by NewConnectionError('<urllib3.connection.HTTPSConnection object at 0x7fb9c664f518>: Failed to establish a new connection: [Errno -2] Name or service not known',))\",), 680191257256136705: TweepError(\"Failed to send request: HTTPSConnectionPool(host='api.twitter.com', port=443): Max retries exceeded with url: /1.1/statuses/show.json?id=680191257256136705&tweet_mode=extended (Caused by NewConnectionError('<urllib3.connection.HTTPSConnection object at 0x7fb9c6656048>: Failed to establish a new connection: [Errno -2] Name or service not known',))\",), 680176173301628928: TweepError(\"Failed to send request: HTTPSConnectionPool(host='api.twitter.com', port=443): Max retries exceeded with url: /1.1/statuses/show.json?id=680176173301628928&tweet_mode=extended (Caused by NewConnectionError('<urllib3.connection.HTTPSConnection object at 0x7fb9c66565f8>: Failed to establish a new connection: [Errno -2] Name or service not known',))\",), 680161097740095489: TweepError(\"Failed to send request: HTTPSConnectionPool(host='api.twitter.com', port=443): Max retries exceeded with url: /1.1/statuses/show.json?id=680161097740095489&tweet_mode=extended (Caused by NewConnectionError('<urllib3.connection.HTTPSConnection object at 0x7fb9c66620f0>: Failed to establish a new connection: [Errno -2] Name or service not known',))\",), 680145970311643136: TweepError(\"Failed to send request: HTTPSConnectionPool(host='api.twitter.com', port=443): Max retries exceeded with url: /1.1/statuses/show.json?id=680145970311643136&tweet_mode=extended (Caused by NewConnectionError('<urllib3.connection.HTTPSConnection object at 0x7fb9c66626d8>: Failed to establish a new connection: [Errno -2] Name or service not known',))\",), 680130881361686529: TweepError(\"Failed to send request: HTTPSConnectionPool(host='api.twitter.com', port=443): Max retries exceeded with url: /1.1/statuses/show.json?id=680130881361686529&tweet_mode=extended (Caused by NewConnectionError('<urllib3.connection.HTTPSConnection object at 0x7fb9c9d191d0>: Failed to establish a new connection: [Errno -2] Name or service not known',))\",), 680115823365742593: TweepError(\"Failed to send request: HTTPSConnectionPool(host='api.twitter.com', port=443): Max retries exceeded with url: /1.1/statuses/show.json?id=680115823365742593&tweet_mode=extended (Caused by NewConnectionError('<urllib3.connection.HTTPSConnection object at 0x7fb9c9d197b8>: Failed to establish a new connection: [Errno -2] Name or service not known',))\",), 680100725817409536: TweepError(\"Failed to send request: HTTPSConnectionPool(host='api.twitter.com', port=443): Max retries exceeded with url: /1.1/statuses/show.json?id=680100725817409536&tweet_mode=extended (Caused by NewConnectionError('<urllib3.connection.HTTPSConnection object at 0x7fb9c9d17048>: Failed to establish a new connection: [Errno -2] Name or service not known',))\",), 680085611152338944: TweepError(\"Failed to send request: HTTPSConnectionPool(host='api.twitter.com', port=443): Max retries exceeded with url: /1.1/statuses/show.json?id=680085611152338944&tweet_mode=extended (Caused by NewConnectionError('<urllib3.connection.HTTPSConnection object at 0x7fb9c9d17898>: Failed to establish a new connection: [Errno -2] Name or service not known',))\",), 680070545539371008: TweepError(\"Failed to send request: HTTPSConnectionPool(host='api.twitter.com', port=443): Max retries exceeded with url: /1.1/statuses/show.json?id=680070545539371008&tweet_mode=extended (Caused by NewConnectionError('<urllib3.connection.HTTPSConnection object at 0x7fb9c6630cc0>: Failed to establish a new connection: [Errno -2] Name or service not known',))\",), 680055455951884288: TweepError(\"Failed to send request: HTTPSConnectionPool(host='api.twitter.com', port=443): Max retries exceeded with url: /1.1/statuses/show.json?id=680055455951884288&tweet_mode=extended (Caused by NewConnectionError('<urllib3.connection.HTTPSConnection object at 0x7fb9c9d09518>: Failed to establish a new connection: [Errno -2] Name or service not known',))\",), 679877062409191424: TweepError(\"Failed to send request: HTTPSConnectionPool(host='api.twitter.com', port=443): Max retries exceeded with url: /1.1/statuses/show.json?id=679877062409191424&tweet_mode=extended (Caused by NewConnectionError('<urllib3.connection.HTTPSConnection object at 0x7fb9c9d0e048>: Failed to establish a new connection: [Errno -2] Name or service not known',))\",), 679872969355714560: TweepError(\"Failed to send request: HTTPSConnectionPool(host='api.twitter.com', port=443): Max retries exceeded with url: /1.1/statuses/show.json?id=679872969355714560&tweet_mode=extended (Caused by NewConnectionError('<urllib3.connection.HTTPSConnection object at 0x7fb9c9d0e5f8>: Failed to establish a new connection: [Errno -2] Name or service not known',))\",), 679862121895714818: TweepError(\"Failed to send request: HTTPSConnectionPool(host='api.twitter.com', port=443): Max retries exceeded with url: /1.1/statuses/show.json?id=679862121895714818&tweet_mode=extended (Caused by NewConnectionError('<urllib3.connection.HTTPSConnection object at 0x7fb9c9d110f0>: Failed to establish a new connection: [Errno -2] Name or service not known',))\",), 679854723806179328: TweepError(\"Failed to send request: HTTPSConnectionPool(host='api.twitter.com', port=443): Max retries exceeded with url: /1.1/statuses/show.json?id=679854723806179328&tweet_mode=extended (Caused by NewConnectionError('<urllib3.connection.HTTPSConnection object at 0x7fb9c9d116d8>: Failed to establish a new connection: [Errno -2] Name or service not known',))\",), 679844490799091713: TweepError(\"Failed to send request: HTTPSConnectionPool(host='api.twitter.com', port=443): Max retries exceeded with url: /1.1/statuses/show.json?id=679844490799091713&tweet_mode=extended (Caused by NewConnectionError('<urllib3.connection.HTTPSConnection object at 0x7fb9ca1e21d0>: Failed to establish a new connection: [Errno -2] Name or service not known',))\",), 679828447187857408: TweepError(\"Failed to send request: HTTPSConnectionPool(host='api.twitter.com', port=443): Max retries exceeded with url: /1.1/statuses/show.json?id=679828447187857408&tweet_mode=extended (Caused by NewConnectionError('<urllib3.connection.HTTPSConnection object at 0x7fb9ca1e27b8>: Failed to establish a new connection: [Errno -2] Name or service not known',))\",), 679777920601223168: TweepError(\"Failed to send request: HTTPSConnectionPool(host='api.twitter.com', port=443): Max retries exceeded with url: /1.1/statuses/show.json?id=679777920601223168&tweet_mode=extended (Caused by NewConnectionError('<urllib3.connection.HTTPSConnection object at 0x7fb9ca1e3048>: Failed to establish a new connection: [Errno -2] Name or service not known',))\",), 679736210798047232: TweepError(\"Failed to send request: HTTPSConnectionPool(host='api.twitter.com', port=443): Max retries exceeded with url: /1.1/statuses/show.json?id=679736210798047232&tweet_mode=extended (Caused by NewConnectionError('<urllib3.connection.HTTPSConnection object at 0x7fb9ca1e3898>: Failed to establish a new connection: [Errno -2] Name or service not known',))\",), 679729593985699840: TweepError(\"Failed to send request: HTTPSConnectionPool(host='api.twitter.com', port=443): Max retries exceeded with url: /1.1/statuses/show.json?id=679729593985699840&tweet_mode=extended (Caused by NewConnectionError('<urllib3.connection.HTTPSConnection object at 0x7fb9ca1df128>: Failed to establish a new connection: [Errno -2] Name or service not known',))\",), 679722016581222400: TweepError(\"Failed to send request: HTTPSConnectionPool(host='api.twitter.com', port=443): Max retries exceeded with url: /1.1/statuses/show.json?id=679722016581222400&tweet_mode=extended (Caused by NewConnectionError('<urllib3.connection.HTTPSConnection object at 0x7fb9ca1df978>: Failed to establish a new connection: [Errno -2] Name or service not known',))\",), 679530280114372609: TweepError(\"Failed to send request: HTTPSConnectionPool(host='api.twitter.com', port=443): Max retries exceeded with url: /1.1/statuses/show.json?id=679530280114372609&tweet_mode=extended (Caused by NewConnectionError('<urllib3.connection.HTTPSConnection object at 0x7fb9ca1b5208>: Failed to establish a new connection: [Errno -2] Name or service not known',))\",), 679527802031484928: TweepError(\"Failed to send request: HTTPSConnectionPool(host='api.twitter.com', port=443): Max retries exceeded with url: /1.1/statuses/show.json?id=679527802031484928&tweet_mode=extended (Caused by NewConnectionError('<urllib3.connection.HTTPSConnection object at 0x7fb9ca1b5a58>: Failed to establish a new connection: [Errno -2] Name or service not known',))\",), 679511351870550016: TweepError(\"Failed to send request: HTTPSConnectionPool(host='api.twitter.com', port=443): Max retries exceeded with url: /1.1/statuses/show.json?id=679511351870550016&tweet_mode=extended (Caused by NewConnectionError('<urllib3.connection.HTTPSConnection object at 0x7fb9ca1d12e8>: Failed to establish a new connection: [Errno -2] Name or service not known',))\",), 679503373272485890: TweepError(\"Failed to send request: HTTPSConnectionPool(host='api.twitter.com', port=443): Max retries exceeded with url: /1.1/statuses/show.json?id=679503373272485890&tweet_mode=extended (Caused by NewConnectionError('<urllib3.connection.HTTPSConnection object at 0x7fb9ca1d1b38>: Failed to establish a new connection: [Errno -2] Name or service not known',))\",), 679475951516934144: TweepError(\"Failed to send request: HTTPSConnectionPool(host='api.twitter.com', port=443): Max retries exceeded with url: /1.1/statuses/show.json?id=679475951516934144&tweet_mode=extended (Caused by NewConnectionError('<urllib3.connection.HTTPSConnection object at 0x7fb9c9bea3c8>: Failed to establish a new connection: [Errno -2] Name or service not known',))\",), 679462823135686656: TweepError(\"Failed to send request: HTTPSConnectionPool(host='api.twitter.com', port=443): Max retries exceeded with url: /1.1/statuses/show.json?id=679462823135686656&tweet_mode=extended (Caused by NewConnectionError('<urllib3.connection.HTTPSConnection object at 0x7fb9c9beac18>: Failed to establish a new connection: [Errno -2] Name or service not known',))\",), 679405845277462528: TweepError(\"Failed to send request: HTTPSConnectionPool(host='api.twitter.com', port=443): Max retries exceeded with url: /1.1/statuses/show.json?id=679405845277462528&tweet_mode=extended (Caused by NewConnectionError('<urllib3.connection.HTTPSConnection object at 0x7fb9c9bc84a8>: Failed to establish a new connection: [Errno -2] Name or service not known',))\",), 679158373988876288: TweepError(\"Failed to send request: HTTPSConnectionPool(host='api.twitter.com', port=443): Max retries exceeded with url: /1.1/statuses/show.json?id=679158373988876288&tweet_mode=extended (Caused by NewConnectionError('<urllib3.connection.HTTPSConnection object at 0x7fb9c9bdd0b8>: Failed to establish a new connection: [Errno -2] Name or service not known',))\",), 679148763231985668: TweepError(\"Failed to send request: HTTPSConnectionPool(host='api.twitter.com', port=443): Max retries exceeded with url: /1.1/statuses/show.json?id=679148763231985668&tweet_mode=extended (Caused by NewConnectionError('<urllib3.connection.HTTPSConnection object at 0x7fb9ca1d1d30>: Failed to establish a new connection: [Errno -2] Name or service not known',))\",), 679132435750195208: TweepError(\"Failed to send request: HTTPSConnectionPool(host='api.twitter.com', port=443): Max retries exceeded with url: /1.1/statuses/show.json?id=679132435750195208&tweet_mode=extended (Caused by NewConnectionError('<urllib3.connection.HTTPSConnection object at 0x7fb9c9bdd940>: Failed to establish a new connection: [Errno -2] Name or service not known',))\",), 679111216690831360: TweepError(\"Failed to send request: HTTPSConnectionPool(host='api.twitter.com', port=443): Max retries exceeded with url: /1.1/statuses/show.json?id=679111216690831360&tweet_mode=extended (Caused by NewConnectionError('<urllib3.connection.HTTPSConnection object at 0x7fb9c9bd4208>: Failed to establish a new connection: [Errno -2] Name or service not known',))\",), 679062614270468097: TweepError(\"Failed to send request: HTTPSConnectionPool(host='api.twitter.com', port=443): Max retries exceeded with url: /1.1/statuses/show.json?id=679062614270468097&tweet_mode=extended (Caused by NewConnectionError('<urllib3.connection.HTTPSConnection object at 0x7fb9c9bd4a58>: Failed to establish a new connection: [Errno -2] Name or service not known',))\",), 679047485189439488: TweepError(\"Failed to send request: HTTPSConnectionPool(host='api.twitter.com', port=443): Max retries exceeded with url: /1.1/statuses/show.json?id=679047485189439488&tweet_mode=extended (Caused by NewConnectionError('<urllib3.connection.HTTPSConnection object at 0x7fb9c7c6e2e8>: Failed to establish a new connection: [Errno -2] Name or service not known',))\",), 679001094530465792: TweepError(\"Failed to send request: HTTPSConnectionPool(host='api.twitter.com', port=443): Max retries exceeded with url: /1.1/statuses/show.json?id=679001094530465792&tweet_mode=extended (Caused by NewConnectionError('<urllib3.connection.HTTPSConnection object at 0x7fb9c7c6eb38>: Failed to establish a new connection: [Errno -2] Name or service not known',))\",), 678991772295516161: TweepError(\"Failed to send request: HTTPSConnectionPool(host='api.twitter.com', port=443): Max retries exceeded with url: /1.1/statuses/show.json?id=678991772295516161&tweet_mode=extended (Caused by NewConnectionError('<urllib3.connection.HTTPSConnection object at 0x7fb9c7ca63c8>: Failed to establish a new connection: [Errno -2] Name or service not known',))\",), 678969228704284672: TweepError(\"Failed to send request: HTTPSConnectionPool(host='api.twitter.com', port=443): Max retries exceeded with url: /1.1/statuses/show.json?id=678969228704284672&tweet_mode=extended (Caused by NewConnectionError('<urllib3.connection.HTTPSConnection object at 0x7fb9c7ca6c18>: Failed to establish a new connection: [Errno -2] Name or service not known',))\",), 678800283649069056: TweepError(\"Failed to send request: HTTPSConnectionPool(host='api.twitter.com', port=443): Max retries exceeded with url: /1.1/statuses/show.json?id=678800283649069056&tweet_mode=extended (Caused by NewConnectionError('<urllib3.connection.HTTPSConnection object at 0x7fb9c7c894a8>: Failed to establish a new connection: [Errno -2] Name or service not known',))\",), 678798276842360832: TweepError(\"Failed to send request: HTTPSConnectionPool(host='api.twitter.com', port=443): Max retries exceeded with url: /1.1/statuses/show.json?id=678798276842360832&tweet_mode=extended (Caused by NewConnectionError('<urllib3.connection.HTTPSConnection object at 0x7fb9c7c850b8>: Failed to establish a new connection: [Errno -2] Name or service not known',))\",), 678774928607469569: TweepError(\"Failed to send request: HTTPSConnectionPool(host='api.twitter.com', port=443): Max retries exceeded with url: /1.1/statuses/show.json?id=678774928607469569&tweet_mode=extended (Caused by NewConnectionError('<urllib3.connection.HTTPSConnection object at 0x7fb9c7c85588>: Failed to establish a new connection: [Errno -2] Name or service not known',))\",), 678767140346941444: TweepError(\"Failed to send request: HTTPSConnectionPool(host='api.twitter.com', port=443): Max retries exceeded with url: /1.1/statuses/show.json?id=678767140346941444&tweet_mode=extended (Caused by NewConnectionError('<urllib3.connection.HTTPSConnection object at 0x7fb9c7c98080>: Failed to establish a new connection: [Errno -2] Name or service not known',))\",), 678764513869611008: TweepError(\"Failed to send request: HTTPSConnectionPool(host='api.twitter.com', port=443): Max retries exceeded with url: /1.1/statuses/show.json?id=678764513869611008&tweet_mode=extended (Caused by NewConnectionError('<urllib3.connection.HTTPSConnection object at 0x7fb9c7c98668>: Failed to establish a new connection: [Errno -2] Name or service not known',))\",), 678755239630127104: TweepError(\"Failed to send request: HTTPSConnectionPool(host='api.twitter.com', port=443): Max retries exceeded with url: /1.1/statuses/show.json?id=678755239630127104&tweet_mode=extended (Caused by NewConnectionError('<urllib3.connection.HTTPSConnection object at 0x7fb9ca17b160>: Failed to establish a new connection: [Errno -2] Name or service not known',))\",), 678740035362037760: TweepError(\"Failed to send request: HTTPSConnectionPool(host='api.twitter.com', port=443): Max retries exceeded with url: /1.1/statuses/show.json?id=678740035362037760&tweet_mode=extended (Caused by NewConnectionError('<urllib3.connection.HTTPSConnection object at 0x7fb9ca17b748>: Failed to establish a new connection: [Errno -2] Name or service not known',))\",), 678708137298427904: TweepError(\"Failed to send request: HTTPSConnectionPool(host='api.twitter.com', port=443): Max retries exceeded with url: /1.1/statuses/show.json?id=678708137298427904&tweet_mode=extended (Caused by NewConnectionError('<urllib3.connection.HTTPSConnection object at 0x7fb9ca19f240>: Failed to establish a new connection: [Errno -2] Name or service not known',))\",), 678675843183484930: TweepError(\"Failed to send request: HTTPSConnectionPool(host='api.twitter.com', port=443): Max retries exceeded with url: /1.1/statuses/show.json?id=678675843183484930&tweet_mode=extended (Caused by NewConnectionError('<urllib3.connection.HTTPSConnection object at 0x7fb9ca19f828>: Failed to establish a new connection: [Errno -2] Name or service not known',))\",), 678643457146150913: TweepError(\"Failed to send request: HTTPSConnectionPool(host='api.twitter.com', port=443): Max retries exceeded with url: /1.1/statuses/show.json?id=678643457146150913&tweet_mode=extended (Caused by NewConnectionError('<urllib3.connection.HTTPSConnection object at 0x7fb9ca18c0b8>: Failed to establish a new connection: [Errno -2] Name or service not known',))\",), 678446151570427904: TweepError(\"Failed to send request: HTTPSConnectionPool(host='api.twitter.com', port=443): Max retries exceeded with url: /1.1/statuses/show.json?id=678446151570427904&tweet_mode=extended (Caused by NewConnectionError('<urllib3.connection.HTTPSConnection object at 0x7fb9ca18c908>: Failed to establish a new connection: [Errno -2] Name or service not known',))\",), 678424312106393600: TweepError(\"Failed to send request: HTTPSConnectionPool(host='api.twitter.com', port=443): Max retries exceeded with url: /1.1/statuses/show.json?id=678424312106393600&tweet_mode=extended (Caused by NewConnectionError('<urllib3.connection.HTTPSConnection object at 0x7fb9ca187198>: Failed to establish a new connection: [Errno -2] Name or service not known',))\",), 678410210315247616: TweepError(\"Failed to send request: HTTPSConnectionPool(host='api.twitter.com', port=443): Max retries exceeded with url: /1.1/statuses/show.json?id=678410210315247616&tweet_mode=extended (Caused by NewConnectionError('<urllib3.connection.HTTPSConnection object at 0x7fb9ca19fa20>: Failed to establish a new connection: [Errno -2] Name or service not known',))\",), 677716515794329600: TweepError(\"Failed to send request: HTTPSConnectionPool(host='api.twitter.com', port=443): Max retries exceeded with url: /1.1/statuses/show.json?id=677716515794329600&tweet_mode=extended (Caused by NewConnectionError('<urllib3.connection.HTTPSConnection object at 0x7fb9ca19ec50>: Failed to establish a new connection: [Errno 113] No route to host',))\",)}\n"
    }
   ],
   "source": [
    "# Getting Tweet data and saving it to tweet_json.txt\n",
    "tweet_ids = tw_archive.tweet_id.values\n",
    "fail_dict = {}\n",
    "\n",
    "with open('saved_work/tweet_json.txt', 'w') as outfile:\n",
    "    for id in tweet_ids:\n",
    "        try: \n",
    "            tweet = api.get_status(id, tweet_mode='extended')\n",
    "            json.dump(tweet._json, outfile)\n",
    "            outfile.write('\\n')\n",
    "        except tweepy.TweepError as e:\n",
    "            fail_dict[id] = e\n",
    "            pass\n",
    "\n",
    "print(fail_dict)"
   ]
  },
  {
   "cell_type": "code",
   "execution_count": 23,
   "metadata": {
    "tags": []
   },
   "outputs": [
    {
     "output_type": "stream",
     "name": "stdout",
     "text": "[888202515573088257, 873697596434513921, 872668790621863937, 872261713294495745, 869988702071779329, 866816280283807744, 861769973181624320, 856602993587888130, 851953902622658560, 845459076796616705, 844704788403113984, 842892208864923648, 837366284874571778, 837012587749474308, 829374341691346946, 827228250799742977, 812747805718642688, 802247111496568832, 779123168116150273, 775096608509886464, 771004394259247104, 770743923962707968, 759566828574212096, 754011816964026368, 680055455951884288]\n"
    }
   ],
   "source": [
    "print(list(fail_dict.keys()))"
   ]
  },
  {
   "cell_type": "code",
   "execution_count": 24,
   "metadata": {
    "tags": []
   },
   "outputs": [
    {
     "output_type": "stream",
     "name": "stdout",
     "text": "{888202515573088257: TweepError([{'code': 144, 'message': 'No status found with that ID.'}],), 873697596434513921: TweepError([{'code': 144, 'message': 'No status found with that ID.'}],), 872668790621863937: TweepError([{'code': 144, 'message': 'No status found with that ID.'}],), 872261713294495745: TweepError([{'code': 144, 'message': 'No status found with that ID.'}],), 869988702071779329: TweepError([{'code': 144, 'message': 'No status found with that ID.'}],), 866816280283807744: TweepError([{'code': 144, 'message': 'No status found with that ID.'}],), 861769973181624320: TweepError([{'code': 144, 'message': 'No status found with that ID.'}],), 856602993587888130: TweepError([{'code': 144, 'message': 'No status found with that ID.'}],), 851953902622658560: TweepError([{'code': 144, 'message': 'No status found with that ID.'}],), 845459076796616705: TweepError([{'code': 144, 'message': 'No status found with that ID.'}],), 844704788403113984: TweepError([{'code': 144, 'message': 'No status found with that ID.'}],), 842892208864923648: TweepError([{'code': 144, 'message': 'No status found with that ID.'}],), 837366284874571778: TweepError([{'code': 144, 'message': 'No status found with that ID.'}],), 837012587749474308: TweepError([{'code': 144, 'message': 'No status found with that ID.'}],), 829374341691346946: TweepError([{'code': 144, 'message': 'No status found with that ID.'}],), 827228250799742977: TweepError([{'code': 144, 'message': 'No status found with that ID.'}],), 812747805718642688: TweepError([{'code': 144, 'message': 'No status found with that ID.'}],), 802247111496568832: TweepError([{'code': 144, 'message': 'No status found with that ID.'}],), 779123168116150273: TweepError([{'code': 144, 'message': 'No status found with that ID.'}],), 775096608509886464: TweepError([{'code': 144, 'message': 'No status found with that ID.'}],), 771004394259247104: TweepError([{'code': 179, 'message': 'Sorry, you are not authorized to see this status.'}],), 770743923962707968: TweepError([{'code': 144, 'message': 'No status found with that ID.'}],), 759566828574212096: TweepError([{'code': 144, 'message': 'No status found with that ID.'}],), 754011816964026368: TweepError([{'code': 144, 'message': 'No status found with that ID.'}],), 680055455951884288: TweepError([{'code': 144, 'message': 'No status found with that ID.'}],)}\n"
    }
   ],
   "source": [
    "# Redownload failed tweets\n",
    "old_tweet_ids = list(fail_dict.keys())\n",
    "fail_dict = {}\n",
    "\n",
    "with open('saved_work/tweet_json.txt', 'a+') as outfile:\n",
    "    for id in old_tweet_ids:\n",
    "        try: \n",
    "            tweet = api.get_status(id, tweet_mode='extended')\n",
    "            json.dump(tweet._json, outfile)\n",
    "            outfile.write('\\n')\n",
    "        except tweepy.TweepError as e:\n",
    "            fail_dict[id] = e\n",
    "            pass\n",
    "\n",
    "print(fail_dict)"
   ]
  },
  {
   "cell_type": "code",
   "execution_count": 41,
   "metadata": {},
   "outputs": [],
   "source": [
    "tw_api = pd.read_json('saved_work/tweet_json.txt',lines=True)"
   ]
  },
  {
   "cell_type": "markdown",
   "metadata": {},
   "source": [
    "## Assess"
   ]
  },
  {
   "cell_type": "markdown",
   "metadata": {},
   "source": [
    "### Twitter Archive"
   ]
  },
  {
   "cell_type": "code",
   "execution_count": 42,
   "metadata": {},
   "outputs": [
    {
     "output_type": "execute_result",
     "data": {
      "text/plain": "             tweet_id  in_reply_to_status_id  in_reply_to_user_id  \\\n0  892420643555336193                    NaN                  NaN   \n1  892177421306343426                    NaN                  NaN   \n2  891815181378084864                    NaN                  NaN   \n3  891689557279858688                    NaN                  NaN   \n4  891327558926688256                    NaN                  NaN   \n\n                   timestamp  \\\n0  2017-08-01 16:23:56 +0000   \n1  2017-08-01 00:17:27 +0000   \n2  2017-07-31 00:18:03 +0000   \n3  2017-07-30 15:58:51 +0000   \n4  2017-07-29 16:00:24 +0000   \n\n                                              source  \\\n0  <a href=\"http://twitter.com/download/iphone\" r...   \n1  <a href=\"http://twitter.com/download/iphone\" r...   \n2  <a href=\"http://twitter.com/download/iphone\" r...   \n3  <a href=\"http://twitter.com/download/iphone\" r...   \n4  <a href=\"http://twitter.com/download/iphone\" r...   \n\n                                                text  retweeted_status_id  \\\n0  This is Phineas. He's a mystical boy. Only eve...                  NaN   \n1  This is Tilly. She's just checking pup on you....                  NaN   \n2  This is Archie. He is a rare Norwegian Pouncin...                  NaN   \n3  This is Darla. She commenced a snooze mid meal...                  NaN   \n4  This is Franklin. He would like you to stop ca...                  NaN   \n\n   retweeted_status_user_id retweeted_status_timestamp  \\\n0                       NaN                        NaN   \n1                       NaN                        NaN   \n2                       NaN                        NaN   \n3                       NaN                        NaN   \n4                       NaN                        NaN   \n\n                                       expanded_urls  rating_numerator  \\\n0  https://twitter.com/dog_rates/status/892420643...                13   \n1  https://twitter.com/dog_rates/status/892177421...                13   \n2  https://twitter.com/dog_rates/status/891815181...                12   \n3  https://twitter.com/dog_rates/status/891689557...                13   \n4  https://twitter.com/dog_rates/status/891327558...                12   \n\n   rating_denominator      name doggo floofer pupper puppo  \n0                  10   Phineas  None    None   None  None  \n1                  10     Tilly  None    None   None  None  \n2                  10    Archie  None    None   None  None  \n3                  10     Darla  None    None   None  None  \n4                  10  Franklin  None    None   None  None  ",
      "text/html": "<div>\n<style scoped>\n    .dataframe tbody tr th:only-of-type {\n        vertical-align: middle;\n    }\n\n    .dataframe tbody tr th {\n        vertical-align: top;\n    }\n\n    .dataframe thead th {\n        text-align: right;\n    }\n</style>\n<table border=\"1\" class=\"dataframe\">\n  <thead>\n    <tr style=\"text-align: right;\">\n      <th></th>\n      <th>tweet_id</th>\n      <th>in_reply_to_status_id</th>\n      <th>in_reply_to_user_id</th>\n      <th>timestamp</th>\n      <th>source</th>\n      <th>text</th>\n      <th>retweeted_status_id</th>\n      <th>retweeted_status_user_id</th>\n      <th>retweeted_status_timestamp</th>\n      <th>expanded_urls</th>\n      <th>rating_numerator</th>\n      <th>rating_denominator</th>\n      <th>name</th>\n      <th>doggo</th>\n      <th>floofer</th>\n      <th>pupper</th>\n      <th>puppo</th>\n    </tr>\n  </thead>\n  <tbody>\n    <tr>\n      <th>0</th>\n      <td>892420643555336193</td>\n      <td>NaN</td>\n      <td>NaN</td>\n      <td>2017-08-01 16:23:56 +0000</td>\n      <td>&lt;a href=\"http://twitter.com/download/iphone\" r...</td>\n      <td>This is Phineas. He's a mystical boy. Only eve...</td>\n      <td>NaN</td>\n      <td>NaN</td>\n      <td>NaN</td>\n      <td>https://twitter.com/dog_rates/status/892420643...</td>\n      <td>13</td>\n      <td>10</td>\n      <td>Phineas</td>\n      <td>None</td>\n      <td>None</td>\n      <td>None</td>\n      <td>None</td>\n    </tr>\n    <tr>\n      <th>1</th>\n      <td>892177421306343426</td>\n      <td>NaN</td>\n      <td>NaN</td>\n      <td>2017-08-01 00:17:27 +0000</td>\n      <td>&lt;a href=\"http://twitter.com/download/iphone\" r...</td>\n      <td>This is Tilly. She's just checking pup on you....</td>\n      <td>NaN</td>\n      <td>NaN</td>\n      <td>NaN</td>\n      <td>https://twitter.com/dog_rates/status/892177421...</td>\n      <td>13</td>\n      <td>10</td>\n      <td>Tilly</td>\n      <td>None</td>\n      <td>None</td>\n      <td>None</td>\n      <td>None</td>\n    </tr>\n    <tr>\n      <th>2</th>\n      <td>891815181378084864</td>\n      <td>NaN</td>\n      <td>NaN</td>\n      <td>2017-07-31 00:18:03 +0000</td>\n      <td>&lt;a href=\"http://twitter.com/download/iphone\" r...</td>\n      <td>This is Archie. He is a rare Norwegian Pouncin...</td>\n      <td>NaN</td>\n      <td>NaN</td>\n      <td>NaN</td>\n      <td>https://twitter.com/dog_rates/status/891815181...</td>\n      <td>12</td>\n      <td>10</td>\n      <td>Archie</td>\n      <td>None</td>\n      <td>None</td>\n      <td>None</td>\n      <td>None</td>\n    </tr>\n    <tr>\n      <th>3</th>\n      <td>891689557279858688</td>\n      <td>NaN</td>\n      <td>NaN</td>\n      <td>2017-07-30 15:58:51 +0000</td>\n      <td>&lt;a href=\"http://twitter.com/download/iphone\" r...</td>\n      <td>This is Darla. She commenced a snooze mid meal...</td>\n      <td>NaN</td>\n      <td>NaN</td>\n      <td>NaN</td>\n      <td>https://twitter.com/dog_rates/status/891689557...</td>\n      <td>13</td>\n      <td>10</td>\n      <td>Darla</td>\n      <td>None</td>\n      <td>None</td>\n      <td>None</td>\n      <td>None</td>\n    </tr>\n    <tr>\n      <th>4</th>\n      <td>891327558926688256</td>\n      <td>NaN</td>\n      <td>NaN</td>\n      <td>2017-07-29 16:00:24 +0000</td>\n      <td>&lt;a href=\"http://twitter.com/download/iphone\" r...</td>\n      <td>This is Franklin. He would like you to stop ca...</td>\n      <td>NaN</td>\n      <td>NaN</td>\n      <td>NaN</td>\n      <td>https://twitter.com/dog_rates/status/891327558...</td>\n      <td>12</td>\n      <td>10</td>\n      <td>Franklin</td>\n      <td>None</td>\n      <td>None</td>\n      <td>None</td>\n      <td>None</td>\n    </tr>\n  </tbody>\n</table>\n</div>"
     },
     "metadata": {},
     "execution_count": 42
    }
   ],
   "source": [
    "tw_archive.head()"
   ]
  },
  {
   "cell_type": "code",
   "execution_count": 43,
   "metadata": {
    "tags": []
   },
   "outputs": [
    {
     "output_type": "stream",
     "name": "stdout",
     "text": "<class 'pandas.core.frame.DataFrame'>\nRangeIndex: 2356 entries, 0 to 2355\nData columns (total 17 columns):\n #   Column                      Non-Null Count  Dtype  \n---  ------                      --------------  -----  \n 0   tweet_id                    2356 non-null   int64  \n 1   in_reply_to_status_id       78 non-null     float64\n 2   in_reply_to_user_id         78 non-null     float64\n 3   timestamp                   2356 non-null   object \n 4   source                      2356 non-null   object \n 5   text                        2356 non-null   object \n 6   retweeted_status_id         181 non-null    float64\n 7   retweeted_status_user_id    181 non-null    float64\n 8   retweeted_status_timestamp  181 non-null    object \n 9   expanded_urls               2297 non-null   object \n 10  rating_numerator            2356 non-null   int64  \n 11  rating_denominator          2356 non-null   int64  \n 12  name                        2356 non-null   object \n 13  doggo                       2356 non-null   object \n 14  floofer                     2356 non-null   object \n 15  pupper                      2356 non-null   object \n 16  puppo                       2356 non-null   object \ndtypes: float64(4), int64(3), object(10)\nmemory usage: 313.0+ KB\n"
    }
   ],
   "source": [
    "tw_archive.info()"
   ]
  },
  {
   "cell_type": "code",
   "execution_count": 44,
   "metadata": {},
   "outputs": [
    {
     "output_type": "execute_result",
     "data": {
      "text/plain": "None        745\na            55\nCharlie      12\nCooper       11\nOliver       11\n           ... \nSid           1\nSkittle       1\nPhilippe      1\nKara          1\nGunner        1\nName: name, Length: 957, dtype: int64"
     },
     "metadata": {},
     "execution_count": 44
    }
   ],
   "source": [
    "tw_archive.name.value_counts()"
   ]
  },
  {
   "cell_type": "code",
   "execution_count": 19,
   "metadata": {},
   "outputs": [
    {
     "output_type": "execute_result",
     "data": {
      "text/plain": "56      Here is a pupper approaching maximum borkdrive...\n649     Here is a perfect example of someone who has t...\n801     Guys this is getting so out of hand. We only r...\n1002    This is a mighty rare blue-tailed hammer sherk...\n1004    Viewer discretion is advised. This is a terrib...\n1017    This is a carrot. We only rate dogs. Please on...\n1049    This is a very rare Great Alaskan Bush Pupper....\n1193    People please. This is a Deadly Mediterranean ...\n1207    This is a taco. We only rate dogs. Please only...\n1340    Here is a heartbreaking scene of an incredible...\n1351    Here is a whole flock of puppers.  60/50 I'll ...\n1361    This is a Butternut Cumberfloof. It's not wind...\n1368    This is a Wild Tuscan Poofwiggle. Careful not ...\n1382    \"Pupper is a present to world. Here is a bow f...\n1499    This is a rare Arctic Wubberfloof. Unamused by...\n1737    Guys this really needs to stop. We've been ove...\n1785    This is a dog swinging. I really enjoyed it so...\n1853    This is a Sizzlin Menorah spaniel from Brookly...\n1854    Seriously guys?! Only send in dogs. I only rat...\n1877    C'mon guys. We've been over this. We only rate...\n1878    This is a fluffy albino Bacardi Columbia mix. ...\n1923    This is a Sagitariot Baklava mix. Loves her ne...\n1941    This is a heavily opinionated dog. Loves walls...\n1955    This is a Lofted Aphrodisiac Terrier named Kip...\n1994    This is a baby Rand Paul. Curls for days. 11/1...\n2034    This is a Tuscaloosa Alcatraz named Jacob (Yac...\n2066    This is a Helvetica Listerine named Rufus. Thi...\n2116    This is a Deciduous Trimester mix named Spork....\n2125    This is a Rich Mahogany Seltzer named Cherokee...\n2128    This is a Speckled Cauliflower Yosemite named ...\n2146    This is a spotted Lipitor Rumpelstiltskin name...\n2153    This is a brave dog. Excellent free climber. T...\n2161    This is a Coriander Baton Rouge named Alfredo....\n2191    This is a Slovakian Helter Skelter Feta named ...\n2198    This is a wild Toblerone from Papua New Guinea...\n2211    Here is a horned dog. Much grace. Can jump ove...\n2218    This is a Birmingham Quagmire named Chuk. Love...\n2222    Here is a mother dog caring for her pups. Snaz...\n2235    This is a Trans Siberian Kellogg named Alfonso...\n2249    This is a Shotokon Macadamia mix named Cheryl....\n2255    This is a rare Hungarian Pinot named Jessiga. ...\n2264    This is a southwest Coriander named Klint. Hat...\n2273    This is a northern Wahoo named Kohl. He runs t...\n2287    This is a Dasani Kingfisher from Maine. His na...\n2304    This is a curly Ticonderoga named Pepe. No fee...\n2311    This is a purebred Bacardi named Octaviath. Ca...\n2314    This is a golden Buckminsterfullerene named Jo...\n2327    This is a southern Vesuvius bumblegruff. Can d...\n2334    This is a funny dog. Weird toes. Won't come do...\n2347    My oh my. This is a rare blond Canadian terrie...\n2348    Here is a Siberian heavily armored polar bear ...\n2350    This is a truly beautiful English Wilson Staff...\n2352    This is a purebred Piers Morgan. Loves to Netf...\n2353    Here is a very happy pup. Big fan of well-main...\n2354    This is a western brown Mitsubishi terrier. Up...\nName: text, dtype: object"
     },
     "metadata": {},
     "execution_count": 19
    }
   ],
   "source": [
    "tw_archive.loc[tw_archive.name == 'a', 'text']"
   ]
  },
  {
   "cell_type": "code",
   "execution_count": 45,
   "metadata": {},
   "outputs": [
    {
     "output_type": "execute_result",
     "data": {
      "text/plain": "5       Here we have a majestic great white breaching ...\n7       When you watch your owner call another dog a g...\n12      Here's a puppo that seems to be on the fence a...\n24      You may not have known you needed to see this ...\n25      This... is a Jubilant Antarctic House Bear. We...\n                              ...                        \n2342    Here we have a well-established sunblockerspan...\n2343    Let's hope this flight isn't Malaysian (lol). ...\n2344    Here we have a northern speckled Rhododendron....\n2351    Here we have a 1949 1st generation vulpix. Enj...\n2355    Here we have a Japanese Irish Setter. Lost eye...\nName: text, Length: 745, dtype: object"
     },
     "metadata": {},
     "execution_count": 45
    }
   ],
   "source": [
    "tw_archive.loc[tw_archive.name == 'None', 'text']"
   ]
  },
  {
   "cell_type": "markdown",
   "metadata": {},
   "source": [
    "### Image Predictions"
   ]
  },
  {
   "cell_type": "code",
   "execution_count": 46,
   "metadata": {},
   "outputs": [
    {
     "output_type": "execute_result",
     "data": {
      "text/plain": "             tweet_id                                          jpg_url  \\\n0  666020888022790149  https://pbs.twimg.com/media/CT4udn0WwAA0aMy.jpg   \n1  666029285002620928  https://pbs.twimg.com/media/CT42GRgUYAA5iDo.jpg   \n2  666033412701032449  https://pbs.twimg.com/media/CT4521TWwAEvMyu.jpg   \n3  666044226329800704  https://pbs.twimg.com/media/CT5Dr8HUEAA-lEu.jpg   \n4  666049248165822465  https://pbs.twimg.com/media/CT5IQmsXIAAKY4A.jpg   \n\n   img_num                      p1   p1_conf  p1_dog                  p2  \\\n0        1  Welsh_springer_spaniel  0.465074    True              collie   \n1        1                 redbone  0.506826    True  miniature_pinscher   \n2        1         German_shepherd  0.596461    True            malinois   \n3        1     Rhodesian_ridgeback  0.408143    True             redbone   \n4        1      miniature_pinscher  0.560311    True          Rottweiler   \n\n    p2_conf  p2_dog                   p3   p3_conf  p3_dog  \n0  0.156665    True    Shetland_sheepdog  0.061428    True  \n1  0.074192    True  Rhodesian_ridgeback  0.072010    True  \n2  0.138584    True           bloodhound  0.116197    True  \n3  0.360687    True   miniature_pinscher  0.222752    True  \n4  0.243682    True             Doberman  0.154629    True  ",
      "text/html": "<div>\n<style scoped>\n    .dataframe tbody tr th:only-of-type {\n        vertical-align: middle;\n    }\n\n    .dataframe tbody tr th {\n        vertical-align: top;\n    }\n\n    .dataframe thead th {\n        text-align: right;\n    }\n</style>\n<table border=\"1\" class=\"dataframe\">\n  <thead>\n    <tr style=\"text-align: right;\">\n      <th></th>\n      <th>tweet_id</th>\n      <th>jpg_url</th>\n      <th>img_num</th>\n      <th>p1</th>\n      <th>p1_conf</th>\n      <th>p1_dog</th>\n      <th>p2</th>\n      <th>p2_conf</th>\n      <th>p2_dog</th>\n      <th>p3</th>\n      <th>p3_conf</th>\n      <th>p3_dog</th>\n    </tr>\n  </thead>\n  <tbody>\n    <tr>\n      <th>0</th>\n      <td>666020888022790149</td>\n      <td>https://pbs.twimg.com/media/CT4udn0WwAA0aMy.jpg</td>\n      <td>1</td>\n      <td>Welsh_springer_spaniel</td>\n      <td>0.465074</td>\n      <td>True</td>\n      <td>collie</td>\n      <td>0.156665</td>\n      <td>True</td>\n      <td>Shetland_sheepdog</td>\n      <td>0.061428</td>\n      <td>True</td>\n    </tr>\n    <tr>\n      <th>1</th>\n      <td>666029285002620928</td>\n      <td>https://pbs.twimg.com/media/CT42GRgUYAA5iDo.jpg</td>\n      <td>1</td>\n      <td>redbone</td>\n      <td>0.506826</td>\n      <td>True</td>\n      <td>miniature_pinscher</td>\n      <td>0.074192</td>\n      <td>True</td>\n      <td>Rhodesian_ridgeback</td>\n      <td>0.072010</td>\n      <td>True</td>\n    </tr>\n    <tr>\n      <th>2</th>\n      <td>666033412701032449</td>\n      <td>https://pbs.twimg.com/media/CT4521TWwAEvMyu.jpg</td>\n      <td>1</td>\n      <td>German_shepherd</td>\n      <td>0.596461</td>\n      <td>True</td>\n      <td>malinois</td>\n      <td>0.138584</td>\n      <td>True</td>\n      <td>bloodhound</td>\n      <td>0.116197</td>\n      <td>True</td>\n    </tr>\n    <tr>\n      <th>3</th>\n      <td>666044226329800704</td>\n      <td>https://pbs.twimg.com/media/CT5Dr8HUEAA-lEu.jpg</td>\n      <td>1</td>\n      <td>Rhodesian_ridgeback</td>\n      <td>0.408143</td>\n      <td>True</td>\n      <td>redbone</td>\n      <td>0.360687</td>\n      <td>True</td>\n      <td>miniature_pinscher</td>\n      <td>0.222752</td>\n      <td>True</td>\n    </tr>\n    <tr>\n      <th>4</th>\n      <td>666049248165822465</td>\n      <td>https://pbs.twimg.com/media/CT5IQmsXIAAKY4A.jpg</td>\n      <td>1</td>\n      <td>miniature_pinscher</td>\n      <td>0.560311</td>\n      <td>True</td>\n      <td>Rottweiler</td>\n      <td>0.243682</td>\n      <td>True</td>\n      <td>Doberman</td>\n      <td>0.154629</td>\n      <td>True</td>\n    </tr>\n  </tbody>\n</table>\n</div>"
     },
     "metadata": {},
     "execution_count": 46
    }
   ],
   "source": [
    "img_pred.head()"
   ]
  },
  {
   "cell_type": "code",
   "execution_count": 47,
   "metadata": {
    "tags": []
   },
   "outputs": [
    {
     "output_type": "stream",
     "name": "stdout",
     "text": "<class 'pandas.core.frame.DataFrame'>\nRangeIndex: 2075 entries, 0 to 2074\nData columns (total 12 columns):\n #   Column    Non-Null Count  Dtype  \n---  ------    --------------  -----  \n 0   tweet_id  2075 non-null   int64  \n 1   jpg_url   2075 non-null   object \n 2   img_num   2075 non-null   int64  \n 3   p1        2075 non-null   object \n 4   p1_conf   2075 non-null   float64\n 5   p1_dog    2075 non-null   bool   \n 6   p2        2075 non-null   object \n 7   p2_conf   2075 non-null   float64\n 8   p2_dog    2075 non-null   bool   \n 9   p3        2075 non-null   object \n 10  p3_conf   2075 non-null   float64\n 11  p3_dog    2075 non-null   bool   \ndtypes: bool(3), float64(3), int64(2), object(4)\nmemory usage: 152.1+ KB\n"
    }
   ],
   "source": [
    "img_pred.info()"
   ]
  },
  {
   "cell_type": "code",
   "execution_count": 48,
   "metadata": {},
   "outputs": [
    {
     "output_type": "execute_result",
     "data": {
      "text/plain": "golden_retriever      150\nLabrador_retriever    100\nPembroke               89\nChihuahua              83\npug                    57\n                     ... \njersey                  1\ndesktop_computer        1\ncanoe                   1\nconvertible             1\ntraffic_light           1\nName: p1, Length: 378, dtype: int64"
     },
     "metadata": {},
     "execution_count": 48
    }
   ],
   "source": [
    "img_pred.p1.value_counts()"
   ]
  },
  {
   "cell_type": "markdown",
   "metadata": {},
   "source": [
    "### Quality Issues\n",
    "\n",
    "- `tw_archive` mistaken missing names for 'None' as string\n",
    "- `tw_archive` mistaken 'a' as dog name. \n",
    "- `tw_archive` missing data in expanded_urls column\n",
    "- `tw_archive` datatype issues for (tweet_id, in_reply_to_status_id, in_reply_to_user_id, retweeted_status_id, retweeted_status_user_id)\n",
    "- `tw_archive` datatype issues for (timestamp, retweeted_status_timestamp)\n",
    "- `tw_archive` datatype issues for caegorized (tweet_state and dog_stages)\n",
    "- `tw_archive` retweeted tweets not important.\n",
    "- `tw_archive` extracted source link has html tags."
   ]
  },
  {
   "cell_type": "markdown",
   "metadata": {},
   "source": [
    "### Tidiness Issues\n",
    "- `tw_archive` Tweets state, i.e. whether (original, in-reply, retweet).\n",
    "- `tw_archive` dog stages into 4 columns. \n"
   ]
  },
  {
   "cell_type": "code",
   "execution_count": null,
   "metadata": {},
   "outputs": [],
   "source": []
  }
 ]
}