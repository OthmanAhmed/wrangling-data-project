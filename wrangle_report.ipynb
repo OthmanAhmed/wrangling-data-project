{
 "metadata": {
  "language_info": {
   "codemirror_mode": {
    "name": "ipython",
    "version": 3
   },
   "file_extension": ".py",
   "mimetype": "text/x-python",
   "name": "python",
   "nbconvert_exporter": "python",
   "pygments_lexer": "ipython3",
   "version": "3.6.10-final"
  },
  "orig_nbformat": 2,
  "kernelspec": {
   "name": "python3",
   "display_name": "Python 3"
  }
 },
 "nbformat": 4,
 "nbformat_minor": 2,
 "cells": [
  {
   "cell_type": "markdown",
   "metadata": {},
   "source": [
    "# Wrangle Report"
   ]
  },
  {
   "cell_type": "markdown",
   "metadata": {},
   "source": [
    "## Introduction\n",
    "\n",
    "The work is divided into 5 main parts: \n",
    "- First, gathering data from three main resources (handed file, downloaded file and twitter API).\n",
    "- Seecond, assessing the gathered data for both quality and tidiness issues.\n",
    "- Third, cleaning data and solving isuues assessed in previous part.\n",
    "- Forth, storing cleaned data.\n",
    "- Last, analyzing and visualizing cleaned data. "
   ]
  },
  {
   "cell_type": "markdown",
   "metadata": {},
   "source": [
    "## Gathering Data\n",
    "\n",
    "The data is gathered from 3 main sources. \n",
    "- File handeled as a hand on file, named `twitter_archive_enhanced.csv`.\n",
    "- File handled automatically from url. the file is named `image_predictions.tsv`.\n",
    "- Data collected through twitter API. This data is collected in json format and saved in `tweet_json.txt`.\n",
    "\n",
    "### Manually handeled\n",
    "\n",
    "This file was downloaded manually from Udacity. The file is of comma separated value type, and loaded into environment using `csv_read` method. This file has main tweet data such as (tweet_id, tweet.text).\n",
    "\n",
    "### Programmatic Downloading\n",
    "\n",
    "This file was downloaded Programmatically from [this link](https://d17h27t6h515a5.cloudfront.net/topher/2017/August/599fd2ad_image-predictions/image-predictions.tsv) using requests library and `get` method. The file was saved as `image_predictions.tsv`. The file is in tab seperated value format.  \n",
    "\n",
    "### Twitter API\n",
    "\n",
    "This data was gathered from twitter api using authentications saved in a csv file (not included in repo for security reasons). This data is gathered in json format for every tweet and saved in text file `tweet_json.txt` with newline character separating each tweet data.\n"
   ]
  },
  {
   "cell_type": "markdown",
   "metadata": {},
   "source": [
    "## Assessing Data \n",
    "\n",
    "Data was assessed visually and in a programmatic ways. The following issues were assessed. \n",
    "\n",
    "### Quality\n",
    "\n",
    "- `tw_archive` mistaken 'a' as dog name. \n",
    "- `tw_archive` mistaken missing names for 'None' as string\n",
    "- `tw_archive` Keep original tweets only.\n",
    "- `tw_archive` extra unwanted data columns i.e. (retweeted_status_user_id, retweeted_status_id, in_reply_to_status_id, in_reply_to_user_id)\n",
    "- some tweets are missing favourite_count and retweet_count\n",
    "- `tw_archive` datatype issues i.e. (tweet_id, favourite_count, retweet_count)\n",
    "- `tw_archive` datatype issues i.e. (timestamp)\n",
    "- `tw_archive` datatype issues i.e. caegorized dog_stages\n",
    "- `tw_archive` rating fraction missing to compare dogs\n",
    "- `img_pred` datatype issues with (tweet_id)\n",
    "- `img_pred` some tweets have no images in prediction.\n",
    "\n",
    "### Tidiness\n",
    "\n",
    "- `tw_archive` dog stages into 4 columns. \n",
    "- `tw_archive`, `tw_api` have data related to each other.\n",
    "- get both data frames on the same table to ease visualization"
   ]
  },
  {
   "cell_type": "markdown",
   "metadata": {},
   "source": [
    "## Cleaning\n",
    "\n",
    "***Solution Definitions:***  \n",
    "\n",
    "- extraxt the name of dog from tweet `text` using regex and replace 'a' with dog name  \n",
    "- extraxt the name of dog from tweet `text` using regex and replace 'None' with dog name  \n",
    "- Remove retweets and replies using their non null value in `in_reply_status_id` and `retweet_status_id` columns  \n",
    "- remove extra columns using drop method i.e. columns start with `in_reply` and `retweet`  \n",
    "- *merge both dataframes*: Extract the wanted data from `tw_api`. Then rename the `tweet_id` and compare to make sure it's the same tweet ids. after that merge the extracted data with `tw_archive_clean`  \n",
    "- merge these 4 columns into 1 column that have these all dog stages  \n",
    "- replace the unavailable tweet counts with mean count value.\n",
    "- convert dataTypes of columns (tweet_id, favourite_count, retweet_count) using `astype` method\n",
    "- convert timestamp column to datetime type using `to_datetime` method\n",
    "- convert dog_stage column to category datatype using `astype` method\n",
    "- calculate rating fraction using numertor and denominator \n",
    "- change tweet_id column in image_predictions to string using `astype`\n",
    "- merge both dataframes and remove tweets that have no image prediction\n"
   ]
  },
  {
   "cell_type": "markdown",
   "metadata": {},
   "source": [
    "## Storing Data \n",
    "The cleaned data was saved in a csv file called `twitter_archive_master.csv` using `to_csv` method"
   ]
  },
  {
   "cell_type": "markdown",
   "metadata": {},
   "source": [
    "## Visualizing \n",
    "\n",
    "Comparing dog stages favoriting and rating using mean values for retweet count, favorite count and rating fraction. Plot a scatter of different dog stage to compare rating fraction and favorite count. "
   ]
  }
 ]
}